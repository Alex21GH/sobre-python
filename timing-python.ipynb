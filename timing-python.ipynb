{
 "cells": [
  {
   "cell_type": "markdown",
   "id": "121f9a6a",
   "metadata": {},
   "source": [
    "# Medición de tiempo con Python"
   ]
  },
  {
   "cell_type": "markdown",
   "id": "88d0f581",
   "metadata": {},
   "source": [
    "La idea de estos apuntes es presentar medidas de tiempo para varias implementaciones de un mismo algoritmo desde Python y ver como la implementación afecta al rendimiento de este. Para esto se implementará una función que calcule la suma de números enteros."
   ]
  },
  {
   "cell_type": "markdown",
   "id": "f8d9d81b",
   "metadata": {},
   "source": [
    "## Módulo timeit"
   ]
  },
  {
   "cell_type": "markdown",
   "id": "0f4616d0",
   "metadata": {},
   "source": [
    "Se empleará para medir el tiempo. La forma de uso es mucho más complicada que lo que se muestra en los ejemplos, pero se emplea la forma simplificada por fines demostrativos. La función timeit devuelve el tiempo transcurrido luego de ejecutar la función indicada la cantidad de veces en su segundo argumento. Por esta razón, para obtener el tiempo promedio transcurrido se dividirá el resultado de `timeit` entre la cantidad de veces."
   ]
  },
  {
   "cell_type": "code",
   "execution_count": 1,
   "id": "f9484565",
   "metadata": {},
   "outputs": [],
   "source": [
    "import timeit"
   ]
  },
  {
   "cell_type": "markdown",
   "id": "83bf52d8",
   "metadata": {},
   "source": [
    "## Implementación while"
   ]
  },
  {
   "cell_type": "code",
   "execution_count": 2,
   "id": "113faa2d",
   "metadata": {},
   "outputs": [],
   "source": [
    "def sumar_enteros_while(n=1_000_000):\n",
    "    i = 0\n",
    "    s = 0\n",
    "    while (i < n):\n",
    "        s += i\n",
    "        i += 1\n",
    "    return s"
   ]
  },
  {
   "cell_type": "code",
   "execution_count": 3,
   "id": "241a512e",
   "metadata": {},
   "outputs": [
    {
     "data": {
      "text/plain": [
       "0.07605981799861183"
      ]
     },
     "execution_count": 3,
     "metadata": {},
     "output_type": "execute_result"
    }
   ],
   "source": [
    "timeit.timeit(sumar_enteros_while,number=1)"
   ]
  },
  {
   "cell_type": "code",
   "execution_count": 4,
   "id": "804c5d60",
   "metadata": {},
   "outputs": [
    {
     "data": {
      "text/plain": [
       "0.06783248360006837"
      ]
     },
     "execution_count": 4,
     "metadata": {},
     "output_type": "execute_result"
    }
   ],
   "source": [
    "timeit.timeit(sumar_enteros_while,number=10)/10"
   ]
  },
  {
   "cell_type": "code",
   "execution_count": 5,
   "id": "79e4f92e",
   "metadata": {},
   "outputs": [
    {
     "data": {
      "text/plain": [
       "0.06832824978999269"
      ]
     },
     "execution_count": 5,
     "metadata": {},
     "output_type": "execute_result"
    }
   ],
   "source": [
    "timeit.timeit(sumar_enteros_while,number=100)/100"
   ]
  },
  {
   "cell_type": "markdown",
   "id": "cb3796e0",
   "metadata": {},
   "source": [
    "## Implementación for"
   ]
  },
  {
   "cell_type": "code",
   "execution_count": 6,
   "id": "6e4ea045",
   "metadata": {},
   "outputs": [],
   "source": [
    "def sumar_enteros_for(n=1_000_000):\n",
    "    s = 0\n",
    "    for i in range(n):\n",
    "        s += i\n",
    "    return s"
   ]
  },
  {
   "cell_type": "code",
   "execution_count": 7,
   "id": "46586728",
   "metadata": {},
   "outputs": [
    {
     "data": {
      "text/plain": [
       "0.046052257996052504"
      ]
     },
     "execution_count": 7,
     "metadata": {},
     "output_type": "execute_result"
    }
   ],
   "source": [
    "timeit.timeit(sumar_enteros_for,number=1)"
   ]
  },
  {
   "cell_type": "code",
   "execution_count": 8,
   "id": "e0255cf7",
   "metadata": {},
   "outputs": [
    {
     "data": {
      "text/plain": [
       "0.043992033699760215"
      ]
     },
     "execution_count": 8,
     "metadata": {},
     "output_type": "execute_result"
    }
   ],
   "source": [
    "timeit.timeit(sumar_enteros_for,number=10)/10"
   ]
  },
  {
   "cell_type": "code",
   "execution_count": 9,
   "id": "014edb80",
   "metadata": {},
   "outputs": [
    {
     "data": {
      "text/plain": [
       "0.039094533739989855"
      ]
     },
     "execution_count": 9,
     "metadata": {},
     "output_type": "execute_result"
    }
   ],
   "source": [
    "timeit.timeit(sumar_enteros_for,number=100)/100"
   ]
  },
  {
   "cell_type": "markdown",
   "id": "0f70359b",
   "metadata": {},
   "source": [
    "Se puede observar que la función que emplea el bucle `for` es ligeramente más rápida que la función implementada con bucle `while`. Esto se debe a que la implementación con bucle `while` contiene una operación de comparación `i < n` y adicionalmente una operación para incrementar el contador `i += 1`. Si se modifica la función con bucle `for` para tener estas operaciones también impactará en su rendimiento."
   ]
  },
  {
   "cell_type": "code",
   "execution_count": 10,
   "id": "d6dd6a6c",
   "metadata": {},
   "outputs": [],
   "source": [
    "def sumar_enteros_for_incremento(n=1_000_000):\n",
    "    s = 0\n",
    "    c = 0\n",
    "    for i in range(n):\n",
    "        s += c\n",
    "        c += 1\n",
    "    return s"
   ]
  },
  {
   "cell_type": "code",
   "execution_count": 11,
   "id": "d7975400",
   "metadata": {},
   "outputs": [
    {
     "data": {
      "text/plain": [
       "0.06612304200098151"
      ]
     },
     "execution_count": 11,
     "metadata": {},
     "output_type": "execute_result"
    }
   ],
   "source": [
    "timeit.timeit(sumar_enteros_for_incremento,number=1)"
   ]
  },
  {
   "cell_type": "code",
   "execution_count": 12,
   "id": "3743e035",
   "metadata": {},
   "outputs": [
    {
     "data": {
      "text/plain": [
       "0.06262085940034012"
      ]
     },
     "execution_count": 12,
     "metadata": {},
     "output_type": "execute_result"
    }
   ],
   "source": [
    "timeit.timeit(sumar_enteros_for_incremento,number=10)/10"
   ]
  },
  {
   "cell_type": "code",
   "execution_count": 13,
   "id": "7ce1256e",
   "metadata": {},
   "outputs": [
    {
     "data": {
      "text/plain": [
       "0.06282922195001447"
      ]
     },
     "execution_count": 13,
     "metadata": {},
     "output_type": "execute_result"
    }
   ],
   "source": [
    "timeit.timeit(sumar_enteros_for_incremento,number=100)/100"
   ]
  },
  {
   "cell_type": "markdown",
   "id": "7b6c9f2a",
   "metadata": {},
   "source": [
    "Bastó con incluir una operación de incremento para que el tiempo sea relativamente similar a la implementación con bucle `while`. "
   ]
  },
  {
   "cell_type": "code",
   "execution_count": 14,
   "id": "cd504d6f",
   "metadata": {},
   "outputs": [],
   "source": [
    "def sumar_enteros_for_incremento_comp(n=1_000_000):\n",
    "    s = 0\n",
    "    c = 0\n",
    "    for i in range(n):\n",
    "        if i < n: \n",
    "            pass\n",
    "        s += c\n",
    "        c += 1\n",
    "    return s"
   ]
  },
  {
   "cell_type": "code",
   "execution_count": 15,
   "id": "0a8f40ee",
   "metadata": {},
   "outputs": [
    {
     "data": {
      "text/plain": [
       "0.08438501499767881"
      ]
     },
     "execution_count": 15,
     "metadata": {},
     "output_type": "execute_result"
    }
   ],
   "source": [
    "timeit.timeit(sumar_enteros_for_incremento_comp,number=1)"
   ]
  },
  {
   "cell_type": "code",
   "execution_count": 16,
   "id": "5f99c83e",
   "metadata": {},
   "outputs": [
    {
     "data": {
      "text/plain": [
       "0.08402678839993313"
      ]
     },
     "execution_count": 16,
     "metadata": {},
     "output_type": "execute_result"
    }
   ],
   "source": [
    "timeit.timeit(sumar_enteros_for_incremento_comp,number=10)/10"
   ]
  },
  {
   "cell_type": "code",
   "execution_count": 17,
   "id": "31f66356",
   "metadata": {},
   "outputs": [
    {
     "data": {
      "text/plain": [
       "0.0812453370399453"
      ]
     },
     "execution_count": 17,
     "metadata": {},
     "output_type": "execute_result"
    }
   ],
   "source": [
    "timeit.timeit(sumar_enteros_for_incremento_comp,number=100)/100"
   ]
  },
  {
   "cell_type": "markdown",
   "id": "7f1184f1",
   "metadata": {},
   "source": [
    "Al añadir la operación de comparación la función ahora es incluso más lenta. Se debe tener en cuenta estos detalles para implementar funciones. Un camino alternativo, es emplear las funciones internas que proporciona el lenguaje."
   ]
  },
  {
   "cell_type": "markdown",
   "id": "ff399471",
   "metadata": {},
   "source": [
    "## Con funciones internas"
   ]
  },
  {
   "cell_type": "code",
   "execution_count": 23,
   "id": "3a540272",
   "metadata": {},
   "outputs": [],
   "source": [
    "def sumar_enteros_idiomatic(n=1_000_000):\n",
    "    return sum(range(n))"
   ]
  },
  {
   "cell_type": "code",
   "execution_count": 24,
   "id": "d982ec6d",
   "metadata": {},
   "outputs": [
    {
     "data": {
      "text/plain": [
       "0.018655423999007326"
      ]
     },
     "execution_count": 24,
     "metadata": {},
     "output_type": "execute_result"
    }
   ],
   "source": [
    "timeit.timeit(sumar_enteros_idiomatic,number=1)"
   ]
  },
  {
   "cell_type": "code",
   "execution_count": 25,
   "id": "43b4d6e8",
   "metadata": {},
   "outputs": [
    {
     "data": {
      "text/plain": [
       "0.014241405999928246"
      ]
     },
     "execution_count": 25,
     "metadata": {},
     "output_type": "execute_result"
    }
   ],
   "source": [
    "timeit.timeit(sumar_enteros_idiomatic,number=10)/10"
   ]
  },
  {
   "cell_type": "code",
   "execution_count": 26,
   "id": "8001417d",
   "metadata": {},
   "outputs": [
    {
     "data": {
      "text/plain": [
       "0.011897028690000297"
      ]
     },
     "execution_count": 26,
     "metadata": {},
     "output_type": "execute_result"
    }
   ],
   "source": [
    "timeit.timeit(sumar_enteros_idiomatic,number=100)/100"
   ]
  },
  {
   "cell_type": "markdown",
   "id": "46721e01",
   "metadata": {},
   "source": [
    "Se observa que las funciones internas de Python ya están muy optimizadas y lo recomendable es emplearlas si están disponibles."
   ]
  },
  {
   "cell_type": "markdown",
   "id": "3457a4bd",
   "metadata": {},
   "source": [
    "## Consideraciones sobre las mediciones del tiempo"
   ]
  },
  {
   "cell_type": "markdown",
   "id": "365970a8",
   "metadata": {},
   "source": [
    "Como se mencionó el módulo timeit proporciona el tiempo acumulado una determinada cantidad de veces indicada en su segundo argumento. A continuación mediante el uso de gráficas se presentará más a detalle lo que ocurre con estas mediciones."
   ]
  },
  {
   "cell_type": "code",
   "execution_count": 21,
   "id": "9cb13dd0",
   "metadata": {},
   "outputs": [],
   "source": [
    "import matplotlib.pyplot as plt"
   ]
  },
  {
   "cell_type": "code",
   "execution_count": null,
   "id": "ad47e621",
   "metadata": {},
   "outputs": [],
   "source": [
    "x = list(range(len(times)))"
   ]
  },
  {
   "cell_type": "code",
   "execution_count": 31,
   "id": "92f2289a",
   "metadata": {},
   "outputs": [],
   "source": [
    "timeits = []\n",
    "t = 0\n",
    "for i in range(100):\n",
    "    t = timeit.timeit(sumar_enteros_while,number=1)\n",
    "    timeits.append(t)"
   ]
  },
  {
   "cell_type": "code",
   "execution_count": 32,
   "id": "454cb887",
   "metadata": {},
   "outputs": [
    {
     "data": {
      "text/plain": [
       "[<matplotlib.lines.Line2D at 0x7f340b2f8be0>]"
      ]
     },
     "execution_count": 32,
     "metadata": {},
     "output_type": "execute_result"
    },
    {
     "data": {
      "image/png": "[encoded data removed]",
      "text/plain": [
       "<Figure size 432x288 with 1 Axes>"
      ]
     },
     "metadata": {
      "needs_background": "light"
     },
     "output_type": "display_data"
    }
   ],
   "source": [
    "plt.plot(x,timeits)"
   ]
  },
  {
   "cell_type": "markdown",
   "id": "71f8fa79",
   "metadata": {},
   "source": [
    "Como se observa, las mediciones son irregulares y parecen tener picos. Esto puede ser debido a que el medidor de tiempo empleado es sensible al ruido. Por esto se empleará otro medidor de tiempo para ver que ocurre."
   ]
  },
  {
   "cell_type": "code",
   "execution_count": 18,
   "id": "3092811a",
   "metadata": {},
   "outputs": [],
   "source": [
    "import time"
   ]
  },
  {
   "cell_type": "code",
   "execution_count": 33,
   "id": "cefa4716",
   "metadata": {},
   "outputs": [],
   "source": [
    "times = []\n",
    "tic = 0\n",
    "toc = 0\n",
    "e = 0\n",
    "for i in range(100):\n",
    "    tic = time.time()\n",
    "    sumar_enteros_while()\n",
    "    toc = time.time()\n",
    "    e = toc - tic\n",
    "    times.append(e)"
   ]
  },
  {
   "cell_type": "code",
   "execution_count": 34,
   "id": "8af2cb1a",
   "metadata": {},
   "outputs": [
    {
     "data": {
      "text/plain": [
       "[<matplotlib.lines.Line2D at 0x7f340b264eb0>]"
      ]
     },
     "execution_count": 34,
     "metadata": {},
     "output_type": "execute_result"
    },
    {
     "data": {
      "image/png": "[encoded data removed]",
      "text/plain": [
       "<Figure size 432x288 with 1 Axes>"
      ]
     },
     "metadata": {
      "needs_background": "light"
     },
     "output_type": "display_data"
    }
   ],
   "source": [
    "plt.plot(x,times)"
   ]
  },
  {
   "cell_type": "markdown",
   "id": "74e7dff3",
   "metadata": {},
   "source": [
    "Un gráfico conjunto de las dos formas de medir el tiempo"
   ]
  },
  {
   "cell_type": "code",
   "execution_count": 35,
   "id": "0198d461",
   "metadata": {},
   "outputs": [
    {
     "data": {
      "text/plain": [
       "<matplotlib.legend.Legend at 0x7f340b24ed60>"
      ]
     },
     "execution_count": 35,
     "metadata": {},
     "output_type": "execute_result"
    },
    {
     "data": {
      "image/png": "[encoded data removed]",
      "text/plain": [
       "<Figure size 432x288 with 1 Axes>"
      ]
     },
     "metadata": {
      "needs_background": "light"
     },
     "output_type": "display_data"
    }
   ],
   "source": [
    "# gráfico con leyenda\n",
    "plt.plot(x,timeits, label='time.time')\n",
    "plt.plot(x,times, label='timeit.timeit')\n",
    "# para mostrar la leyenda\n",
    "plt.legend()"
   ]
  },
  {
   "cell_type": "markdown",
   "id": "7a1d2e59",
   "metadata": {},
   "source": [
    "Se observa que ambas mediciones de tiempo son muy irregulares. Sumar el ruido que se ha introducido en nuestras mediciones y luego promediar implicaría que estamos promediando el ruido y esto desviaría el resultado final de lo real. ¿Cómo medir esta distorsión? ¿Cómo eliminar el ruido?"
   ]
  },
  {
   "cell_type": "markdown",
   "id": "9e203cdb",
   "metadata": {},
   "source": [
    "## Filtro mediana unidimensional"
   ]
  },
  {
   "cell_type": "markdown",
   "id": "7ed87381",
   "metadata": {},
   "source": [
    "El filtro de mediana es un algoritmo empleado para eliminar."
   ]
  },
  {
   "cell_type": "code",
   "execution_count": 46,
   "id": "b88c187c",
   "metadata": {},
   "outputs": [],
   "source": [
    "import statistics"
   ]
  },
  {
   "cell_type": "code",
   "execution_count": 55,
   "id": "2a3c689c",
   "metadata": {},
   "outputs": [],
   "source": [
    "timeitsn = []\n",
    "ventana = 9\n",
    "for i in range(len(timeits)):\n",
    "    inicio = i - ventana if (i - ventana > 0) else i\n",
    "    fin = i + ventana if (i + ventana < len(timeits)) else len(timeits)\n",
    "    timeitsn.append(statistics.median(times[inicio:fin]))"
   ]
  },
  {
   "cell_type": "code",
   "execution_count": 56,
   "id": "44d8eb8b",
   "metadata": {},
   "outputs": [
    {
     "data": {
      "text/plain": [
       "<matplotlib.legend.Legend at 0x7f340afdbee0>"
      ]
     },
     "execution_count": 56,
     "metadata": {},
     "output_type": "execute_result"
    },
    {
     "data": {
      "image/png": "[encoded data removed]",
      "text/plain": [
       "<Figure size 432x288 with 1 Axes>"
      ]
     },
     "metadata": {
      "needs_background": "light"
     },
     "output_type": "display_data"
    }
   ],
   "source": [
    "# gráfico con leyenda\n",
    "plt.plot(x,timeits, label='con ruido')\n",
    "plt.plot(x,timeitsn, label='sin ruido')\n",
    "# para mostrar la leyenda\n",
    "plt.legend()"
   ]
  },
  {
   "cell_type": "markdown",
   "id": "89679210",
   "metadata": {},
   "source": [
    "Como puede observar en la gráfica, una vez aplicado el filtro a las mediciones, la tendencia es más regular."
   ]
  }
 ],
 "metadata": {
  "kernelspec": {
   "display_name": "Python 3 (ipykernel)",
   "language": "python",
   "name": "python3"
  },
  "language_info": {
   "codemirror_mode": {
    "name": "ipython",
    "version": 3
   },
   "file_extension": ".py",
   "mimetype": "text/x-python",
   "name": "python",
   "nbconvert_exporter": "python",
   "pygments_lexer": "ipython3",
   "version": "3.8.10"
  }
 },
 "nbformat": 4,
 "nbformat_minor": 5
}
