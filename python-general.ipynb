{
 "cells": [
  {
   "cell_type": "markdown",
   "id": "6ceb18ea",
   "metadata": {},
   "source": [
    "# Primeros pasos"
   ]
  },
  {
   "cell_type": "markdown",
   "id": "2ae63001",
   "metadata": {},
   "source": [
    "Para imprimir un texto"
   ]
  },
  {
   "cell_type": "code",
   "execution_count": 1,
   "id": "1d210350",
   "metadata": {},
   "outputs": [
    {
     "name": "stdout",
     "output_type": "stream",
     "text": [
      "Hola mundo\n"
     ]
    }
   ],
   "source": [
    "print('Hola mundo')"
   ]
  },
  {
   "cell_type": "markdown",
   "id": "cdb2e6c0",
   "metadata": {},
   "source": [
    "Para capturar la entrada desde el teclado"
   ]
  },
  {
   "cell_type": "code",
   "execution_count": 2,
   "id": "7cedf762",
   "metadata": {},
   "outputs": [
    {
     "name": "stdout",
     "output_type": "stream",
     "text": [
      "Ingresar el nombre: Pepe\n"
     ]
    }
   ],
   "source": [
    "nombre = input('Ingresar el nombre: ')"
   ]
  },
  {
   "cell_type": "code",
   "execution_count": 3,
   "id": "5021daec",
   "metadata": {},
   "outputs": [
    {
     "data": {
      "text/plain": [
       "'Pepe'"
      ]
     },
     "execution_count": 3,
     "metadata": {},
     "output_type": "execute_result"
    }
   ],
   "source": [
    "nombre"
   ]
  },
  {
   "cell_type": "markdown",
   "id": "9a2cd62c",
   "metadata": {},
   "source": [
    "# Variables"
   ]
  },
  {
   "cell_type": "markdown",
   "id": "e2a8a292",
   "metadata": {},
   "source": [
    "No pueden empezar con números o símbolos"
   ]
  },
  {
   "cell_type": "code",
   "execution_count": 4,
   "id": "d170767e",
   "metadata": {},
   "outputs": [],
   "source": [
    "a1 = 1"
   ]
  },
  {
   "cell_type": "code",
   "execution_count": 5,
   "id": "a954bfe4",
   "metadata": {},
   "outputs": [
    {
     "data": {
      "text/plain": [
       "1"
      ]
     },
     "execution_count": 5,
     "metadata": {},
     "output_type": "execute_result"
    }
   ],
   "source": [
    "a1"
   ]
  },
  {
   "cell_type": "code",
   "execution_count": 6,
   "id": "9f2f6785",
   "metadata": {},
   "outputs": [],
   "source": [
    "mivar = 'variable'"
   ]
  },
  {
   "cell_type": "code",
   "execution_count": 7,
   "id": "8ebb4051",
   "metadata": {},
   "outputs": [
    {
     "data": {
      "text/plain": [
       "'variable'"
      ]
     },
     "execution_count": 7,
     "metadata": {},
     "output_type": "execute_result"
    }
   ],
   "source": [
    "mivar"
   ]
  },
  {
   "cell_type": "markdown",
   "id": "13b4a108",
   "metadata": {},
   "source": [
    "# Tipos"
   ]
  },
  {
   "cell_type": "code",
   "execution_count": 8,
   "id": "a62fe805",
   "metadata": {},
   "outputs": [
    {
     "name": "stdout",
     "output_type": "stream",
     "text": [
      "<class 'int'>\n"
     ]
    }
   ],
   "source": [
    "print(type(10))"
   ]
  },
  {
   "cell_type": "code",
   "execution_count": 9,
   "id": "25780058",
   "metadata": {},
   "outputs": [
    {
     "name": "stdout",
     "output_type": "stream",
     "text": [
      "<class 'float'>\n"
     ]
    }
   ],
   "source": [
    "print(type(3.4))"
   ]
  },
  {
   "cell_type": "code",
   "execution_count": 10,
   "id": "35cc8b13",
   "metadata": {},
   "outputs": [
    {
     "name": "stdout",
     "output_type": "stream",
     "text": [
      "<class 'complex'>\n"
     ]
    }
   ],
   "source": [
    "print(type(3+5j))"
   ]
  },
  {
   "cell_type": "code",
   "execution_count": 11,
   "id": "5777a76b",
   "metadata": {},
   "outputs": [
    {
     "name": "stdout",
     "output_type": "stream",
     "text": [
      "<class 'str'>\n"
     ]
    }
   ],
   "source": [
    "print(type('Hola'))"
   ]
  },
  {
   "cell_type": "code",
   "execution_count": 12,
   "id": "11765edc",
   "metadata": {},
   "outputs": [
    {
     "name": "stdout",
     "output_type": "stream",
     "text": [
      "<class 'bool'>\n"
     ]
    }
   ],
   "source": [
    "print(type(True))"
   ]
  },
  {
   "cell_type": "markdown",
   "id": "cb54b6ba",
   "metadata": {},
   "source": [
    "# Cast"
   ]
  },
  {
   "cell_type": "code",
   "execution_count": 13,
   "id": "b34554b0",
   "metadata": {},
   "outputs": [
    {
     "name": "stdout",
     "output_type": "stream",
     "text": [
      "Cast de integer a string 4\n"
     ]
    }
   ],
   "source": [
    "print(\"Cast de integer a string\",str(4))"
   ]
  },
  {
   "cell_type": "code",
   "execution_count": 14,
   "id": "34e3920e",
   "metadata": {},
   "outputs": [
    {
     "name": "stdout",
     "output_type": "stream",
     "text": [
      "Cast de float a integer 4\n"
     ]
    }
   ],
   "source": [
    "print(\"Cast de float a integer\",int(4.9))"
   ]
  },
  {
   "cell_type": "code",
   "execution_count": 15,
   "id": "b65c59f5",
   "metadata": {},
   "outputs": [
    {
     "name": "stdout",
     "output_type": "stream",
     "text": [
      "Cast de integer a float 4.0\n"
     ]
    }
   ],
   "source": [
    "print(\"Cast de integer a float\",float(4))"
   ]
  },
  {
   "cell_type": "markdown",
   "id": "0a9f1a78",
   "metadata": {},
   "source": [
    "# Output"
   ]
  },
  {
   "cell_type": "code",
   "execution_count": 16,
   "id": "b8dc10a0",
   "metadata": {},
   "outputs": [
    {
     "name": "stdout",
     "output_type": "stream",
     "text": [
      "20/1/2013\n"
     ]
    }
   ],
   "source": [
    "print(20,1,2013, sep='/')"
   ]
  },
  {
   "cell_type": "code",
   "execution_count": 17,
   "id": "1183eee9",
   "metadata": {},
   "outputs": [
    {
     "name": "stdout",
     "output_type": "stream",
     "text": [
      "0001 El Pepe 1.23 X\n"
     ]
    }
   ],
   "source": [
    "print('%04d %s %.2f %c' % (1, 'El Pepe', 1.23456789, 'X'))"
   ]
  },
  {
   "cell_type": "code",
   "execution_count": 18,
   "id": "8666727c",
   "metadata": {
    "scrolled": true
   },
   "outputs": [
    {
     "name": "stdout",
     "output_type": "stream",
     "text": [
      "5 + 2 = 7\n"
     ]
    }
   ],
   "source": [
    "print('5 + 2 =', 5 + 2)"
   ]
  },
  {
   "cell_type": "code",
   "execution_count": 19,
   "id": "8361966c",
   "metadata": {
    "scrolled": true
   },
   "outputs": [
    {
     "name": "stdout",
     "output_type": "stream",
     "text": [
      "5 - 2 = 3\n"
     ]
    }
   ],
   "source": [
    "print('5 - 2 =', 5 - 2)"
   ]
  },
  {
   "cell_type": "code",
   "execution_count": 20,
   "id": "af2a79dd",
   "metadata": {
    "scrolled": true
   },
   "outputs": [
    {
     "name": "stdout",
     "output_type": "stream",
     "text": [
      "5 + 2 = 7\n"
     ]
    }
   ],
   "source": [
    "print('5 + 2 =', 5 + 2)"
   ]
  },
  {
   "cell_type": "code",
   "execution_count": 21,
   "id": "453c1858",
   "metadata": {
    "scrolled": true
   },
   "outputs": [
    {
     "name": "stdout",
     "output_type": "stream",
     "text": [
      "5 * 2 = 10\n"
     ]
    }
   ],
   "source": [
    "print('5 * 2 =', 5 * 2)"
   ]
  },
  {
   "cell_type": "code",
   "execution_count": 22,
   "id": "9a465e36",
   "metadata": {
    "scrolled": true
   },
   "outputs": [
    {
     "name": "stdout",
     "output_type": "stream",
     "text": [
      "5 / 2 = 2.5\n"
     ]
    }
   ],
   "source": [
    "print('5 / 2 =', 5 / 2)"
   ]
  },
  {
   "cell_type": "code",
   "execution_count": 23,
   "id": "2a7150c0",
   "metadata": {
    "scrolled": true
   },
   "outputs": [
    {
     "name": "stdout",
     "output_type": "stream",
     "text": [
      "5 % 2 = 1\n"
     ]
    }
   ],
   "source": [
    "print('5 % 2 =', 5 % 2)"
   ]
  },
  {
   "cell_type": "code",
   "execution_count": 24,
   "id": "9bf5d508",
   "metadata": {
    "scrolled": true
   },
   "outputs": [
    {
     "name": "stdout",
     "output_type": "stream",
     "text": [
      "5 ** 2 = 25\n"
     ]
    }
   ],
   "source": [
    "print('5 ** 2 =', 5 ** 2)"
   ]
  },
  {
   "cell_type": "code",
   "execution_count": 25,
   "id": "3797b221",
   "metadata": {
    "scrolled": true
   },
   "outputs": [
    {
     "name": "stdout",
     "output_type": "stream",
     "text": [
      "5 // 2 = 2\n"
     ]
    }
   ],
   "source": [
    "print('5 // 2 =', 5 // 2)"
   ]
  },
  {
   "cell_type": "code",
   "execution_count": 26,
   "id": "5c0865f8",
   "metadata": {},
   "outputs": [
    {
     "name": "stdout",
     "output_type": "stream",
     "text": [
      "1+2=3\n"
     ]
    }
   ],
   "source": [
    "a = 1\n",
    "b = 2\n",
    "print(f'{a}+{b}={a+b}')"
   ]
  },
  {
   "cell_type": "code",
   "execution_count": 27,
   "id": "835d87af",
   "metadata": {},
   "outputs": [
    {
     "name": "stdout",
     "output_type": "stream",
     "text": [
      "1+2=3\n"
     ]
    }
   ],
   "source": [
    "print('{}+{}={}'.format(a,b,a+b))"
   ]
  },
  {
   "cell_type": "markdown",
   "id": "43da8c43",
   "metadata": {},
   "source": [
    "# Módulo Math"
   ]
  },
  {
   "cell_type": "code",
   "execution_count": 28,
   "id": "96074edc",
   "metadata": {},
   "outputs": [],
   "source": [
    "import math"
   ]
  },
  {
   "cell_type": "code",
   "execution_count": 29,
   "id": "8af1bb41",
   "metadata": {},
   "outputs": [
    {
     "name": "stdout",
     "output_type": "stream",
     "text": [
      "abs(-1) = 1\n"
     ]
    }
   ],
   "source": [
    "print('abs(-1) =',abs(-1))"
   ]
  },
  {
   "cell_type": "code",
   "execution_count": 30,
   "id": "24e7cb2a",
   "metadata": {},
   "outputs": [
    {
     "name": "stdout",
     "output_type": "stream",
     "text": [
      "max(5,4) = 5\n"
     ]
    }
   ],
   "source": [
    "print('max(5,4) =',max(5,4))"
   ]
  },
  {
   "cell_type": "code",
   "execution_count": 31,
   "id": "b1582e50",
   "metadata": {},
   "outputs": [
    {
     "name": "stdout",
     "output_type": "stream",
     "text": [
      "min(5,4) = 4\n"
     ]
    }
   ],
   "source": [
    "print('min(5,4) =',min(5,4))"
   ]
  },
  {
   "cell_type": "code",
   "execution_count": 32,
   "id": "b5b71420",
   "metadata": {},
   "outputs": [
    {
     "name": "stdout",
     "output_type": "stream",
     "text": [
      "pow(2,4) = 16\n"
     ]
    }
   ],
   "source": [
    "print('pow(2,4) =',pow(2,4))"
   ]
  },
  {
   "cell_type": "code",
   "execution_count": 33,
   "id": "dcfe51a1",
   "metadata": {},
   "outputs": [
    {
     "name": "stdout",
     "output_type": "stream",
     "text": [
      "ceil(4.5) = 5\n"
     ]
    }
   ],
   "source": [
    "print('ceil(4.5) =',math.ceil(4.5))"
   ]
  },
  {
   "cell_type": "code",
   "execution_count": 34,
   "id": "776da238",
   "metadata": {},
   "outputs": [
    {
     "name": "stdout",
     "output_type": "stream",
     "text": [
      "floor(4.5) = 4\n"
     ]
    }
   ],
   "source": [
    "print('floor(4.5) =',math.floor(4.5))"
   ]
  },
  {
   "cell_type": "code",
   "execution_count": 35,
   "id": "50072004",
   "metadata": {},
   "outputs": [
    {
     "name": "stdout",
     "output_type": "stream",
     "text": [
      "round(4.5) = 4\n"
     ]
    }
   ],
   "source": [
    "print('round(4.5) =',round(4.5))"
   ]
  },
  {
   "cell_type": "code",
   "execution_count": 36,
   "id": "12b6c152",
   "metadata": {},
   "outputs": [
    {
     "name": "stdout",
     "output_type": "stream",
     "text": [
      "exp(1) = 2.718281828459045\n"
     ]
    }
   ],
   "source": [
    "print('exp(1) =', math.exp(1))"
   ]
  },
  {
   "cell_type": "code",
   "execution_count": 37,
   "id": "50cf6646",
   "metadata": {},
   "outputs": [
    {
     "name": "stdout",
     "output_type": "stream",
     "text": [
      "log(e) = 1.0\n"
     ]
    }
   ],
   "source": [
    "print('log(e) =', math.log(math.exp(1)))"
   ]
  },
  {
   "cell_type": "code",
   "execution_count": 38,
   "id": "3c85df86",
   "metadata": {},
   "outputs": [
    {
     "name": "stdout",
     "output_type": "stream",
     "text": [
      "log(100) = 2.0\n"
     ]
    }
   ],
   "source": [
    "print('log(100) =', math.log(100,10))"
   ]
  },
  {
   "cell_type": "code",
   "execution_count": 39,
   "id": "d6077f80",
   "metadata": {},
   "outputs": [
    {
     "name": "stdout",
     "output_type": "stream",
     "text": [
      "sqrt(100) = 10.0\n"
     ]
    }
   ],
   "source": [
    "print('sqrt(100) =', math.sqrt(100))"
   ]
  },
  {
   "cell_type": "code",
   "execution_count": 40,
   "id": "cc38ab9e",
   "metadata": {},
   "outputs": [
    {
     "name": "stdout",
     "output_type": "stream",
     "text": [
      "sin(0) = 0.0\n"
     ]
    }
   ],
   "source": [
    "print('sin(0) =', math.sin(0))"
   ]
  },
  {
   "cell_type": "code",
   "execution_count": 41,
   "id": "658fe914",
   "metadata": {},
   "outputs": [
    {
     "name": "stdout",
     "output_type": "stream",
     "text": [
      "sin(pi/2) = 1.0\n"
     ]
    }
   ],
   "source": [
    "print('sin(pi/2) =', math.sin(math.pi/2))"
   ]
  },
  {
   "cell_type": "code",
   "execution_count": 42,
   "id": "d5025ac7",
   "metadata": {},
   "outputs": [
    {
     "name": "stdout",
     "output_type": "stream",
     "text": [
      "asin(0) = 0.0\n"
     ]
    }
   ],
   "source": [
    "print('asin(0) =', math.asin(0))"
   ]
  },
  {
   "cell_type": "code",
   "execution_count": 43,
   "id": "5440a317",
   "metadata": {},
   "outputs": [
    {
     "name": "stdout",
     "output_type": "stream",
     "text": [
      "asin(1.0) = 1.5707963267948966\n"
     ]
    }
   ],
   "source": [
    "print('asin(1.0) =', math.asin(1.0))"
   ]
  },
  {
   "cell_type": "markdown",
   "id": "b05c812e",
   "metadata": {},
   "source": [
    "# Módulo random"
   ]
  },
  {
   "cell_type": "code",
   "execution_count": 44,
   "id": "4f530b21",
   "metadata": {},
   "outputs": [],
   "source": [
    "import random"
   ]
  },
  {
   "cell_type": "code",
   "execution_count": 45,
   "id": "a1f572b8",
   "metadata": {},
   "outputs": [
    {
     "name": "stdout",
     "output_type": "stream",
     "text": [
      "entero aleatorio entre 1 y 101 = 91\n"
     ]
    }
   ],
   "source": [
    "print('entero aleatorio entre 1 y 101 =', random.randint(1,101))"
   ]
  },
  {
   "cell_type": "markdown",
   "id": "76c47279",
   "metadata": {},
   "source": [
    "# Strings"
   ]
  },
  {
   "cell_type": "code",
   "execution_count": 46,
   "id": "6bdb8153",
   "metadata": {},
   "outputs": [
    {
     "name": "stdout",
     "output_type": "stream",
     "text": [
      "Algo\n",
      "\n"
     ]
    }
   ],
   "source": [
    "print('Algo\\n')"
   ]
  },
  {
   "cell_type": "code",
   "execution_count": 47,
   "id": "d8d4cea1",
   "metadata": {},
   "outputs": [
    {
     "name": "stdout",
     "output_type": "stream",
     "text": [
      "Algo\\n\n"
     ]
    }
   ],
   "source": [
    "print(r'Algo\\n')"
   ]
  },
  {
   "cell_type": "code",
   "execution_count": 48,
   "id": "9d992b48",
   "metadata": {},
   "outputs": [
    {
     "name": "stdout",
     "output_type": "stream",
     "text": [
      "Hola mundo\n"
     ]
    }
   ],
   "source": [
    "print('Hola ' + 'mundo')"
   ]
  },
  {
   "cell_type": "code",
   "execution_count": 49,
   "id": "e0684158",
   "metadata": {},
   "outputs": [],
   "source": [
    "micadena = 'mi cadena'"
   ]
  },
  {
   "cell_type": "code",
   "execution_count": 50,
   "id": "ea261fe8",
   "metadata": {},
   "outputs": [
    {
     "name": "stdout",
     "output_type": "stream",
     "text": [
      "longitud de la cadena: 9\n"
     ]
    }
   ],
   "source": [
    "print('longitud de la cadena:',len(micadena))"
   ]
  },
  {
   "cell_type": "code",
   "execution_count": 51,
   "id": "dd3a831f",
   "metadata": {},
   "outputs": [
    {
     "name": "stdout",
     "output_type": "stream",
     "text": [
      "Primer caracter: m\n"
     ]
    }
   ],
   "source": [
    "print('Primer caracter:',micadena[0])"
   ]
  },
  {
   "cell_type": "code",
   "execution_count": 52,
   "id": "52bd3d68",
   "metadata": {},
   "outputs": [
    {
     "name": "stdout",
     "output_type": "stream",
     "text": [
      "Primeros tres caracteres: mi \n"
     ]
    }
   ],
   "source": [
    "print('Primeros tres caracteres:', micadena[0:3])"
   ]
  },
  {
   "cell_type": "code",
   "execution_count": 53,
   "id": "24ea7e8f",
   "metadata": {},
   "outputs": [
    {
     "name": "stdout",
     "output_type": "stream",
     "text": [
      "Los otros caracteres: cadena\n"
     ]
    }
   ],
   "source": [
    "print('Los otros caracteres:', micadena[3:])"
   ]
  },
  {
   "cell_type": "code",
   "execution_count": 54,
   "id": "0688d6d3",
   "metadata": {},
   "outputs": [
    {
     "name": "stdout",
     "output_type": "stream",
     "text": [
      "Dejando un espacio: m aea\n"
     ]
    }
   ],
   "source": [
    "print('Dejando un espacio:', micadena[0::2])"
   ]
  },
  {
   "cell_type": "code",
   "execution_count": 55,
   "id": "44721397",
   "metadata": {},
   "outputs": [
    {
     "name": "stdout",
     "output_type": "stream",
     "text": [
      "Último caracter: a\n"
     ]
    }
   ],
   "source": [
    "print('Último caracter:',micadena[-1])"
   ]
  },
  {
   "cell_type": "code",
   "execution_count": 56,
   "id": "b34f1915",
   "metadata": {},
   "outputs": [],
   "source": [
    "micadena = micadena.replace('mi','tu')"
   ]
  },
  {
   "cell_type": "code",
   "execution_count": 57,
   "id": "c118519f",
   "metadata": {},
   "outputs": [
    {
     "data": {
      "text/plain": [
       "'tu cadena'"
      ]
     },
     "execution_count": 57,
     "metadata": {},
     "output_type": "execute_result"
    }
   ],
   "source": [
    "micadena"
   ]
  },
  {
   "cell_type": "code",
   "execution_count": 58,
   "id": "94ff09e8",
   "metadata": {},
   "outputs": [
    {
     "name": "stdout",
     "output_type": "stream",
     "text": [
      "False\n"
     ]
    }
   ],
   "source": [
    "print('mi' in micadena)"
   ]
  },
  {
   "cell_type": "code",
   "execution_count": 59,
   "id": "a4194b42",
   "metadata": {},
   "outputs": [
    {
     "name": "stdout",
     "output_type": "stream",
     "text": [
      "True\n"
     ]
    }
   ],
   "source": [
    "print('tu' in micadena)"
   ]
  },
  {
   "cell_type": "code",
   "execution_count": 60,
   "id": "07dc11f7",
   "metadata": {},
   "outputs": [
    {
     "data": {
      "text/plain": [
       "3"
      ]
     },
     "execution_count": 60,
     "metadata": {},
     "output_type": "execute_result"
    }
   ],
   "source": [
    "micadena.find('cadena')"
   ]
  },
  {
   "cell_type": "code",
   "execution_count": 61,
   "id": "a12307e2",
   "metadata": {},
   "outputs": [
    {
     "name": "stdout",
     "output_type": "stream",
     "text": [
      "algunas palabras para la lista\n"
     ]
    }
   ],
   "source": [
    "print(' '.join(['algunas','palabras','para','la','lista']))"
   ]
  },
  {
   "cell_type": "code",
   "execution_count": 62,
   "id": "45be4db4",
   "metadata": {},
   "outputs": [
    {
     "name": "stdout",
     "output_type": "stream",
     "text": [
      "algunas-palabras-para-la-lista\n"
     ]
    }
   ],
   "source": [
    "print('-'.join(['algunas','palabras','para','la','lista']))"
   ]
  },
  {
   "cell_type": "code",
   "execution_count": 63,
   "id": "d587235a",
   "metadata": {},
   "outputs": [
    {
     "data": {
      "text/plain": [
       "'tu cadena'"
      ]
     },
     "execution_count": 63,
     "metadata": {},
     "output_type": "execute_result"
    }
   ],
   "source": [
    "micadena"
   ]
  },
  {
   "cell_type": "code",
   "execution_count": 64,
   "id": "b6d57304",
   "metadata": {},
   "outputs": [
    {
     "name": "stdout",
     "output_type": "stream",
     "text": [
      "TU CADENA\n"
     ]
    }
   ],
   "source": [
    "print(micadena.upper())"
   ]
  },
  {
   "cell_type": "code",
   "execution_count": 65,
   "id": "d8fda075",
   "metadata": {},
   "outputs": [
    {
     "name": "stdout",
     "output_type": "stream",
     "text": [
      "una cadena\n"
     ]
    }
   ],
   "source": [
    "print('UNA CADENA'.lower())"
   ]
  },
  {
   "cell_type": "code",
   "execution_count": 66,
   "id": "7d231bb9",
   "metadata": {},
   "outputs": [
    {
     "name": "stdout",
     "output_type": "stream",
     "text": [
      "True\n"
     ]
    }
   ],
   "source": [
    "print('123'.isalnum())"
   ]
  },
  {
   "cell_type": "code",
   "execution_count": 67,
   "id": "dbbb755c",
   "metadata": {},
   "outputs": [
    {
     "name": "stdout",
     "output_type": "stream",
     "text": [
      "True\n"
     ]
    }
   ],
   "source": [
    "print('abc'.isalpha())"
   ]
  },
  {
   "cell_type": "code",
   "execution_count": 68,
   "id": "68b26bf2",
   "metadata": {},
   "outputs": [
    {
     "name": "stdout",
     "output_type": "stream",
     "text": [
      "True\n"
     ]
    }
   ],
   "source": [
    "print('1'.isdigit())"
   ]
  },
  {
   "cell_type": "code",
   "execution_count": 69,
   "id": "ebb2d759",
   "metadata": {},
   "outputs": [
    {
     "name": "stdout",
     "output_type": "stream",
     "text": [
      "True\n"
     ]
    }
   ],
   "source": [
    "print('125'.isdigit())"
   ]
  },
  {
   "cell_type": "markdown",
   "id": "03b319e0",
   "metadata": {},
   "source": [
    "# Condicionales"
   ]
  },
  {
   "cell_type": "code",
   "execution_count": 70,
   "id": "c31351ca",
   "metadata": {},
   "outputs": [
    {
     "name": "stdout",
     "output_type": "stream",
     "text": [
      "sexo femenino\n"
     ]
    }
   ],
   "source": [
    "sexo = 'F'\n",
    "if (sexo == 'M'):\n",
    "    print('sexo masculino')\n",
    "elif (sexo == 'F'):\n",
    "    print('sexo femenino')\n",
    "else:\n",
    "    print('otros')"
   ]
  },
  {
   "cell_type": "code",
   "execution_count": 71,
   "id": "574e58af",
   "metadata": {},
   "outputs": [],
   "source": [
    "edad = 1\n",
    "esVotante = True if edad >= 18 else False"
   ]
  },
  {
   "cell_type": "code",
   "execution_count": 72,
   "id": "35ca0550",
   "metadata": {},
   "outputs": [
    {
     "data": {
      "text/plain": [
       "False"
      ]
     },
     "execution_count": 72,
     "metadata": {},
     "output_type": "execute_result"
    }
   ],
   "source": [
    "esVotante"
   ]
  },
  {
   "cell_type": "markdown",
   "id": "47966d71",
   "metadata": {},
   "source": [
    "# Bucle While"
   ]
  },
  {
   "cell_type": "code",
   "execution_count": 73,
   "id": "4bad57c0",
   "metadata": {},
   "outputs": [
    {
     "name": "stdout",
     "output_type": "stream",
     "text": [
      "1\n",
      "2\n",
      "3\n",
      "4\n"
     ]
    }
   ],
   "source": [
    "a = 1\n",
    "while a < 5:\n",
    "    print(a)\n",
    "    a += 1"
   ]
  },
  {
   "cell_type": "code",
   "execution_count": 74,
   "id": "751d64ac",
   "metadata": {},
   "outputs": [
    {
     "name": "stdout",
     "output_type": "stream",
     "text": [
      "0\n",
      "2\n",
      "4\n",
      "6\n",
      "8\n",
      "is 9\n",
      "10\n",
      "12\n",
      "14\n",
      "16\n",
      "18\n",
      "20\n"
     ]
    }
   ],
   "source": [
    "b = 0\n",
    "while b <= 20:\n",
    "    if b % 2 == 0:\n",
    "        print(b)\n",
    "    elif b == 9:\n",
    "        print('is 9')\n",
    "    else:\n",
    "        b += 1\n",
    "        continue\n",
    "    b += 1"
   ]
  },
  {
   "cell_type": "markdown",
   "id": "f51c6e75",
   "metadata": {},
   "source": [
    "# Listas"
   ]
  },
  {
   "cell_type": "code",
   "execution_count": 75,
   "id": "620725ae",
   "metadata": {},
   "outputs": [],
   "source": [
    "milista = [1, 3.14, 'Pepe', True]"
   ]
  },
  {
   "cell_type": "code",
   "execution_count": 76,
   "id": "5edec9e2",
   "metadata": {},
   "outputs": [
    {
     "data": {
      "text/plain": [
       "[1, 3.14, 'Pepe', True]"
      ]
     },
     "execution_count": 76,
     "metadata": {},
     "output_type": "execute_result"
    }
   ],
   "source": [
    "milista"
   ]
  },
  {
   "cell_type": "code",
   "execution_count": 77,
   "id": "617c606d",
   "metadata": {},
   "outputs": [
    {
     "name": "stdout",
     "output_type": "stream",
     "text": [
      "la longitug de [1, 3.14, 'Pepe', True] es 4\n"
     ]
    }
   ],
   "source": [
    "print(f'la longitug de {milista} es {len(milista)}')"
   ]
  },
  {
   "cell_type": "code",
   "execution_count": 78,
   "id": "07bc644a",
   "metadata": {},
   "outputs": [
    {
     "name": "stdout",
     "output_type": "stream",
     "text": [
      "el primer elemento de [1, 3.14, 'Pepe', True] es 1\n"
     ]
    }
   ],
   "source": [
    "print(f'el primer elemento de {milista} es {milista[0]}')"
   ]
  },
  {
   "cell_type": "code",
   "execution_count": 79,
   "id": "ab0ec441",
   "metadata": {},
   "outputs": [
    {
     "name": "stdout",
     "output_type": "stream",
     "text": [
      "el último elemento de [1, 3.14, 'Pepe', True] es True\n"
     ]
    }
   ],
   "source": [
    "print(f'el último elemento de {milista} es {milista[-1]}')"
   ]
  },
  {
   "cell_type": "code",
   "execution_count": 80,
   "id": "e7ac8372",
   "metadata": {},
   "outputs": [],
   "source": [
    "milista[0] = 2\n",
    "milista[2:4] = ['Paco', False]\n",
    "milista[2:2] = ['Pablo', 9]"
   ]
  },
  {
   "cell_type": "code",
   "execution_count": 81,
   "id": "fc879290",
   "metadata": {},
   "outputs": [
    {
     "data": {
      "text/plain": [
       "[2, 3.14, 'Pablo', 9, 'Paco', False]"
      ]
     },
     "execution_count": 81,
     "metadata": {},
     "output_type": "execute_result"
    }
   ],
   "source": [
    "milista"
   ]
  },
  {
   "cell_type": "code",
   "execution_count": 82,
   "id": "3f6cda22",
   "metadata": {},
   "outputs": [],
   "source": [
    "otralista = milista + ['Puca', 4]"
   ]
  },
  {
   "cell_type": "code",
   "execution_count": 83,
   "id": "edb4f292",
   "metadata": {},
   "outputs": [
    {
     "data": {
      "text/plain": [
       "[2, 3.14, 'Pablo', 9, 'Paco', False, 'Puca', 4]"
      ]
     },
     "execution_count": 83,
     "metadata": {},
     "output_type": "execute_result"
    }
   ],
   "source": [
    "otralista"
   ]
  },
  {
   "cell_type": "code",
   "execution_count": 84,
   "id": "0ab6fc90",
   "metadata": {},
   "outputs": [],
   "source": [
    "listadelistas = [[1,2],[3,4]]"
   ]
  },
  {
   "cell_type": "code",
   "execution_count": 85,
   "id": "13d49cdb",
   "metadata": {},
   "outputs": [
    {
     "data": {
      "text/plain": [
       "False"
      ]
     },
     "execution_count": 85,
     "metadata": {},
     "output_type": "execute_result"
    }
   ],
   "source": [
    "1 in listadelistas"
   ]
  },
  {
   "cell_type": "code",
   "execution_count": 86,
   "id": "673e9bc3",
   "metadata": {},
   "outputs": [
    {
     "data": {
      "text/plain": [
       "True"
      ]
     },
     "execution_count": 86,
     "metadata": {},
     "output_type": "execute_result"
    }
   ],
   "source": [
    "[1,2] in listadelistas"
   ]
  },
  {
   "cell_type": "code",
   "execution_count": 87,
   "id": "7a7c21ee",
   "metadata": {},
   "outputs": [
    {
     "data": {
      "text/plain": [
       "1"
      ]
     },
     "execution_count": 87,
     "metadata": {},
     "output_type": "execute_result"
    }
   ],
   "source": [
    "min([1,2,3])"
   ]
  },
  {
   "cell_type": "code",
   "execution_count": 88,
   "id": "f450e8fd",
   "metadata": {},
   "outputs": [
    {
     "data": {
      "text/plain": [
       "3"
      ]
     },
     "execution_count": 88,
     "metadata": {},
     "output_type": "execute_result"
    }
   ],
   "source": [
    "max([1,2,3])"
   ]
  },
  {
   "cell_type": "code",
   "execution_count": 89,
   "id": "1fe0df25",
   "metadata": {},
   "outputs": [
    {
     "name": "stdout",
     "output_type": "stream",
     "text": [
      "3\n",
      "2\n",
      "1\n"
     ]
    }
   ],
   "source": [
    "listados =  [1,2,3]\n",
    "while listados:\n",
    "    print(listados.pop())"
   ]
  },
  {
   "cell_type": "code",
   "execution_count": 90,
   "id": "18bc26f5",
   "metadata": {},
   "outputs": [
    {
     "data": {
      "text/plain": [
       "[0, 1, 2, 3, 4]"
      ]
     },
     "execution_count": 90,
     "metadata": {},
     "output_type": "execute_result"
    }
   ],
   "source": [
    "list(range(5))"
   ]
  },
  {
   "cell_type": "code",
   "execution_count": 91,
   "id": "bedd7d78",
   "metadata": {},
   "outputs": [
    {
     "data": {
      "text/plain": [
       "[0, 1, 2, 3, 4, 5]"
      ]
     },
     "execution_count": 91,
     "metadata": {},
     "output_type": "execute_result"
    }
   ],
   "source": [
    "list(range(0,6))"
   ]
  },
  {
   "cell_type": "code",
   "execution_count": 92,
   "id": "f4d3fc5c",
   "metadata": {},
   "outputs": [
    {
     "data": {
      "text/plain": [
       "[2, 3, 4, 5, 6]"
      ]
     },
     "execution_count": 92,
     "metadata": {},
     "output_type": "execute_result"
    }
   ],
   "source": [
    "list(range(2,7))"
   ]
  },
  {
   "cell_type": "code",
   "execution_count": 93,
   "id": "b11c0296",
   "metadata": {},
   "outputs": [
    {
     "data": {
      "text/plain": [
       "[1, 4, 7]"
      ]
     },
     "execution_count": 93,
     "metadata": {},
     "output_type": "execute_result"
    }
   ],
   "source": [
    "list(range(1,10,3))"
   ]
  },
  {
   "cell_type": "code",
   "execution_count": 94,
   "id": "d07232c6",
   "metadata": {},
   "outputs": [
    {
     "data": {
      "text/plain": [
       "['a', 'b', 'c', 'd']"
      ]
     },
     "execution_count": 94,
     "metadata": {},
     "output_type": "execute_result"
    }
   ],
   "source": [
    "list('abcd')"
   ]
  },
  {
   "cell_type": "markdown",
   "id": "c0861f41",
   "metadata": {},
   "source": [
    "# Bucle For"
   ]
  },
  {
   "cell_type": "code",
   "execution_count": 95,
   "id": "db820c51",
   "metadata": {},
   "outputs": [
    {
     "name": "stdout",
     "output_type": "stream",
     "text": [
      "0\n",
      "1\n",
      "2\n",
      "3\n",
      "4\n"
     ]
    }
   ],
   "source": [
    "for i in range(5):\n",
    "    print(i)"
   ]
  },
  {
   "cell_type": "code",
   "execution_count": 96,
   "id": "b1d80232",
   "metadata": {},
   "outputs": [
    {
     "name": "stdout",
     "output_type": "stream",
     "text": [
      "3\n",
      "4\n",
      "5\n",
      "6\n",
      "7\n",
      "8\n",
      "9\n"
     ]
    }
   ],
   "source": [
    "for i in range(3,10):\n",
    "    print(i)"
   ]
  },
  {
   "cell_type": "code",
   "execution_count": 97,
   "id": "9e5ea8f4",
   "metadata": {},
   "outputs": [
    {
     "name": "stdout",
     "output_type": "stream",
     "text": [
      "4  5  6  7  8  "
     ]
    }
   ],
   "source": [
    "for i in range(4,9):\n",
    "    print(i, ' ', end=\"\")"
   ]
  },
  {
   "cell_type": "code",
   "execution_count": 98,
   "id": "34e4e231",
   "metadata": {},
   "outputs": [
    {
     "name": "stdout",
     "output_type": "stream",
     "text": [
      "a  b  c  d  e  f  g  "
     ]
    }
   ],
   "source": [
    "letras = list('abcdefg')\n",
    "for letra in letras:\n",
    "    print(letra, ' ', end=\"\")"
   ]
  },
  {
   "cell_type": "code",
   "execution_count": 99,
   "id": "295eaaa8",
   "metadata": {},
   "outputs": [
    {
     "name": "stdout",
     "output_type": "stream",
     "text": [
      "el índice de a es 0\n",
      "el índice de b es 1\n",
      "el índice de c es 2\n",
      "el índice de d es 3\n",
      "el índice de e es 4\n",
      "el índice de f es 5\n",
      "el índice de g es 6\n"
     ]
    }
   ],
   "source": [
    "for index, letra in enumerate(letras):\n",
    "    print(f'el índice de {letra} es {index}')"
   ]
  },
  {
   "cell_type": "code",
   "execution_count": 100,
   "id": "a0ffe525",
   "metadata": {},
   "outputs": [
    {
     "name": "stdout",
     "output_type": "stream",
     "text": [
      "0 0\n",
      "0 1\n",
      "0 2\n",
      "1 0\n",
      "1 1\n",
      "1 2\n",
      "2 0\n",
      "2 1\n",
      "2 2\n"
     ]
    }
   ],
   "source": [
    "for x in range(0,3):\n",
    "    for y in range(0,3):\n",
    "        print(x,y)"
   ]
  },
  {
   "cell_type": "markdown",
   "id": "50092fc2",
   "metadata": {},
   "source": [
    "# Tuplas"
   ]
  },
  {
   "cell_type": "markdown",
   "id": "96764233",
   "metadata": {},
   "source": [
    "Igual que las listas, pero inmutables"
   ]
  },
  {
   "cell_type": "code",
   "execution_count": 101,
   "id": "0d620b6e",
   "metadata": {},
   "outputs": [],
   "source": [
    "mitupla = (1, 3.14, 'Pepe')"
   ]
  },
  {
   "cell_type": "code",
   "execution_count": 102,
   "id": "42fd8509",
   "metadata": {},
   "outputs": [
    {
     "name": "stdout",
     "output_type": "stream",
     "text": [
      "la longitug de la tupla (1, 3.14, 'Pepe') es 3\n"
     ]
    }
   ],
   "source": [
    "print(f'la longitug de la tupla {mitupla} es {len(mitupla)}')"
   ]
  },
  {
   "cell_type": "code",
   "execution_count": 103,
   "id": "8683a6a0",
   "metadata": {},
   "outputs": [
    {
     "name": "stdout",
     "output_type": "stream",
     "text": [
      "el primer elemento de (1, 3.14, 'Pepe') es 1\n"
     ]
    }
   ],
   "source": [
    "print(f'el primer elemento de {mitupla} es {mitupla[0]}')"
   ]
  },
  {
   "cell_type": "code",
   "execution_count": 104,
   "id": "2297237b",
   "metadata": {},
   "outputs": [
    {
     "name": "stdout",
     "output_type": "stream",
     "text": [
      "el último elemento de (1, 3.14, 'Pepe') es Pepe\n"
     ]
    }
   ],
   "source": [
    "print(f'el último elemento de {mitupla} es {mitupla[-1]}')"
   ]
  },
  {
   "cell_type": "code",
   "execution_count": 105,
   "id": "10338586",
   "metadata": {},
   "outputs": [
    {
     "name": "stdout",
     "output_type": "stream",
     "text": [
      "primer y segundo elemento de (1, 3.14, 'Pepe'): (1, 3.14)\n"
     ]
    }
   ],
   "source": [
    "print(f'primer y segundo elemento de {mitupla}: {mitupla[0:2]}')"
   ]
  },
  {
   "cell_type": "code",
   "execution_count": 106,
   "id": "89199cc0",
   "metadata": {},
   "outputs": [
    {
     "name": "stdout",
     "output_type": "stream",
     "text": [
      "tupla invertida: ('Pepe', 3.14, 1)\n"
     ]
    }
   ],
   "source": [
    "print(f'tupla invertida: {mitupla[::-1]}')"
   ]
  },
  {
   "cell_type": "markdown",
   "id": "d17881bf",
   "metadata": {},
   "source": [
    "# Diccionarios"
   ]
  },
  {
   "cell_type": "code",
   "execution_count": 107,
   "id": "45b59415",
   "metadata": {},
   "outputs": [],
   "source": [
    "frutacolor = {\n",
    "    \"manzana\":\"roja\",\n",
    "    \"naranja\":\"naranja\",\n",
    "    \"uva\":\"morada\",\n",
    "    \"mandarina\":\"naranja\"\n",
    "}"
   ]
  },
  {
   "cell_type": "code",
   "execution_count": 108,
   "id": "e2894174",
   "metadata": {},
   "outputs": [
    {
     "data": {
      "text/plain": [
       "4"
      ]
     },
     "execution_count": 108,
     "metadata": {},
     "output_type": "execute_result"
    }
   ],
   "source": [
    "len(frutacolor)"
   ]
  },
  {
   "cell_type": "code",
   "execution_count": 109,
   "id": "18828c09",
   "metadata": {},
   "outputs": [
    {
     "data": {
      "text/plain": [
       "'roja'"
      ]
     },
     "execution_count": 109,
     "metadata": {},
     "output_type": "execute_result"
    }
   ],
   "source": [
    "frutacolor[\"manzana\"]"
   ]
  },
  {
   "cell_type": "code",
   "execution_count": 110,
   "id": "3ff7f1f1",
   "metadata": {},
   "outputs": [
    {
     "data": {
      "text/plain": [
       "'morada'"
      ]
     },
     "execution_count": 110,
     "metadata": {},
     "output_type": "execute_result"
    }
   ],
   "source": [
    "frutacolor[\"uva\"]"
   ]
  },
  {
   "cell_type": "code",
   "execution_count": 111,
   "id": "f5b693f7",
   "metadata": {},
   "outputs": [],
   "source": [
    "frutacolor[\"kiwi\"] = \"verde\""
   ]
  },
  {
   "cell_type": "code",
   "execution_count": 112,
   "id": "7eee205f",
   "metadata": {},
   "outputs": [
    {
     "data": {
      "text/plain": [
       "{'manzana': 'roja',\n",
       " 'naranja': 'naranja',\n",
       " 'uva': 'morada',\n",
       " 'mandarina': 'naranja',\n",
       " 'kiwi': 'verde'}"
      ]
     },
     "execution_count": 112,
     "metadata": {},
     "output_type": "execute_result"
    }
   ],
   "source": [
    "frutacolor"
   ]
  },
  {
   "cell_type": "code",
   "execution_count": 113,
   "id": "98a63cbc",
   "metadata": {},
   "outputs": [
    {
     "data": {
      "text/plain": [
       "dict_items([('manzana', 'roja'), ('naranja', 'naranja'), ('uva', 'morada'), ('mandarina', 'naranja'), ('kiwi', 'verde')])"
      ]
     },
     "execution_count": 113,
     "metadata": {},
     "output_type": "execute_result"
    }
   ],
   "source": [
    "frutacolor.items()"
   ]
  },
  {
   "cell_type": "code",
   "execution_count": 114,
   "id": "46b5734f",
   "metadata": {},
   "outputs": [
    {
     "data": {
      "text/plain": [
       "dict_keys(['manzana', 'naranja', 'uva', 'mandarina', 'kiwi'])"
      ]
     },
     "execution_count": 114,
     "metadata": {},
     "output_type": "execute_result"
    }
   ],
   "source": [
    "frutacolor.keys()"
   ]
  },
  {
   "cell_type": "code",
   "execution_count": 115,
   "id": "e840ce07",
   "metadata": {},
   "outputs": [
    {
     "data": {
      "text/plain": [
       "dict_values(['roja', 'naranja', 'morada', 'naranja', 'verde'])"
      ]
     },
     "execution_count": 115,
     "metadata": {},
     "output_type": "execute_result"
    }
   ],
   "source": [
    "frutacolor.values()"
   ]
  },
  {
   "cell_type": "code",
   "execution_count": 116,
   "id": "79b6fc07",
   "metadata": {},
   "outputs": [
    {
     "name": "stdout",
     "output_type": "stream",
     "text": [
      "manzana\n",
      "naranja\n",
      "uva\n",
      "mandarina\n",
      "kiwi\n"
     ]
    }
   ],
   "source": [
    "for ele in frutacolor:\n",
    "    print(ele)"
   ]
  },
  {
   "cell_type": "code",
   "execution_count": 117,
   "id": "f90aa2c1",
   "metadata": {},
   "outputs": [
    {
     "name": "stdout",
     "output_type": "stream",
     "text": [
      "roja\n",
      "naranja\n",
      "morada\n",
      "naranja\n",
      "verde\n"
     ]
    }
   ],
   "source": [
    "for ele in frutacolor.values():\n",
    "    print(ele)"
   ]
  },
  {
   "cell_type": "code",
   "execution_count": 118,
   "id": "c7d3ebea",
   "metadata": {},
   "outputs": [
    {
     "name": "stdout",
     "output_type": "stream",
     "text": [
      "el precio del jabón es $1.60\n"
     ]
    }
   ],
   "source": [
    "articulo = {\"nombre\":\"jabón\", \"precio\":1.599}\n",
    "print('el precio del %(nombre)s es $%(precio).2f' % articulo)"
   ]
  },
  {
   "cell_type": "markdown",
   "id": "baf0613e",
   "metadata": {},
   "source": [
    "# Set"
   ]
  },
  {
   "cell_type": "markdown",
   "id": "b0d29e1b",
   "metadata": {},
   "source": [
    "Inmutable y no pueden haber elementos repetidos"
   ]
  },
  {
   "cell_type": "code",
   "execution_count": 119,
   "id": "7d837239",
   "metadata": {},
   "outputs": [
    {
     "data": {
      "text/plain": [
       "{1, 2, 3}"
      ]
     },
     "execution_count": 119,
     "metadata": {},
     "output_type": "execute_result"
    }
   ],
   "source": [
    "s1 = set([1,1,1,2,2,2,3,3])\n",
    "s1"
   ]
  },
  {
   "cell_type": "code",
   "execution_count": 120,
   "id": "3ffdf1b0",
   "metadata": {},
   "outputs": [
    {
     "data": {
      "text/plain": [
       "3"
      ]
     },
     "execution_count": 120,
     "metadata": {},
     "output_type": "execute_result"
    }
   ],
   "source": [
    "len(s1)"
   ]
  },
  {
   "cell_type": "code",
   "execution_count": 121,
   "id": "ce86cad2",
   "metadata": {},
   "outputs": [
    {
     "data": {
      "text/plain": [
       "{3, 4, 5, 'Pepe'}"
      ]
     },
     "execution_count": 121,
     "metadata": {},
     "output_type": "execute_result"
    }
   ],
   "source": [
    "s2 = {3,4,5,'Pepe'}\n",
    "s2"
   ]
  },
  {
   "cell_type": "code",
   "execution_count": 122,
   "id": "9cb37b05",
   "metadata": {},
   "outputs": [
    {
     "data": {
      "text/plain": [
       "4"
      ]
     },
     "execution_count": 122,
     "metadata": {},
     "output_type": "execute_result"
    }
   ],
   "source": [
    "len(s2)"
   ]
  },
  {
   "cell_type": "code",
   "execution_count": 123,
   "id": "1900beec",
   "metadata": {},
   "outputs": [
    {
     "data": {
      "text/plain": [
       "{1, 2, 3, 4, 5, 'Pepe'}"
      ]
     },
     "execution_count": 123,
     "metadata": {},
     "output_type": "execute_result"
    }
   ],
   "source": [
    "s3 = s1 | s2\n",
    "s3"
   ]
  },
  {
   "cell_type": "code",
   "execution_count": 124,
   "id": "0504615b",
   "metadata": {},
   "outputs": [
    {
     "data": {
      "text/plain": [
       "6"
      ]
     },
     "execution_count": 124,
     "metadata": {},
     "output_type": "execute_result"
    }
   ],
   "source": [
    "len(s3)"
   ]
  },
  {
   "cell_type": "code",
   "execution_count": 125,
   "id": "1463e3aa",
   "metadata": {},
   "outputs": [
    {
     "data": {
      "text/plain": [
       "{1, 2, 3, 4, 5}"
      ]
     },
     "execution_count": 125,
     "metadata": {},
     "output_type": "execute_result"
    }
   ],
   "source": [
    "s3.discard('Pepe')\n",
    "s3"
   ]
  },
  {
   "cell_type": "code",
   "execution_count": 126,
   "id": "7b66f0bc",
   "metadata": {},
   "outputs": [
    {
     "data": {
      "text/plain": [
       "{1, 2, 3, 4, 5, 'Paco'}"
      ]
     },
     "execution_count": 126,
     "metadata": {},
     "output_type": "execute_result"
    }
   ],
   "source": [
    "s3.add('Paco')\n",
    "s3"
   ]
  },
  {
   "cell_type": "code",
   "execution_count": 127,
   "id": "bb9fdae6",
   "metadata": {},
   "outputs": [
    {
     "name": "stdout",
     "output_type": "stream",
     "text": [
      "1\n",
      "2\n",
      "3\n",
      "4\n",
      "5\n",
      "Paco\n"
     ]
    }
   ],
   "source": [
    "for s in s3:\n",
    "    print(s)"
   ]
  },
  {
   "cell_type": "code",
   "execution_count": 128,
   "id": "28bda138",
   "metadata": {},
   "outputs": [
    {
     "name": "stdout",
     "output_type": "stream",
     "text": [
      "1\n",
      "2\n",
      "3\n",
      "4\n",
      "5\n",
      "Paco\n"
     ]
    }
   ],
   "source": [
    "while s3:\n",
    "    print(s3.pop())"
   ]
  },
  {
   "cell_type": "code",
   "execution_count": 129,
   "id": "2d24f3e8",
   "metadata": {},
   "outputs": [
    {
     "data": {
      "text/plain": [
       "set()"
      ]
     },
     "execution_count": 129,
     "metadata": {},
     "output_type": "execute_result"
    }
   ],
   "source": [
    "s3"
   ]
  },
  {
   "cell_type": "code",
   "execution_count": 130,
   "id": "399d9336",
   "metadata": {},
   "outputs": [
    {
     "data": {
      "text/plain": [
       "{3}"
      ]
     },
     "execution_count": 130,
     "metadata": {},
     "output_type": "execute_result"
    }
   ],
   "source": [
    "s1.intersection(s2)"
   ]
  },
  {
   "cell_type": "code",
   "execution_count": 131,
   "id": "57e08a29",
   "metadata": {},
   "outputs": [
    {
     "data": {
      "text/plain": [
       "{1, 2}"
      ]
     },
     "execution_count": 131,
     "metadata": {},
     "output_type": "execute_result"
    }
   ],
   "source": [
    "s1.difference(s2)"
   ]
  },
  {
   "cell_type": "code",
   "execution_count": 132,
   "id": "e2af4f0f",
   "metadata": {},
   "outputs": [
    {
     "data": {
      "text/plain": [
       "{1, 2, 4, 5, 'Pepe'}"
      ]
     },
     "execution_count": 132,
     "metadata": {},
     "output_type": "execute_result"
    }
   ],
   "source": [
    "s1.symmetric_difference(s2)"
   ]
  },
  {
   "cell_type": "markdown",
   "id": "2e1823cc",
   "metadata": {},
   "source": [
    "# Funciones"
   ]
  },
  {
   "cell_type": "code",
   "execution_count": 133,
   "id": "83b25c73",
   "metadata": {},
   "outputs": [],
   "source": [
    "def sumar(a:int=0,b:int=0):\n",
    "    return a + b"
   ]
  },
  {
   "cell_type": "code",
   "execution_count": 134,
   "id": "ea419901",
   "metadata": {},
   "outputs": [
    {
     "data": {
      "text/plain": [
       "2"
      ]
     },
     "execution_count": 134,
     "metadata": {},
     "output_type": "execute_result"
    }
   ],
   "source": [
    "sumar(1,1)"
   ]
  },
  {
   "cell_type": "code",
   "execution_count": 135,
   "id": "702a5332",
   "metadata": {},
   "outputs": [
    {
     "data": {
      "text/plain": [
       "4"
      ]
     },
     "execution_count": 135,
     "metadata": {},
     "output_type": "execute_result"
    }
   ],
   "source": [
    "sumar(3,1)"
   ]
  },
  {
   "cell_type": "code",
   "execution_count": 136,
   "id": "6b7f1a3f",
   "metadata": {},
   "outputs": [],
   "source": [
    "def sumarargs(*args):\n",
    "    sum = 0\n",
    "    for arg in args:\n",
    "        sum += arg\n",
    "    return sum"
   ]
  },
  {
   "cell_type": "code",
   "execution_count": 137,
   "id": "116c2654",
   "metadata": {},
   "outputs": [
    {
     "data": {
      "text/plain": [
       "15"
      ]
     },
     "execution_count": 137,
     "metadata": {},
     "output_type": "execute_result"
    }
   ],
   "source": [
    "sumarargs(1,2,3,4,5)"
   ]
  },
  {
   "cell_type": "code",
   "execution_count": 138,
   "id": "85517c1f",
   "metadata": {},
   "outputs": [],
   "source": [
    "def siguientesdos(num):\n",
    "    return num+1, num+2"
   ]
  },
  {
   "cell_type": "code",
   "execution_count": 139,
   "id": "77836571",
   "metadata": {},
   "outputs": [],
   "source": [
    "a, b = siguientesdos(3)"
   ]
  },
  {
   "cell_type": "code",
   "execution_count": 140,
   "id": "05c48788",
   "metadata": {},
   "outputs": [
    {
     "data": {
      "text/plain": [
       "4"
      ]
     },
     "execution_count": 140,
     "metadata": {},
     "output_type": "execute_result"
    }
   ],
   "source": [
    "a"
   ]
  },
  {
   "cell_type": "code",
   "execution_count": 141,
   "id": "b4462623",
   "metadata": {},
   "outputs": [
    {
     "data": {
      "text/plain": [
       "5"
      ]
     },
     "execution_count": 141,
     "metadata": {},
     "output_type": "execute_result"
    }
   ],
   "source": [
    "b"
   ]
  },
  {
   "cell_type": "code",
   "execution_count": 142,
   "id": "e4a5604b",
   "metadata": {},
   "outputs": [],
   "source": [
    "def multpor(num):\n",
    "    return lambda x: x * num"
   ]
  },
  {
   "cell_type": "code",
   "execution_count": 143,
   "id": "371d268f",
   "metadata": {},
   "outputs": [],
   "source": [
    "f = multpor(3)"
   ]
  },
  {
   "cell_type": "code",
   "execution_count": 144,
   "id": "3282d3a1",
   "metadata": {},
   "outputs": [
    {
     "data": {
      "text/plain": [
       "15"
      ]
     },
     "execution_count": 144,
     "metadata": {},
     "output_type": "execute_result"
    }
   ],
   "source": [
    "f(5)"
   ]
  },
  {
   "cell_type": "markdown",
   "id": "2440f46f",
   "metadata": {},
   "source": [
    "# Recursividad"
   ]
  },
  {
   "cell_type": "code",
   "execution_count": 145,
   "id": "3c8494a1",
   "metadata": {},
   "outputs": [],
   "source": [
    "def factorial(num):\n",
    "    if num <= 1:\n",
    "        return 1\n",
    "    else:\n",
    "        result = num * factorial(num - 1)\n",
    "        return result"
   ]
  },
  {
   "cell_type": "code",
   "execution_count": 146,
   "id": "64e495b3",
   "metadata": {},
   "outputs": [
    {
     "name": "stdout",
     "output_type": "stream",
     "text": [
      "el factorial de 0 es 1\n",
      "el factorial de 1 es 1\n",
      "el factorial de 2 es 2\n",
      "el factorial de 3 es 6\n",
      "el factorial de 4 es 24\n",
      "el factorial de 5 es 120\n",
      "el factorial de 6 es 720\n",
      "el factorial de 7 es 5040\n",
      "el factorial de 8 es 40320\n",
      "el factorial de 9 es 362880\n"
     ]
    }
   ],
   "source": [
    "for i in range(10):\n",
    "    print(f'el factorial de {i} es {factorial(i)}')"
   ]
  },
  {
   "cell_type": "code",
   "execution_count": 147,
   "id": "396e0773",
   "metadata": {},
   "outputs": [],
   "source": [
    "def fibonacci(num):\n",
    "    if num == 0:\n",
    "        return 0\n",
    "    elif num == 1:\n",
    "        return 1\n",
    "    else:\n",
    "        return fibonacci(num-1) + fibonacci(num-2)"
   ]
  },
  {
   "cell_type": "code",
   "execution_count": 148,
   "id": "776bce9a",
   "metadata": {},
   "outputs": [
    {
     "name": "stdout",
     "output_type": "stream",
     "text": [
      "0  1  1  2  3  5  8  13  21  34  "
     ]
    }
   ],
   "source": [
    "for i in range(10):\n",
    "    print(fibonacci(i), ' ', end=\"\")"
   ]
  },
  {
   "cell_type": "markdown",
   "id": "dd99e8c3",
   "metadata": {},
   "source": [
    "# Decoradores"
   ]
  },
  {
   "cell_type": "code",
   "execution_count": 149,
   "id": "43e63d1d",
   "metadata": {},
   "outputs": [],
   "source": [
    "def func(f):\n",
    "    def envolvente():\n",
    "        print('Inicio')\n",
    "        f()\n",
    "        print('Fin')\n",
    "    return envolvente"
   ]
  },
  {
   "cell_type": "code",
   "execution_count": 150,
   "id": "cb6c302a",
   "metadata": {},
   "outputs": [],
   "source": [
    "@func\n",
    "def mifunc():\n",
    "    print('Soy una función')"
   ]
  },
  {
   "cell_type": "code",
   "execution_count": 151,
   "id": "5de60fe1",
   "metadata": {},
   "outputs": [
    {
     "name": "stdout",
     "output_type": "stream",
     "text": [
      "Inicio\n",
      "Soy una función\n",
      "Fin\n"
     ]
    }
   ],
   "source": [
    "mifunc()"
   ]
  },
  {
   "cell_type": "code",
   "execution_count": 152,
   "id": "7c43ee3c",
   "metadata": {},
   "outputs": [],
   "source": [
    "import time"
   ]
  },
  {
   "cell_type": "code",
   "execution_count": 153,
   "id": "941f171b",
   "metadata": {},
   "outputs": [],
   "source": [
    "def medirtiempo(func):\n",
    "    def envolvente(*args, **kwargs):\n",
    "        inicio = time.time()\n",
    "        rv = func(*args, **kwargs)\n",
    "        total = time.time() - inicio\n",
    "        print('Tiempo:', total)\n",
    "        return rv\n",
    "    return envolvente"
   ]
  },
  {
   "cell_type": "code",
   "execution_count": 154,
   "id": "daef3f82",
   "metadata": {},
   "outputs": [],
   "source": [
    "@medirtiempo\n",
    "def test(num):\n",
    "    for _ in range(num):\n",
    "        pass"
   ]
  },
  {
   "cell_type": "code",
   "execution_count": 155,
   "id": "8d63e587",
   "metadata": {},
   "outputs": [
    {
     "name": "stdout",
     "output_type": "stream",
     "text": [
      "Tiempo: 0.00012302398681640625\n",
      "Tiempo: 0.0004055500030517578\n",
      "Tiempo: 0.00038433074951171875\n",
      "Tiempo: 0.0004782676696777344\n",
      "Tiempo: 0.0006184577941894531\n",
      "Tiempo: 0.0007412433624267578\n",
      "Tiempo: 0.0013496875762939453\n",
      "Tiempo: 0.0015037059783935547\n",
      "Tiempo: 0.0012595653533935547\n"
     ]
    }
   ],
   "source": [
    "for i in range(10000,100000,10000):\n",
    "    test(i)"
   ]
  },
  {
   "cell_type": "code",
   "execution_count": 156,
   "id": "bb013816",
   "metadata": {},
   "outputs": [],
   "source": [
    "@medirtiempo\n",
    "def dormir(num):\n",
    "    time.sleep(num)"
   ]
  },
  {
   "cell_type": "code",
   "execution_count": 157,
   "id": "e2c19f01",
   "metadata": {},
   "outputs": [
    {
     "name": "stdout",
     "output_type": "stream",
     "text": [
      "Tiempo: 1.1671631336212158\n",
      "Tiempo: 2.230269193649292\n",
      "Tiempo: 3.6533007621765137\n",
      "Tiempo: 4.087059020996094\n",
      "Tiempo: 5.708120346069336\n"
     ]
    }
   ],
   "source": [
    "for i in range(1,6):\n",
    "    dormir(i)"
   ]
  },
  {
   "cell_type": "code",
   "execution_count": 158,
   "id": "1e18fe42",
   "metadata": {},
   "outputs": [],
   "source": [
    "def medirtiempoconreps(func):\n",
    "    def envolvente(*args, **kwargs):\n",
    "        # por defecto se harán 10 mediciones\n",
    "        reps = kwargs.get('reps',10)\n",
    "        t = []\n",
    "        for i in range(reps):\n",
    "            inicio = time.time()\n",
    "            rv = func(*args, **kwargs)\n",
    "            total = time.time() - inicio\n",
    "            t.append(total)\n",
    "        return rv, t\n",
    "    return envolvente"
   ]
  },
  {
   "cell_type": "code",
   "execution_count": 159,
   "id": "f0aabc00",
   "metadata": {},
   "outputs": [],
   "source": [
    "@medirtiempoconreps\n",
    "def expo(a,b,reps=10, *args, **kwargs):\n",
    "    return a**b"
   ]
  },
  {
   "cell_type": "code",
   "execution_count": 160,
   "id": "97f7e3e7",
   "metadata": {},
   "outputs": [],
   "source": [
    "import matplotlib.pyplot as plt"
   ]
  },
  {
   "cell_type": "code",
   "execution_count": 161,
   "id": "7528137c",
   "metadata": {},
   "outputs": [
    {
     "data": {
      "text/plain": [
       "[<matplotlib.lines.Line2D at 0x7fd980a56eb0>]"
      ]
     },
     "execution_count": 161,
     "metadata": {},
     "output_type": "execute_result"
    },
    {
     "data": {
      "image/png": "[encoded data removed]",
      "text/plain": [
       "<Figure size 432x288 with 1 Axes>"
      ]
     },
     "metadata": {
      "needs_background": "light"
     },
     "output_type": "display_data"
    }
   ],
   "source": [
    "reps=100\n",
    "plt.plot(range(reps),expo(100000,100000,reps=reps)[1])"
   ]
  },
  {
   "cell_type": "markdown",
   "id": "995c9800",
   "metadata": {},
   "source": [
    "# Map"
   ]
  },
  {
   "cell_type": "code",
   "execution_count": 162,
   "id": "07e07432",
   "metadata": {},
   "outputs": [],
   "source": [
    "uno_al_cuatro = range(1,5)"
   ]
  },
  {
   "cell_type": "code",
   "execution_count": 163,
   "id": "2c718394",
   "metadata": {},
   "outputs": [],
   "source": [
    "por2 = lambda x: 2 * x"
   ]
  },
  {
   "cell_type": "code",
   "execution_count": 164,
   "id": "cad7c0ac",
   "metadata": {},
   "outputs": [
    {
     "data": {
      "text/plain": [
       "[2, 4, 6, 8]"
      ]
     },
     "execution_count": 164,
     "metadata": {},
     "output_type": "execute_result"
    }
   ],
   "source": [
    "list(map(por2, uno_al_cuatro))"
   ]
  },
  {
   "cell_type": "markdown",
   "id": "4ca0db36",
   "metadata": {},
   "source": [
    "# Filter"
   ]
  },
  {
   "cell_type": "code",
   "execution_count": 165,
   "id": "1de91f28",
   "metadata": {},
   "outputs": [],
   "source": [
    "lista  = range(10)"
   ]
  },
  {
   "cell_type": "code",
   "execution_count": 166,
   "id": "f2afae12",
   "metadata": {},
   "outputs": [],
   "source": [
    "filtro = lambda x: x % 2 == 0"
   ]
  },
  {
   "cell_type": "code",
   "execution_count": 167,
   "id": "3700baf2",
   "metadata": {},
   "outputs": [
    {
     "data": {
      "text/plain": [
       "[0, 2, 4, 6, 8]"
      ]
     },
     "execution_count": 167,
     "metadata": {},
     "output_type": "execute_result"
    }
   ],
   "source": [
    "list(filter(filtro, lista))"
   ]
  },
  {
   "cell_type": "markdown",
   "id": "b862dd38",
   "metadata": {},
   "source": [
    "# Reduce"
   ]
  },
  {
   "cell_type": "code",
   "execution_count": 168,
   "id": "5cdb74d9",
   "metadata": {},
   "outputs": [],
   "source": [
    "from functools import reduce"
   ]
  },
  {
   "cell_type": "code",
   "execution_count": 169,
   "id": "9e8e969a",
   "metadata": {},
   "outputs": [
    {
     "data": {
      "text/plain": [
       "10"
      ]
     },
     "execution_count": 169,
     "metadata": {},
     "output_type": "execute_result"
    }
   ],
   "source": [
    "reduce((lambda x,y: x+y), range(1,5))"
   ]
  },
  {
   "cell_type": "code",
   "execution_count": 170,
   "id": "e84a91c5",
   "metadata": {},
   "outputs": [
    {
     "data": {
      "text/plain": [
       "4"
      ]
     },
     "execution_count": 170,
     "metadata": {},
     "output_type": "execute_result"
    }
   ],
   "source": [
    "reduce((lambda x,y: x if x>y else y), range(1,5))"
   ]
  },
  {
   "cell_type": "code",
   "execution_count": 171,
   "id": "0be8bd00",
   "metadata": {},
   "outputs": [
    {
     "data": {
      "text/plain": [
       "1"
      ]
     },
     "execution_count": 171,
     "metadata": {},
     "output_type": "execute_result"
    }
   ],
   "source": [
    "reduce((lambda x,y: x if x<y else y), range(1,5))"
   ]
  },
  {
   "cell_type": "markdown",
   "id": "85999507",
   "metadata": {},
   "source": [
    "# Manejo de Excepciones"
   ]
  },
  {
   "cell_type": "code",
   "execution_count": 172,
   "id": "498ab3f3",
   "metadata": {},
   "outputs": [
    {
     "name": "stdout",
     "output_type": "stream",
     "text": [
      "Ingresar un número: x\n",
      "No es un número\n",
      "Ingresar un número: x\n",
      "No es un número\n",
      "Ingresar un número: 3\n",
      "Gracias\n"
     ]
    }
   ],
   "source": [
    "while True:\n",
    "    try:\n",
    "        num = int(input('Ingresar un número: '))\n",
    "        break\n",
    "    except ValueError:\n",
    "        print('No es un número')\n",
    "    except:\n",
    "        print('Error')\n",
    "\n",
    "print('Gracias')"
   ]
  },
  {
   "cell_type": "markdown",
   "id": "9aaa2eb0",
   "metadata": {},
   "source": [
    "# Archivos"
   ]
  },
  {
   "cell_type": "code",
   "execution_count": 173,
   "id": "e5bf5a73",
   "metadata": {},
   "outputs": [],
   "source": [
    "with open('archivo.txt', mode='w', encoding='utf-8') as miarchivo:\n",
    "    miarchivo.write('texto sin sentido')"
   ]
  },
  {
   "cell_type": "code",
   "execution_count": 174,
   "id": "4f3f283f",
   "metadata": {},
   "outputs": [
    {
     "name": "stdout",
     "output_type": "stream",
     "text": [
      "texto sin sentido\n"
     ]
    }
   ],
   "source": [
    "with open('archivo.txt', encoding='utf-8') as miarchivo:\n",
    "    print(miarchivo.read())"
   ]
  },
  {
   "cell_type": "code",
   "execution_count": 175,
   "id": "3e9c710e",
   "metadata": {},
   "outputs": [
    {
     "name": "stdout",
     "output_type": "stream",
     "text": [
      "True\n"
     ]
    }
   ],
   "source": [
    "print(miarchivo.closed)"
   ]
  },
  {
   "cell_type": "markdown",
   "id": "14447c3c",
   "metadata": {},
   "source": [
    "# Clases"
   ]
  },
  {
   "cell_type": "code",
   "execution_count": 176,
   "id": "a6db0fc7",
   "metadata": {},
   "outputs": [],
   "source": [
    "class Rectangulo:\n",
    "    def __init__(self, altura='0', ancho='0'):\n",
    "        self.__altura = altura\n",
    "        self.__ancho = ancho\n",
    "    \n",
    "    @property\n",
    "    def altura(self):\n",
    "        print('La altura del rectangulo es:')\n",
    "        return self.__altura\n",
    "    \n",
    "    @altura.setter\n",
    "    def altura(self, valor):\n",
    "        if valor.isdigit():\n",
    "            self.__altura = valor\n",
    "        else:\n",
    "            print('Ingresar un número para la altura')\n",
    "            \n",
    "    @property\n",
    "    def ancho(self):\n",
    "        print('El ancho del rectangulo es:')\n",
    "        return self.__ancho\n",
    "    \n",
    "    @ancho.setter\n",
    "    def ancho(self, valor):\n",
    "        if valor.isdigit():\n",
    "            self.__ancho = valor\n",
    "        else:\n",
    "            print('Ingresar un número para el ancho')\n",
    "    \n",
    "    def calc_area(self):\n",
    "        return float(self.__altura) * float(self.__ancho)"
   ]
  },
  {
   "cell_type": "code",
   "execution_count": 177,
   "id": "76556de7",
   "metadata": {},
   "outputs": [],
   "source": [
    "rect1 = Rectangulo()"
   ]
  },
  {
   "cell_type": "code",
   "execution_count": 178,
   "id": "26fe87c5",
   "metadata": {},
   "outputs": [],
   "source": [
    "rect1.altura = '5'"
   ]
  },
  {
   "cell_type": "code",
   "execution_count": 179,
   "id": "41725784",
   "metadata": {},
   "outputs": [],
   "source": [
    "rect1.ancho = '10'"
   ]
  },
  {
   "cell_type": "code",
   "execution_count": 180,
   "id": "861c4c77",
   "metadata": {},
   "outputs": [
    {
     "data": {
      "text/plain": [
       "50.0"
      ]
     },
     "execution_count": 180,
     "metadata": {},
     "output_type": "execute_result"
    }
   ],
   "source": [
    "rect1.calc_area()"
   ]
  },
  {
   "cell_type": "code",
   "execution_count": 181,
   "id": "fbb7720d",
   "metadata": {},
   "outputs": [
    {
     "name": "stdout",
     "output_type": "stream",
     "text": [
      "El ancho del rectangulo es:\n"
     ]
    },
    {
     "data": {
      "text/plain": [
       "'10'"
      ]
     },
     "execution_count": 181,
     "metadata": {},
     "output_type": "execute_result"
    }
   ],
   "source": [
    "rect1.ancho"
   ]
  },
  {
   "cell_type": "code",
   "execution_count": 182,
   "id": "30fc4654",
   "metadata": {},
   "outputs": [
    {
     "name": "stdout",
     "output_type": "stream",
     "text": [
      "La altura del rectangulo es:\n"
     ]
    },
    {
     "data": {
      "text/plain": [
       "'5'"
      ]
     },
     "execution_count": 182,
     "metadata": {},
     "output_type": "execute_result"
    }
   ],
   "source": [
    "rect1.altura"
   ]
  },
  {
   "cell_type": "code",
   "execution_count": 183,
   "id": "2b1ef891",
   "metadata": {},
   "outputs": [
    {
     "data": {
      "text/plain": [
       "__main__.Rectangulo"
      ]
     },
     "execution_count": 183,
     "metadata": {},
     "output_type": "execute_result"
    }
   ],
   "source": [
    "type(rect1)"
   ]
  },
  {
   "cell_type": "code",
   "execution_count": 184,
   "id": "06df29d0",
   "metadata": {},
   "outputs": [
    {
     "data": {
      "text/plain": [
       "'Rectangulo'"
      ]
     },
     "execution_count": 184,
     "metadata": {},
     "output_type": "execute_result"
    }
   ],
   "source": [
    "type(rect1).__name__"
   ]
  },
  {
   "cell_type": "code",
   "execution_count": 185,
   "id": "7b06f6c0",
   "metadata": {},
   "outputs": [],
   "source": [
    "class Animal:\n",
    "    def __init__(self, nombre=\"animal\", peso=0.0):\n",
    "        self.__nombre = nombre\n",
    "        self.__peso = peso\n",
    "\n",
    "    @property\n",
    "    def peso(self):\n",
    "        print('El peso del animal es:')\n",
    "        return self.__peso\n",
    "    \n",
    "    @peso.setter\n",
    "    def peso(self, peso):\n",
    "        self.__peso = peso\n",
    "        \n",
    "    @property\n",
    "    def nombre(self):\n",
    "        print('El nombre del animal es:')\n",
    "        return self.__nombre\n",
    "    \n",
    "    @nombre.setter\n",
    "    def nombre(self, nombre):\n",
    "        self.__nombre = nombre\n",
    "    \n",
    "    def sonido(self):\n",
    "        return \"Grrrr\"\n",
    "    \n",
    "    def __str__(self):\n",
    "        return '{} es un {} y hace {}'.format(self.__nombre, type(self).__name__, self.sonido())"
   ]
  },
  {
   "cell_type": "code",
   "execution_count": 186,
   "id": "2cfcfc9c",
   "metadata": {},
   "outputs": [],
   "source": [
    "mianim = Animal('Paco',5)"
   ]
  },
  {
   "cell_type": "code",
   "execution_count": 187,
   "id": "1c369c12",
   "metadata": {},
   "outputs": [
    {
     "name": "stdout",
     "output_type": "stream",
     "text": [
      "El nombre del animal es:\n"
     ]
    },
    {
     "data": {
      "text/plain": [
       "'Paco'"
      ]
     },
     "execution_count": 187,
     "metadata": {},
     "output_type": "execute_result"
    }
   ],
   "source": [
    "mianim.nombre"
   ]
  },
  {
   "cell_type": "code",
   "execution_count": 188,
   "id": "6ff0a8f9",
   "metadata": {},
   "outputs": [
    {
     "name": "stdout",
     "output_type": "stream",
     "text": [
      "El peso del animal es:\n"
     ]
    },
    {
     "data": {
      "text/plain": [
       "5"
      ]
     },
     "execution_count": 188,
     "metadata": {},
     "output_type": "execute_result"
    }
   ],
   "source": [
    "mianim.peso"
   ]
  },
  {
   "cell_type": "code",
   "execution_count": 189,
   "id": "44d4eabe",
   "metadata": {},
   "outputs": [
    {
     "data": {
      "text/plain": [
       "'Paco es un Animal y hace Grrrr'"
      ]
     },
     "execution_count": 189,
     "metadata": {},
     "output_type": "execute_result"
    }
   ],
   "source": [
    "str(mianim)"
   ]
  },
  {
   "cell_type": "markdown",
   "id": "7e7f2eb0",
   "metadata": {},
   "source": [
    "## Herencia"
   ]
  },
  {
   "cell_type": "code",
   "execution_count": 190,
   "id": "9267f43c",
   "metadata": {},
   "outputs": [],
   "source": [
    "class Perro(Animal):\n",
    "    def __init__(self, nombre=\"perro\", duegno=\"duegno\", peso=0.0):\n",
    "        Animal.__init__(self,nombre,peso)\n",
    "        self.__duegno = duegno\n",
    "    \n",
    "    def __str__(self):\n",
    "        return super().__str__() + ', y su duegno es ' + self.__duegno"
   ]
  },
  {
   "cell_type": "code",
   "execution_count": 191,
   "id": "4abef556",
   "metadata": {},
   "outputs": [],
   "source": [
    "perro = Perro('Daddy', 'Pepe', 10)"
   ]
  },
  {
   "cell_type": "code",
   "execution_count": 192,
   "id": "20a675ad",
   "metadata": {},
   "outputs": [
    {
     "data": {
      "text/plain": [
       "'Daddy es un Perro y hace Grrrr, y su duegno es Pepe'"
      ]
     },
     "execution_count": 192,
     "metadata": {},
     "output_type": "execute_result"
    }
   ],
   "source": [
    "str(perro)"
   ]
  }
 ],
 "metadata": {
  "kernelspec": {
   "display_name": "Python 3 (ipykernel)",
   "language": "python",
   "name": "python3"
  },
  "language_info": {
   "codemirror_mode": {
    "name": "ipython",
    "version": 3
   },
   "file_extension": ".py",
   "mimetype": "text/x-python",
   "name": "python",
   "nbconvert_exporter": "python",
   "pygments_lexer": "ipython3",
   "version": "3.8.10"
  }
 },
 "nbformat": 4,
 "nbformat_minor": 5
}
