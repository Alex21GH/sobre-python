{
 "cells": [
  {
   "cell_type": "markdown",
   "id": "d9f17017",
   "metadata": {},
   "source": [
    "# Importar la librería"
   ]
  },
  {
   "cell_type": "code",
   "execution_count": 1,
   "id": "ba169d5c",
   "metadata": {},
   "outputs": [],
   "source": [
    "import numpy as np"
   ]
  },
  {
   "cell_type": "code",
   "execution_count": 2,
   "id": "73161f84",
   "metadata": {},
   "outputs": [],
   "source": [
    "from numpy import random"
   ]
  },
  {
   "cell_type": "markdown",
   "id": "aebe3434",
   "metadata": {},
   "source": [
    "# Arreglos de Numpy"
   ]
  },
  {
   "cell_type": "code",
   "execution_count": 3,
   "id": "63809d62",
   "metadata": {},
   "outputs": [
    {
     "data": {
      "text/plain": [
       "[0, 1, 2, 3, 4, 5, 6, 7, 8, 9]"
      ]
     },
     "execution_count": 3,
     "metadata": {},
     "output_type": "execute_result"
    }
   ],
   "source": [
    "l1 = list(range(10))\n",
    "l1"
   ]
  },
  {
   "cell_type": "code",
   "execution_count": 4,
   "id": "aec79c9e",
   "metadata": {},
   "outputs": [
    {
     "data": {
      "text/plain": [
       "list"
      ]
     },
     "execution_count": 4,
     "metadata": {},
     "output_type": "execute_result"
    }
   ],
   "source": [
    "type(l1)"
   ]
  },
  {
   "cell_type": "code",
   "execution_count": 5,
   "id": "4dc4b24c",
   "metadata": {},
   "outputs": [
    {
     "data": {
      "text/plain": [
       "array([0, 1, 2, 3, 4, 5, 6, 7, 8, 9], dtype=int8)"
      ]
     },
     "execution_count": 5,
     "metadata": {},
     "output_type": "execute_result"
    }
   ],
   "source": [
    "arr_np1 = np.array(l1,dtype=np.int8)\n",
    "arr_np1"
   ]
  },
  {
   "cell_type": "code",
   "execution_count": 6,
   "id": "c4574664",
   "metadata": {},
   "outputs": [
    {
     "data": {
      "text/plain": [
       "numpy.ndarray"
      ]
     },
     "execution_count": 6,
     "metadata": {},
     "output_type": "execute_result"
    }
   ],
   "source": [
    "type(arr_np1)"
   ]
  },
  {
   "cell_type": "code",
   "execution_count": 7,
   "id": "d77da63e",
   "metadata": {},
   "outputs": [
    {
     "data": {
      "text/plain": [
       "[[1, 2, 3], [4, 5, 6]]"
      ]
     },
     "execution_count": 7,
     "metadata": {},
     "output_type": "execute_result"
    }
   ],
   "source": [
    "lmd1 = [[1,2,3],[4,5,6]]\n",
    "lmd1"
   ]
  },
  {
   "cell_type": "code",
   "execution_count": 8,
   "id": "d7178554",
   "metadata": {},
   "outputs": [
    {
     "data": {
      "text/plain": [
       "array([[1, 2, 3],\n",
       "       [4, 5, 6]])"
      ]
     },
     "execution_count": 8,
     "metadata": {},
     "output_type": "execute_result"
    }
   ],
   "source": [
    "arr_md_np1 = np.array(lmd1)\n",
    "arr_md_np1"
   ]
  },
  {
   "cell_type": "markdown",
   "id": "1410e0e5",
   "metadata": {},
   "source": [
    "Para ver el tipo de dato de los elementos del arreglo"
   ]
  },
  {
   "cell_type": "code",
   "execution_count": 9,
   "id": "a422de4f",
   "metadata": {},
   "outputs": [
    {
     "data": {
      "text/plain": [
       "dtype('int64')"
      ]
     },
     "execution_count": 9,
     "metadata": {},
     "output_type": "execute_result"
    }
   ],
   "source": [
    "arr_md_np1.dtype"
   ]
  },
  {
   "cell_type": "markdown",
   "id": "79fcb1e5",
   "metadata": {},
   "source": [
    "Para crear arreglos sin necesidad de listas"
   ]
  },
  {
   "cell_type": "code",
   "execution_count": 10,
   "id": "d1bd047f",
   "metadata": {},
   "outputs": [
    {
     "data": {
      "text/plain": [
       "array([1, 2, 3, 4, 5, 6, 7, 8, 9])"
      ]
     },
     "execution_count": 10,
     "metadata": {},
     "output_type": "execute_result"
    }
   ],
   "source": [
    "anp1 = np.arange(1,10)\n",
    "anp1"
   ]
  },
  {
   "cell_type": "code",
   "execution_count": 11,
   "id": "2cc43704",
   "metadata": {},
   "outputs": [
    {
     "data": {
      "text/plain": [
       "dtype('int64')"
      ]
     },
     "execution_count": 11,
     "metadata": {},
     "output_type": "execute_result"
    }
   ],
   "source": [
    "anp1.dtype"
   ]
  },
  {
   "cell_type": "code",
   "execution_count": 12,
   "id": "a9375893",
   "metadata": {},
   "outputs": [
    {
     "data": {
      "text/plain": [
       "array([ 2.,  5.,  8., 11., 14.], dtype=float32)"
      ]
     },
     "execution_count": 12,
     "metadata": {},
     "output_type": "execute_result"
    }
   ],
   "source": [
    "anp2 = np.arange(2,15,3,dtype=np.float32)\n",
    "anp2"
   ]
  },
  {
   "cell_type": "code",
   "execution_count": 13,
   "id": "9f2e1222",
   "metadata": {},
   "outputs": [
    {
     "data": {
      "text/plain": [
       "dtype('float32')"
      ]
     },
     "execution_count": 13,
     "metadata": {},
     "output_type": "execute_result"
    }
   ],
   "source": [
    "anp2.dtype"
   ]
  },
  {
   "cell_type": "markdown",
   "id": "a8f69278",
   "metadata": {},
   "source": [
    "Para crear un arreglo de 5 elementos entre 0 y 4 a pasos iguales"
   ]
  },
  {
   "cell_type": "code",
   "execution_count": 14,
   "id": "3f4dd69e",
   "metadata": {},
   "outputs": [
    {
     "data": {
      "text/plain": [
       "array([0., 1., 2., 3., 4.])"
      ]
     },
     "execution_count": 14,
     "metadata": {},
     "output_type": "execute_result"
    }
   ],
   "source": [
    "lnp1 = np.linspace(0,4,5)\n",
    "lnp1"
   ]
  },
  {
   "cell_type": "code",
   "execution_count": 15,
   "id": "6e385218",
   "metadata": {},
   "outputs": [
    {
     "data": {
      "text/plain": [
       "dtype('float64')"
      ]
     },
     "execution_count": 15,
     "metadata": {},
     "output_type": "execute_result"
    }
   ],
   "source": [
    "lnp1.dtype"
   ]
  },
  {
   "cell_type": "markdown",
   "id": "7282fbdc",
   "metadata": {},
   "source": [
    "Un arreglo de 3 elementos entre 0 y 4 a pasos iguales"
   ]
  },
  {
   "cell_type": "code",
   "execution_count": 16,
   "id": "8d18095f",
   "metadata": {},
   "outputs": [
    {
     "data": {
      "text/plain": [
       "array([0., 2., 4.], dtype=float32)"
      ]
     },
     "execution_count": 16,
     "metadata": {},
     "output_type": "execute_result"
    }
   ],
   "source": [
    "lnp2 = np.linspace(0,4,3,dtype=np.float32)\n",
    "lnp2"
   ]
  },
  {
   "cell_type": "code",
   "execution_count": 17,
   "id": "cf0988bc",
   "metadata": {},
   "outputs": [
    {
     "data": {
      "text/plain": [
       "dtype('float32')"
      ]
     },
     "execution_count": 17,
     "metadata": {},
     "output_type": "execute_result"
    }
   ],
   "source": [
    "lnp2.dtype"
   ]
  },
  {
   "cell_type": "markdown",
   "id": "333664a5",
   "metadata": {},
   "source": [
    "Un arreglo de 10 elementos entre 0 y 5 a pasos iguales"
   ]
  },
  {
   "cell_type": "code",
   "execution_count": 18,
   "id": "4d1249a6",
   "metadata": {},
   "outputs": [
    {
     "data": {
      "text/plain": [
       "array([0.        , 0.55555556, 1.11111111, 1.66666667, 2.22222222,\n",
       "       2.77777778, 3.33333333, 3.88888889, 4.44444444, 5.        ])"
      ]
     },
     "execution_count": 18,
     "metadata": {},
     "output_type": "execute_result"
    }
   ],
   "source": [
    "np.linspace(0,5,10)"
   ]
  },
  {
   "cell_type": "markdown",
   "id": "89fedaaf",
   "metadata": {},
   "source": [
    "Un arreglo de ceros"
   ]
  },
  {
   "cell_type": "code",
   "execution_count": 19,
   "id": "dac54296",
   "metadata": {},
   "outputs": [],
   "source": [
    "c0 = np.zeros(10)"
   ]
  },
  {
   "cell_type": "code",
   "execution_count": 20,
   "id": "8bc0f910",
   "metadata": {},
   "outputs": [
    {
     "data": {
      "text/plain": [
       "numpy.ndarray"
      ]
     },
     "execution_count": 20,
     "metadata": {},
     "output_type": "execute_result"
    }
   ],
   "source": [
    "type(c0)"
   ]
  },
  {
   "cell_type": "code",
   "execution_count": 21,
   "id": "283ccb44",
   "metadata": {},
   "outputs": [
    {
     "data": {
      "text/plain": [
       "dtype('float64')"
      ]
     },
     "execution_count": 21,
     "metadata": {},
     "output_type": "execute_result"
    }
   ],
   "source": [
    "c0.dtype"
   ]
  },
  {
   "cell_type": "code",
   "execution_count": 22,
   "id": "323d85f7",
   "metadata": {},
   "outputs": [
    {
     "data": {
      "text/plain": [
       "array([[0., 0., 0., 0., 0., 0., 0., 0., 0., 0.]])"
      ]
     },
     "execution_count": 22,
     "metadata": {},
     "output_type": "execute_result"
    }
   ],
   "source": [
    "np.zeros((1,10))"
   ]
  },
  {
   "cell_type": "code",
   "execution_count": 23,
   "id": "4d7ef64a",
   "metadata": {},
   "outputs": [
    {
     "data": {
      "text/plain": [
       "array([[0],\n",
       "       [0],\n",
       "       [0],\n",
       "       [0],\n",
       "       [0],\n",
       "       [0],\n",
       "       [0],\n",
       "       [0],\n",
       "       [0],\n",
       "       [0]], dtype=int8)"
      ]
     },
     "execution_count": 23,
     "metadata": {},
     "output_type": "execute_result"
    }
   ],
   "source": [
    "np.zeros((10,1),dtype=np.int8)"
   ]
  },
  {
   "cell_type": "code",
   "execution_count": 24,
   "id": "8dbabef4",
   "metadata": {},
   "outputs": [
    {
     "data": {
      "text/plain": [
       "array([[0, 0],\n",
       "       [0, 0],\n",
       "       [0, 0],\n",
       "       [0, 0],\n",
       "       [0, 0]], dtype=int16)"
      ]
     },
     "execution_count": 24,
     "metadata": {},
     "output_type": "execute_result"
    }
   ],
   "source": [
    "np.zeros((5,2),dtype=np.int16)"
   ]
  },
  {
   "cell_type": "code",
   "execution_count": 25,
   "id": "7368d19c",
   "metadata": {},
   "outputs": [
    {
     "data": {
      "text/plain": [
       "array([[0., 0., 0., 0.],\n",
       "       [0., 0., 0., 0.],\n",
       "       [0., 0., 0., 0.]], dtype=float32)"
      ]
     },
     "execution_count": 25,
     "metadata": {},
     "output_type": "execute_result"
    }
   ],
   "source": [
    "np.zeros((3,4),dtype=np.float32)"
   ]
  },
  {
   "cell_type": "markdown",
   "id": "bea0335c",
   "metadata": {},
   "source": [
    "Un arreglo de unos"
   ]
  },
  {
   "cell_type": "code",
   "execution_count": 26,
   "id": "da2c7114",
   "metadata": {},
   "outputs": [
    {
     "data": {
      "text/plain": [
       "array([1., 1., 1., 1., 1., 1., 1., 1., 1., 1.])"
      ]
     },
     "execution_count": 26,
     "metadata": {},
     "output_type": "execute_result"
    }
   ],
   "source": [
    "u0 = np.ones(10)\n",
    "u0"
   ]
  },
  {
   "cell_type": "markdown",
   "id": "9afb5a1c",
   "metadata": {},
   "source": [
    "Para saber el tamaño"
   ]
  },
  {
   "cell_type": "code",
   "execution_count": 27,
   "id": "86517d93",
   "metadata": {},
   "outputs": [
    {
     "data": {
      "text/plain": [
       "10"
      ]
     },
     "execution_count": 27,
     "metadata": {},
     "output_type": "execute_result"
    }
   ],
   "source": [
    "u0.size"
   ]
  },
  {
   "cell_type": "markdown",
   "id": "a300ece7",
   "metadata": {},
   "source": [
    "Otros ejemplos, con otras dimensiones y otros tipo de dato"
   ]
  },
  {
   "cell_type": "code",
   "execution_count": 28,
   "id": "4e7445da",
   "metadata": {},
   "outputs": [
    {
     "data": {
      "text/plain": [
       "array([[1., 1., 1., 1., 1., 1., 1., 1., 1., 1.]])"
      ]
     },
     "execution_count": 28,
     "metadata": {},
     "output_type": "execute_result"
    }
   ],
   "source": [
    "np.ones((1,10))"
   ]
  },
  {
   "cell_type": "code",
   "execution_count": 29,
   "id": "df07b074",
   "metadata": {},
   "outputs": [
    {
     "data": {
      "text/plain": [
       "array([[1., 1.],\n",
       "       [1., 1.],\n",
       "       [1., 1.],\n",
       "       [1., 1.],\n",
       "       [1., 1.],\n",
       "       [1., 1.],\n",
       "       [1., 1.],\n",
       "       [1., 1.],\n",
       "       [1., 1.],\n",
       "       [1., 1.]])"
      ]
     },
     "execution_count": 29,
     "metadata": {},
     "output_type": "execute_result"
    }
   ],
   "source": [
    "np.ones((10,2))"
   ]
  },
  {
   "cell_type": "code",
   "execution_count": 30,
   "id": "f38b5a12",
   "metadata": {},
   "outputs": [
    {
     "data": {
      "text/plain": [
       "array([[1, 1, 1],\n",
       "       [1, 1, 1],\n",
       "       [1, 1, 1],\n",
       "       [1, 1, 1]], dtype=int8)"
      ]
     },
     "execution_count": 30,
     "metadata": {},
     "output_type": "execute_result"
    }
   ],
   "source": [
    "np.ones((4,3),dtype=np.int8)"
   ]
  },
  {
   "cell_type": "markdown",
   "id": "aabcc6d8",
   "metadata": {},
   "source": [
    "Para crear un arreglo de tamaño 5, cuyos elementos son números aleatorios entre 0 y 3"
   ]
  },
  {
   "cell_type": "code",
   "execution_count": 31,
   "id": "78f1b6b3",
   "metadata": {},
   "outputs": [
    {
     "data": {
      "text/plain": [
       "array([2, 3, 0, 1, 0])"
      ]
     },
     "execution_count": 31,
     "metadata": {},
     "output_type": "execute_result"
    }
   ],
   "source": [
    "rnpa1 = np.random.randint(0,4,5)\n",
    "rnpa1"
   ]
  },
  {
   "cell_type": "code",
   "execution_count": 32,
   "id": "1cfcdc18",
   "metadata": {},
   "outputs": [
    {
     "data": {
      "text/plain": [
       "dtype('int64')"
      ]
     },
     "execution_count": 32,
     "metadata": {},
     "output_type": "execute_result"
    }
   ],
   "source": [
    "rnpa1.dtype"
   ]
  },
  {
   "cell_type": "code",
   "execution_count": 33,
   "id": "6b8ec825",
   "metadata": {},
   "outputs": [
    {
     "data": {
      "text/plain": [
       "5"
      ]
     },
     "execution_count": 33,
     "metadata": {},
     "output_type": "execute_result"
    }
   ],
   "source": [
    "rnpa1.size"
   ]
  },
  {
   "cell_type": "markdown",
   "id": "712461ea",
   "metadata": {},
   "source": [
    "Para que el arreglo sea multidimensional"
   ]
  },
  {
   "cell_type": "code",
   "execution_count": 34,
   "id": "c648331a",
   "metadata": {},
   "outputs": [
    {
     "data": {
      "text/plain": [
       "array([[0, 3, 3],\n",
       "       [3, 3, 1],\n",
       "       [0, 1, 1],\n",
       "       [3, 1, 1]])"
      ]
     },
     "execution_count": 34,
     "metadata": {},
     "output_type": "execute_result"
    }
   ],
   "source": [
    "rnpa2 = np.random.randint(0,4,(4,3))\n",
    "rnpa2"
   ]
  },
  {
   "cell_type": "code",
   "execution_count": 35,
   "id": "d9ebb29a",
   "metadata": {},
   "outputs": [
    {
     "data": {
      "text/plain": [
       "12"
      ]
     },
     "execution_count": 35,
     "metadata": {},
     "output_type": "execute_result"
    }
   ],
   "source": [
    "rnpa2.size"
   ]
  },
  {
   "cell_type": "code",
   "execution_count": 36,
   "id": "eb66942c",
   "metadata": {},
   "outputs": [
    {
     "data": {
      "text/plain": [
       "(4, 3)"
      ]
     },
     "execution_count": 36,
     "metadata": {},
     "output_type": "execute_result"
    }
   ],
   "source": [
    "rnpa2.shape"
   ]
  },
  {
   "cell_type": "markdown",
   "id": "d37b30ec",
   "metadata": {},
   "source": [
    "# Indexado"
   ]
  },
  {
   "cell_type": "code",
   "execution_count": 37,
   "id": "248ff404",
   "metadata": {},
   "outputs": [
    {
     "data": {
      "text/plain": [
       "array([[1, 1, 0, 3, 1, 1],\n",
       "       [0, 1, 1, 3, 1, 0],\n",
       "       [2, 3, 3, 0, 0, 3],\n",
       "       [2, 1, 0, 0, 0, 1]])"
      ]
     },
     "execution_count": 37,
     "metadata": {},
     "output_type": "execute_result"
    }
   ],
   "source": [
    "randarr = np.random.randint(0,4,(4,6))\n",
    "randarr"
   ]
  },
  {
   "cell_type": "markdown",
   "id": "0714bad1",
   "metadata": {},
   "source": [
    "Primera fila"
   ]
  },
  {
   "cell_type": "code",
   "execution_count": 38,
   "id": "4e5430e5",
   "metadata": {},
   "outputs": [
    {
     "data": {
      "text/plain": [
       "array([1, 1, 0, 3, 1, 1])"
      ]
     },
     "execution_count": 38,
     "metadata": {},
     "output_type": "execute_result"
    }
   ],
   "source": [
    "randarr[0]"
   ]
  },
  {
   "cell_type": "markdown",
   "id": "4a58fc2c",
   "metadata": {},
   "source": [
    "También para la primera fila"
   ]
  },
  {
   "cell_type": "code",
   "execution_count": 39,
   "id": "24b5278c",
   "metadata": {},
   "outputs": [
    {
     "data": {
      "text/plain": [
       "array([[1, 1, 0, 3, 1, 1]])"
      ]
     },
     "execution_count": 39,
     "metadata": {},
     "output_type": "execute_result"
    }
   ],
   "source": [
    "randarr[0:1]"
   ]
  },
  {
   "cell_type": "markdown",
   "id": "dcb4ee6f",
   "metadata": {},
   "source": [
    "Para la primera y segunda fila"
   ]
  },
  {
   "cell_type": "code",
   "execution_count": 40,
   "id": "e94f7008",
   "metadata": {},
   "outputs": [
    {
     "data": {
      "text/plain": [
       "array([[1, 1, 0, 3, 1, 1],\n",
       "       [0, 1, 1, 3, 1, 0]])"
      ]
     },
     "execution_count": 40,
     "metadata": {},
     "output_type": "execute_result"
    }
   ],
   "source": [
    "randarr[0:2]"
   ]
  },
  {
   "cell_type": "markdown",
   "id": "48da24e0",
   "metadata": {},
   "source": [
    "Para coger la tercera columna"
   ]
  },
  {
   "cell_type": "code",
   "execution_count": 41,
   "id": "ea6c4417",
   "metadata": {},
   "outputs": [
    {
     "data": {
      "text/plain": [
       "array([0, 1, 3, 0])"
      ]
     },
     "execution_count": 41,
     "metadata": {},
     "output_type": "execute_result"
    }
   ],
   "source": [
    "randarr[:,2]"
   ]
  },
  {
   "cell_type": "markdown",
   "id": "9fefec52",
   "metadata": {},
   "source": [
    "Para coger la tercera y cuarta columna"
   ]
  },
  {
   "cell_type": "code",
   "execution_count": 42,
   "id": "55d9c417",
   "metadata": {},
   "outputs": [
    {
     "data": {
      "text/plain": [
       "array([[0, 3],\n",
       "       [1, 3],\n",
       "       [3, 0],\n",
       "       [0, 0]])"
      ]
     },
     "execution_count": 42,
     "metadata": {},
     "output_type": "execute_result"
    }
   ],
   "source": [
    "randarr[:,2:4]"
   ]
  },
  {
   "cell_type": "markdown",
   "id": "f7a4de4a",
   "metadata": {},
   "source": [
    "Para la primera y segunda fila, la primera columna"
   ]
  },
  {
   "cell_type": "code",
   "execution_count": 43,
   "id": "e9382f40",
   "metadata": {},
   "outputs": [
    {
     "data": {
      "text/plain": [
       "array([1, 0])"
      ]
     },
     "execution_count": 43,
     "metadata": {},
     "output_type": "execute_result"
    }
   ],
   "source": [
    "randarr[0:2,0]"
   ]
  },
  {
   "cell_type": "markdown",
   "id": "27f09a77",
   "metadata": {},
   "source": [
    "Para la primera y segunda fila, desde la primera hasta la tercera columna"
   ]
  },
  {
   "cell_type": "code",
   "execution_count": 44,
   "id": "bd90b329",
   "metadata": {},
   "outputs": [
    {
     "data": {
      "text/plain": [
       "array([[1, 1, 0, 3],\n",
       "       [0, 1, 1, 3]])"
      ]
     },
     "execution_count": 44,
     "metadata": {},
     "output_type": "execute_result"
    }
   ],
   "source": [
    "randarr[0:2,0:4]"
   ]
  },
  {
   "cell_type": "markdown",
   "id": "d8407ef1",
   "metadata": {},
   "source": [
    "Para el elemento de la fila 3 y columna 4"
   ]
  },
  {
   "cell_type": "code",
   "execution_count": 45,
   "id": "5d9c5436",
   "metadata": {},
   "outputs": [
    {
     "data": {
      "text/plain": [
       "0"
      ]
     },
     "execution_count": 45,
     "metadata": {},
     "output_type": "execute_result"
    }
   ],
   "source": [
    "randarr[3,4]"
   ]
  },
  {
   "cell_type": "markdown",
   "id": "06d099d8",
   "metadata": {},
   "source": [
    "También puede hacer"
   ]
  },
  {
   "cell_type": "code",
   "execution_count": 46,
   "id": "d9fbacff",
   "metadata": {},
   "outputs": [
    {
     "data": {
      "text/plain": [
       "0"
      ]
     },
     "execution_count": 46,
     "metadata": {},
     "output_type": "execute_result"
    }
   ],
   "source": [
    "randarr.item(3,4)"
   ]
  },
  {
   "cell_type": "code",
   "execution_count": 47,
   "id": "c730aaa8",
   "metadata": {},
   "outputs": [
    {
     "data": {
      "text/plain": [
       "0"
      ]
     },
     "execution_count": 47,
     "metadata": {},
     "output_type": "execute_result"
    }
   ],
   "source": [
    "randarr.item(22)"
   ]
  },
  {
   "cell_type": "markdown",
   "id": "18ea646d",
   "metadata": {},
   "source": [
    "Para coger ciertos elementos"
   ]
  },
  {
   "cell_type": "code",
   "execution_count": 48,
   "id": "70d6d994",
   "metadata": {},
   "outputs": [
    {
     "data": {
      "text/plain": [
       "array([1, 0, 0])"
      ]
     },
     "execution_count": 48,
     "metadata": {},
     "output_type": "execute_result"
    }
   ],
   "source": [
    "np.take(randarr,[1,15,20])"
   ]
  },
  {
   "cell_type": "code",
   "execution_count": 49,
   "id": "9d32fe24",
   "metadata": {},
   "outputs": [
    {
     "data": {
      "text/plain": [
       "array([[1, 1, 0, 3, 1, 1],\n",
       "       [0, 1, 1, 3, 1, 0],\n",
       "       [2, 3, 3, 0, 0, 3],\n",
       "       [2, 1, 0, 0, 0, 1]])"
      ]
     },
     "execution_count": 49,
     "metadata": {},
     "output_type": "execute_result"
    }
   ],
   "source": [
    "randarr"
   ]
  },
  {
   "cell_type": "markdown",
   "id": "85f84aa1",
   "metadata": {},
   "source": [
    "Para reemplazar elementos"
   ]
  },
  {
   "cell_type": "code",
   "execution_count": 50,
   "id": "ef60ad3a",
   "metadata": {},
   "outputs": [
    {
     "data": {
      "text/plain": [
       "array([[1, 8, 0, 3, 1, 1],\n",
       "       [0, 1, 1, 3, 1, 0],\n",
       "       [2, 3, 3, 8, 0, 3],\n",
       "       [2, 1, 8, 0, 0, 1]])"
      ]
     },
     "execution_count": 50,
     "metadata": {},
     "output_type": "execute_result"
    }
   ],
   "source": [
    "np.put(randarr,[1,15,20],[8,8,8])\n",
    "randarr"
   ]
  },
  {
   "cell_type": "markdown",
   "id": "74902e6c",
   "metadata": {},
   "source": [
    "Para invertir el orden de las filas"
   ]
  },
  {
   "cell_type": "code",
   "execution_count": 51,
   "id": "d78252ca",
   "metadata": {},
   "outputs": [
    {
     "data": {
      "text/plain": [
       "array([[2, 1, 8, 0, 0, 1],\n",
       "       [2, 3, 3, 8, 0, 3],\n",
       "       [0, 1, 1, 3, 1, 0],\n",
       "       [1, 8, 0, 3, 1, 1]])"
      ]
     },
     "execution_count": 51,
     "metadata": {},
     "output_type": "execute_result"
    }
   ],
   "source": [
    "randarr[::-1]"
   ]
  },
  {
   "cell_type": "markdown",
   "id": "32dc2f9e",
   "metadata": {},
   "source": [
    "Para extraer los elementos pares"
   ]
  },
  {
   "cell_type": "code",
   "execution_count": 52,
   "id": "466a8084",
   "metadata": {},
   "outputs": [
    {
     "data": {
      "text/plain": [
       "array([8, 0, 0, 0, 2, 8, 0, 2, 8, 0, 0])"
      ]
     },
     "execution_count": 52,
     "metadata": {},
     "output_type": "execute_result"
    }
   ],
   "source": [
    "randarr[randarr % 2 == 0]"
   ]
  },
  {
   "cell_type": "markdown",
   "id": "bdfbcb93",
   "metadata": {},
   "source": [
    "Para extraer los elementos mayores que 2"
   ]
  },
  {
   "cell_type": "code",
   "execution_count": 53,
   "id": "b1b20807",
   "metadata": {},
   "outputs": [
    {
     "data": {
      "text/plain": [
       "array([8, 3, 3, 3, 3, 8, 3, 8])"
      ]
     },
     "execution_count": 53,
     "metadata": {},
     "output_type": "execute_result"
    }
   ],
   "source": [
    "randarr[randarr > 2]"
   ]
  },
  {
   "cell_type": "markdown",
   "id": "ef4f7190",
   "metadata": {},
   "source": [
    "Mayores que 1 e impares"
   ]
  },
  {
   "cell_type": "code",
   "execution_count": 54,
   "id": "1f618e0b",
   "metadata": {},
   "outputs": [
    {
     "data": {
      "text/plain": [
       "array([3, 3, 3, 3, 3])"
      ]
     },
     "execution_count": 54,
     "metadata": {},
     "output_type": "execute_result"
    }
   ],
   "source": [
    "randarr[(randarr > 1) & (randarr % 2 == 1)]"
   ]
  },
  {
   "cell_type": "markdown",
   "id": "6ab2ae5e",
   "metadata": {},
   "source": [
    "# Remodelar arreglos"
   ]
  },
  {
   "cell_type": "code",
   "execution_count": 55,
   "id": "d77aadff",
   "metadata": {},
   "outputs": [
    {
     "data": {
      "text/plain": [
       "array([[3, 0, 3, 0, 0, 3, 1],\n",
       "       [1, 3, 3, 3, 1, 3, 1],\n",
       "       [2, 2, 2, 3, 2, 1, 1],\n",
       "       [2, 3, 3, 3, 2, 3, 1]])"
      ]
     },
     "execution_count": 55,
     "metadata": {},
     "output_type": "execute_result"
    }
   ],
   "source": [
    "randarr = np.random.randint(0,4,(4,7))\n",
    "randarr"
   ]
  },
  {
   "cell_type": "code",
   "execution_count": 56,
   "id": "3080047e",
   "metadata": {},
   "outputs": [
    {
     "data": {
      "text/plain": [
       "array([[3, 0, 3, 0, 0, 3, 1, 1, 3, 3, 3, 1, 3, 1, 2, 2, 2, 3, 2, 1, 1, 2,\n",
       "        3, 3, 3, 2, 3, 1]])"
      ]
     },
     "execution_count": 56,
     "metadata": {},
     "output_type": "execute_result"
    }
   ],
   "source": [
    "randarr.reshape((1,28))"
   ]
  },
  {
   "cell_type": "code",
   "execution_count": 57,
   "id": "3fc6dab6",
   "metadata": {},
   "outputs": [
    {
     "data": {
      "text/plain": [
       "array([[3, 0, 3, 0, 0, 3, 1, 1, 3, 3, 3, 1, 3, 1],\n",
       "       [2, 2, 2, 3, 2, 1, 1, 2, 3, 3, 3, 2, 3, 1]])"
      ]
     },
     "execution_count": 57,
     "metadata": {},
     "output_type": "execute_result"
    }
   ],
   "source": [
    "randarr.reshape((2,14))"
   ]
  },
  {
   "cell_type": "code",
   "execution_count": 58,
   "id": "adb724d8",
   "metadata": {},
   "outputs": [
    {
     "data": {
      "text/plain": [
       "array([[3],\n",
       "       [0],\n",
       "       [3],\n",
       "       [0],\n",
       "       [0],\n",
       "       [3],\n",
       "       [1],\n",
       "       [1],\n",
       "       [3],\n",
       "       [3],\n",
       "       [3],\n",
       "       [1],\n",
       "       [3],\n",
       "       [1],\n",
       "       [2],\n",
       "       [2],\n",
       "       [2],\n",
       "       [3],\n",
       "       [2],\n",
       "       [1],\n",
       "       [1],\n",
       "       [2],\n",
       "       [3],\n",
       "       [3],\n",
       "       [3],\n",
       "       [2],\n",
       "       [3],\n",
       "       [1]])"
      ]
     },
     "execution_count": 58,
     "metadata": {},
     "output_type": "execute_result"
    }
   ],
   "source": [
    "randarr.reshape((28,1))"
   ]
  },
  {
   "cell_type": "code",
   "execution_count": 59,
   "id": "93b2a78b",
   "metadata": {},
   "outputs": [
    {
     "data": {
      "text/plain": [
       "array([[3, 0],\n",
       "       [3, 0],\n",
       "       [0, 3],\n",
       "       [1, 1],\n",
       "       [3, 3],\n",
       "       [3, 1],\n",
       "       [3, 1],\n",
       "       [2, 2],\n",
       "       [2, 3],\n",
       "       [2, 1],\n",
       "       [1, 2],\n",
       "       [3, 3],\n",
       "       [3, 2],\n",
       "       [3, 1]])"
      ]
     },
     "execution_count": 59,
     "metadata": {},
     "output_type": "execute_result"
    }
   ],
   "source": [
    "randarr.reshape((14,2))"
   ]
  },
  {
   "cell_type": "markdown",
   "id": "c4afb5fc",
   "metadata": {},
   "source": [
    "La forma transpuesta"
   ]
  },
  {
   "cell_type": "code",
   "execution_count": 60,
   "id": "5c54d391",
   "metadata": {},
   "outputs": [
    {
     "data": {
      "text/plain": [
       "array([[3, 1, 2, 2],\n",
       "       [0, 3, 2, 3],\n",
       "       [3, 3, 2, 3],\n",
       "       [0, 3, 3, 3],\n",
       "       [0, 1, 2, 2],\n",
       "       [3, 3, 1, 3],\n",
       "       [1, 1, 1, 1]])"
      ]
     },
     "execution_count": 60,
     "metadata": {},
     "output_type": "execute_result"
    }
   ],
   "source": [
    "randarr.transpose()"
   ]
  },
  {
   "cell_type": "code",
   "execution_count": 61,
   "id": "243089d6",
   "metadata": {},
   "outputs": [
    {
     "data": {
      "text/plain": [
       "array([[3, 0, 3, 0, 0, 3, 1],\n",
       "       [1, 3, 3, 3, 1, 3, 1],\n",
       "       [2, 2, 2, 3, 2, 1, 1],\n",
       "       [2, 3, 3, 3, 2, 3, 1]])"
      ]
     },
     "execution_count": 61,
     "metadata": {},
     "output_type": "execute_result"
    }
   ],
   "source": [
    "randarr"
   ]
  },
  {
   "cell_type": "markdown",
   "id": "6b95d0c1",
   "metadata": {},
   "source": [
    "Cuidado con cambiar el tamaño. No es intuitivo"
   ]
  },
  {
   "cell_type": "code",
   "execution_count": 62,
   "id": "3651904f",
   "metadata": {},
   "outputs": [
    {
     "data": {
      "text/plain": [
       "array([[3, 0, 3, 0, 0, 3],\n",
       "       [1, 1, 3, 3, 3, 1],\n",
       "       [3, 1, 2, 2, 2, 3],\n",
       "       [2, 1, 1, 2, 3, 3]])"
      ]
     },
     "execution_count": 62,
     "metadata": {},
     "output_type": "execute_result"
    }
   ],
   "source": [
    "np.resize(randarr,(4,6))"
   ]
  },
  {
   "cell_type": "code",
   "execution_count": 63,
   "id": "6f3089f2",
   "metadata": {},
   "outputs": [
    {
     "data": {
      "text/plain": [
       "array([[3, 0, 3, 0, 0, 3, 1, 1],\n",
       "       [3, 3, 3, 1, 3, 1, 2, 2],\n",
       "       [2, 3, 2, 1, 1, 2, 3, 3],\n",
       "       [3, 2, 3, 1, 3, 0, 3, 0]])"
      ]
     },
     "execution_count": 63,
     "metadata": {},
     "output_type": "execute_result"
    }
   ],
   "source": [
    "np.resize(randarr,(4,8))"
   ]
  },
  {
   "cell_type": "markdown",
   "id": "57e90876",
   "metadata": {},
   "source": [
    "Para aplanar el arreglo"
   ]
  },
  {
   "cell_type": "code",
   "execution_count": 64,
   "id": "8462ed76",
   "metadata": {},
   "outputs": [
    {
     "data": {
      "text/plain": [
       "array([3, 0, 3, 0, 0, 3, 1, 1, 3, 3, 3, 1, 3, 1, 2, 2, 2, 3, 2, 1, 1, 2,\n",
       "       3, 3, 3, 2, 3, 1])"
      ]
     },
     "execution_count": 64,
     "metadata": {},
     "output_type": "execute_result"
    }
   ],
   "source": [
    "randarr.flatten()"
   ]
  },
  {
   "cell_type": "markdown",
   "id": "8ef3c6e6",
   "metadata": {},
   "source": [
    "Operaciones que modifican el arreglo \"in place\". No generan un arreglo nuevo, modifica el arreglo ya existente."
   ]
  },
  {
   "cell_type": "code",
   "execution_count": 65,
   "id": "b4819554",
   "metadata": {},
   "outputs": [
    {
     "data": {
      "text/plain": [
       "array([[3, 0, 3, 0, 0, 3, 1],\n",
       "       [1, 3, 3, 3, 1, 3, 1],\n",
       "       [2, 2, 2, 3, 2, 1, 1],\n",
       "       [2, 3, 3, 3, 2, 3, 1]])"
      ]
     },
     "execution_count": 65,
     "metadata": {},
     "output_type": "execute_result"
    }
   ],
   "source": [
    "randarr"
   ]
  },
  {
   "cell_type": "code",
   "execution_count": 66,
   "id": "d0e2dd30",
   "metadata": {},
   "outputs": [
    {
     "data": {
      "text/plain": [
       "array([[1, 0, 2, 0, 0, 1, 1],\n",
       "       [2, 2, 3, 3, 1, 3, 1],\n",
       "       [2, 3, 3, 3, 2, 3, 1],\n",
       "       [3, 3, 3, 3, 2, 3, 1]])"
      ]
     },
     "execution_count": 66,
     "metadata": {},
     "output_type": "execute_result"
    }
   ],
   "source": [
    "randarr.sort(axis=0)\n",
    "randarr"
   ]
  },
  {
   "cell_type": "code",
   "execution_count": 67,
   "id": "c5974451",
   "metadata": {},
   "outputs": [
    {
     "data": {
      "text/plain": [
       "array([[0, 0, 0, 1, 1, 1, 2],\n",
       "       [1, 1, 2, 2, 3, 3, 3],\n",
       "       [1, 2, 2, 3, 3, 3, 3],\n",
       "       [1, 2, 3, 3, 3, 3, 3]])"
      ]
     },
     "execution_count": 67,
     "metadata": {},
     "output_type": "execute_result"
    }
   ],
   "source": [
    "randarr.sort(axis=1)\n",
    "randarr"
   ]
  },
  {
   "cell_type": "markdown",
   "id": "239983c2",
   "metadata": {},
   "source": [
    "# Concatenar arreglos"
   ]
  },
  {
   "cell_type": "code",
   "execution_count": 68,
   "id": "1bbcf8dc",
   "metadata": {},
   "outputs": [
    {
     "data": {
      "text/plain": [
       "array([[5, 7, 5],\n",
       "       [2, 8, 5],\n",
       "       [5, 6, 3]])"
      ]
     },
     "execution_count": 68,
     "metadata": {},
     "output_type": "execute_result"
    }
   ],
   "source": [
    "randarr1 = np.random.randint(1,10,(3,3))\n",
    "randarr1"
   ]
  },
  {
   "cell_type": "code",
   "execution_count": 69,
   "id": "f7000220",
   "metadata": {},
   "outputs": [
    {
     "data": {
      "text/plain": [
       "array([[2, 9, 1],\n",
       "       [2, 2, 2],\n",
       "       [8, 8, 2]])"
      ]
     },
     "execution_count": 69,
     "metadata": {},
     "output_type": "execute_result"
    }
   ],
   "source": [
    "randarr2 = np.random.randint(1,10,(3,3))\n",
    "randarr2"
   ]
  },
  {
   "cell_type": "markdown",
   "id": "45176c2d",
   "metadata": {},
   "source": [
    "Para concatenar arreglos de forma vertical"
   ]
  },
  {
   "cell_type": "code",
   "execution_count": 70,
   "id": "2d604306",
   "metadata": {},
   "outputs": [
    {
     "data": {
      "text/plain": [
       "array([[5, 7, 5],\n",
       "       [2, 8, 5],\n",
       "       [5, 6, 3],\n",
       "       [2, 9, 1],\n",
       "       [2, 2, 2],\n",
       "       [8, 8, 2]])"
      ]
     },
     "execution_count": 70,
     "metadata": {},
     "output_type": "execute_result"
    }
   ],
   "source": [
    "np.vstack((randarr1,randarr2))"
   ]
  },
  {
   "cell_type": "markdown",
   "id": "c26acc51",
   "metadata": {},
   "source": [
    "Para concatenar arreglos de forma horizontal"
   ]
  },
  {
   "cell_type": "code",
   "execution_count": 71,
   "id": "8e701f63",
   "metadata": {},
   "outputs": [
    {
     "data": {
      "text/plain": [
       "array([[5, 7, 5, 2, 9, 1],\n",
       "       [2, 8, 5, 2, 2, 2],\n",
       "       [5, 6, 3, 8, 8, 2]])"
      ]
     },
     "execution_count": 71,
     "metadata": {},
     "output_type": "execute_result"
    }
   ],
   "source": [
    "np.hstack((randarr1,randarr2))"
   ]
  },
  {
   "cell_type": "markdown",
   "id": "f0fe4b23",
   "metadata": {},
   "source": [
    "# Partir arreglos"
   ]
  },
  {
   "cell_type": "code",
   "execution_count": 72,
   "id": "1d8fb7a1",
   "metadata": {},
   "outputs": [
    {
     "data": {
      "text/plain": [
       "array([[3, 4, 5, 1, 5, 2],\n",
       "       [2, 1, 2, 3, 5, 5],\n",
       "       [3, 5, 4, 3, 3, 5]])"
      ]
     },
     "execution_count": 72,
     "metadata": {},
     "output_type": "execute_result"
    }
   ],
   "source": [
    "randarr = np.random.randint(1,6,(3,6))\n",
    "randarr"
   ]
  },
  {
   "cell_type": "markdown",
   "id": "a932d464",
   "metadata": {},
   "source": [
    "Para dividir el arreglo a lo largo del eje horizontal"
   ]
  },
  {
   "cell_type": "code",
   "execution_count": 73,
   "id": "9ecd8499",
   "metadata": {},
   "outputs": [
    {
     "data": {
      "text/plain": [
       "[array([[3, 4, 5],\n",
       "        [2, 1, 2],\n",
       "        [3, 5, 4]]),\n",
       " array([[1, 5, 2],\n",
       "        [3, 5, 5],\n",
       "        [3, 3, 5]])]"
      ]
     },
     "execution_count": 73,
     "metadata": {},
     "output_type": "execute_result"
    }
   ],
   "source": [
    "np.hsplit(randarr, 2)"
   ]
  },
  {
   "cell_type": "code",
   "execution_count": 74,
   "id": "7f20d65a",
   "metadata": {},
   "outputs": [
    {
     "data": {
      "text/plain": [
       "[array([[3, 4],\n",
       "        [2, 1],\n",
       "        [3, 5]]),\n",
       " array([[5, 1],\n",
       "        [2, 3],\n",
       "        [4, 3]]),\n",
       " array([[5, 2],\n",
       "        [5, 5],\n",
       "        [3, 5]])]"
      ]
     },
     "execution_count": 74,
     "metadata": {},
     "output_type": "execute_result"
    }
   ],
   "source": [
    "np.hsplit(randarr, 3)"
   ]
  },
  {
   "cell_type": "code",
   "execution_count": 75,
   "id": "affb1570",
   "metadata": {},
   "outputs": [
    {
     "data": {
      "text/plain": [
       "[array([[3],\n",
       "        [2],\n",
       "        [3]]),\n",
       " array([[4],\n",
       "        [1],\n",
       "        [5]]),\n",
       " array([[5],\n",
       "        [2],\n",
       "        [4]]),\n",
       " array([[1],\n",
       "        [3],\n",
       "        [3]]),\n",
       " array([[5],\n",
       "        [5],\n",
       "        [3]]),\n",
       " array([[2],\n",
       "        [5],\n",
       "        [5]])]"
      ]
     },
     "execution_count": 75,
     "metadata": {},
     "output_type": "execute_result"
    }
   ],
   "source": [
    "np.hsplit(randarr, 6)"
   ]
  },
  {
   "cell_type": "markdown",
   "id": "17054763",
   "metadata": {},
   "source": [
    "Para dividir el arreglo a lo largo de su eje vertical"
   ]
  },
  {
   "cell_type": "code",
   "execution_count": 76,
   "id": "c70735a8",
   "metadata": {},
   "outputs": [
    {
     "data": {
      "text/plain": [
       "[array([[3, 4, 5, 1, 5, 2]]),\n",
       " array([[2, 1, 2, 3, 5, 5]]),\n",
       " array([[3, 5, 4, 3, 3, 5]])]"
      ]
     },
     "execution_count": 76,
     "metadata": {},
     "output_type": "execute_result"
    }
   ],
   "source": [
    "np.vsplit(randarr,3)"
   ]
  },
  {
   "cell_type": "markdown",
   "id": "fd9c7a7a",
   "metadata": {},
   "source": [
    "# Copiar arreglos"
   ]
  },
  {
   "cell_type": "markdown",
   "id": "def19f54",
   "metadata": {},
   "source": [
    "Así no se copia un arreglo"
   ]
  },
  {
   "cell_type": "code",
   "execution_count": 77,
   "id": "a82c7abc",
   "metadata": {},
   "outputs": [
    {
     "data": {
      "text/plain": [
       "array([[4, 4, 2, 5],\n",
       "       [2, 1, 4, 3],\n",
       "       [4, 2, 1, 1]])"
      ]
     },
     "execution_count": 77,
     "metadata": {},
     "output_type": "execute_result"
    }
   ],
   "source": [
    "randarr1 = np.random.randint(1,6,(3,4))\n",
    "randarr1"
   ]
  },
  {
   "cell_type": "code",
   "execution_count": 78,
   "id": "552f81bd",
   "metadata": {},
   "outputs": [
    {
     "data": {
      "text/plain": [
       "array([[4, 4, 2, 5],\n",
       "       [2, 1, 4, 3],\n",
       "       [4, 2, 1, 1]])"
      ]
     },
     "execution_count": 78,
     "metadata": {},
     "output_type": "execute_result"
    }
   ],
   "source": [
    "randarr2 = randarr1\n",
    "randarr2"
   ]
  },
  {
   "cell_type": "code",
   "execution_count": 79,
   "id": "8597cdc8",
   "metadata": {},
   "outputs": [],
   "source": [
    "randarr2[0,0] = 100"
   ]
  },
  {
   "cell_type": "code",
   "execution_count": 80,
   "id": "d4d32287",
   "metadata": {},
   "outputs": [
    {
     "data": {
      "text/plain": [
       "array([[100,   4,   2,   5],\n",
       "       [  2,   1,   4,   3],\n",
       "       [  4,   2,   1,   1]])"
      ]
     },
     "execution_count": 80,
     "metadata": {},
     "output_type": "execute_result"
    }
   ],
   "source": [
    "randarr1"
   ]
  },
  {
   "cell_type": "code",
   "execution_count": 81,
   "id": "e330afb7",
   "metadata": {},
   "outputs": [
    {
     "data": {
      "text/plain": [
       "array([[100,   4,   2,   5],\n",
       "       [  2,   1,   4,   3],\n",
       "       [  4,   2,   1,   1]])"
      ]
     },
     "execution_count": 81,
     "metadata": {},
     "output_type": "execute_result"
    }
   ],
   "source": [
    "randarr2"
   ]
  },
  {
   "cell_type": "markdown",
   "id": "11eaa238",
   "metadata": {},
   "source": [
    "Se observa que randarr1 y randarr2 han sido afectados por la operación, porque randarr2 es simplemente otra referencia que opera sobre el mismo espacio de memoria que randarr1. "
   ]
  },
  {
   "cell_type": "markdown",
   "id": "7af3e02c",
   "metadata": {},
   "source": [
    "Para copiar se tiene que hacer lo siguiente:"
   ]
  },
  {
   "cell_type": "code",
   "execution_count": 82,
   "id": "5eee8d5e",
   "metadata": {},
   "outputs": [
    {
     "data": {
      "text/plain": [
       "array([[100,   4,   2,   5],\n",
       "       [  2,   1,   4,   3],\n",
       "       [  4,   2,   1,   1]])"
      ]
     },
     "execution_count": 82,
     "metadata": {},
     "output_type": "execute_result"
    }
   ],
   "source": [
    "randarr3 = randarr1.copy()\n",
    "randarr3"
   ]
  },
  {
   "cell_type": "code",
   "execution_count": 83,
   "id": "bb98e96b",
   "metadata": {},
   "outputs": [
    {
     "data": {
      "text/plain": [
       "array([[1, 4, 2, 5],\n",
       "       [2, 1, 4, 3],\n",
       "       [4, 2, 1, 1]])"
      ]
     },
     "execution_count": 83,
     "metadata": {},
     "output_type": "execute_result"
    }
   ],
   "source": [
    "randarr3[0,0] = 1\n",
    "randarr3"
   ]
  },
  {
   "cell_type": "code",
   "execution_count": 84,
   "id": "d68e166e",
   "metadata": {},
   "outputs": [
    {
     "data": {
      "text/plain": [
       "array([[100,   4,   2,   5],\n",
       "       [  2,   1,   4,   3],\n",
       "       [  4,   2,   1,   1]])"
      ]
     },
     "execution_count": 84,
     "metadata": {},
     "output_type": "execute_result"
    }
   ],
   "source": [
    "randarr2"
   ]
  },
  {
   "cell_type": "code",
   "execution_count": 85,
   "id": "ef1ee2cf",
   "metadata": {},
   "outputs": [
    {
     "data": {
      "text/plain": [
       "array([[100,   4,   2,   5],\n",
       "       [  2,   1,   4,   3],\n",
       "       [  4,   2,   1,   1]])"
      ]
     },
     "execution_count": 85,
     "metadata": {},
     "output_type": "execute_result"
    }
   ],
   "source": [
    "randarr1"
   ]
  },
  {
   "cell_type": "markdown",
   "id": "085366c7",
   "metadata": {},
   "source": [
    "De esta forma randarr3 es un arreglo nuevo, con los mismos valores que randarr1."
   ]
  },
  {
   "cell_type": "markdown",
   "id": "f6ef0d3e",
   "metadata": {},
   "source": [
    "# Matemática con arreglos"
   ]
  },
  {
   "cell_type": "code",
   "execution_count": 86,
   "id": "d005ca72",
   "metadata": {},
   "outputs": [
    {
     "data": {
      "text/plain": [
       "array([1, 1, 2])"
      ]
     },
     "execution_count": 86,
     "metadata": {},
     "output_type": "execute_result"
    }
   ],
   "source": [
    "randarr1 = np.random.randint(1,5,3)\n",
    "randarr1"
   ]
  },
  {
   "cell_type": "code",
   "execution_count": 87,
   "id": "1fca4c31",
   "metadata": {},
   "outputs": [
    {
     "data": {
      "text/plain": [
       "array([1, 1, 4])"
      ]
     },
     "execution_count": 87,
     "metadata": {},
     "output_type": "execute_result"
    }
   ],
   "source": [
    "randarr2 = np.random.randint(1,5,3)\n",
    "randarr2"
   ]
  },
  {
   "cell_type": "code",
   "execution_count": 88,
   "id": "e4621847",
   "metadata": {},
   "outputs": [
    {
     "data": {
      "text/plain": [
       "array([2, 2, 6])"
      ]
     },
     "execution_count": 88,
     "metadata": {},
     "output_type": "execute_result"
    }
   ],
   "source": [
    "randarr1 + randarr2"
   ]
  },
  {
   "cell_type": "code",
   "execution_count": 89,
   "id": "275f8699",
   "metadata": {},
   "outputs": [
    {
     "data": {
      "text/plain": [
       "array([ 0,  0, -2])"
      ]
     },
     "execution_count": 89,
     "metadata": {},
     "output_type": "execute_result"
    }
   ],
   "source": [
    "randarr1 - randarr2"
   ]
  },
  {
   "cell_type": "code",
   "execution_count": 90,
   "id": "486eae05",
   "metadata": {},
   "outputs": [
    {
     "data": {
      "text/plain": [
       "array([1, 1, 8])"
      ]
     },
     "execution_count": 90,
     "metadata": {},
     "output_type": "execute_result"
    }
   ],
   "source": [
    "randarr1 * randarr2"
   ]
  },
  {
   "cell_type": "code",
   "execution_count": 91,
   "id": "09bccd59",
   "metadata": {},
   "outputs": [
    {
     "data": {
      "text/plain": [
       "array([1. , 1. , 0.5])"
      ]
     },
     "execution_count": 91,
     "metadata": {},
     "output_type": "execute_result"
    }
   ],
   "source": [
    "randarr1 / randarr2"
   ]
  },
  {
   "cell_type": "code",
   "execution_count": 92,
   "id": "e9348a7e",
   "metadata": {},
   "outputs": [
    {
     "data": {
      "text/plain": [
       "array([ 1,  1, 16])"
      ]
     },
     "execution_count": 92,
     "metadata": {},
     "output_type": "execute_result"
    }
   ],
   "source": [
    "randarr1 ** randarr2"
   ]
  },
  {
   "cell_type": "code",
   "execution_count": 93,
   "id": "2bed51cb",
   "metadata": {},
   "outputs": [
    {
     "data": {
      "text/plain": [
       "array([0, 0, 2])"
      ]
     },
     "execution_count": 93,
     "metadata": {},
     "output_type": "execute_result"
    }
   ],
   "source": [
    "randarr1 % randarr2"
   ]
  },
  {
   "cell_type": "code",
   "execution_count": 94,
   "id": "72808a33",
   "metadata": {},
   "outputs": [
    {
     "data": {
      "text/plain": [
       "array([2.71828183, 2.71828183, 7.3890561 ])"
      ]
     },
     "execution_count": 94,
     "metadata": {},
     "output_type": "execute_result"
    }
   ],
   "source": [
    "np.exp(randarr1)"
   ]
  },
  {
   "cell_type": "code",
   "execution_count": 95,
   "id": "337a86f6",
   "metadata": {},
   "outputs": [
    {
     "data": {
      "text/plain": [
       "array([0., 0., 1.])"
      ]
     },
     "execution_count": 95,
     "metadata": {},
     "output_type": "execute_result"
    }
   ],
   "source": [
    "np.log2(randarr1)"
   ]
  },
  {
   "cell_type": "code",
   "execution_count": 96,
   "id": "c787caec",
   "metadata": {},
   "outputs": [
    {
     "data": {
      "text/plain": [
       "array([0.     , 0.     , 0.30103])"
      ]
     },
     "execution_count": 96,
     "metadata": {},
     "output_type": "execute_result"
    }
   ],
   "source": [
    "np.log10(randarr1)"
   ]
  },
  {
   "cell_type": "markdown",
   "id": "58b0a06a",
   "metadata": {},
   "source": [
    "Operaciones de arreglos con una constante"
   ]
  },
  {
   "cell_type": "code",
   "execution_count": 97,
   "id": "b81704d3",
   "metadata": {},
   "outputs": [
    {
     "data": {
      "text/plain": [
       "array([11, 11, 12])"
      ]
     },
     "execution_count": 97,
     "metadata": {},
     "output_type": "execute_result"
    }
   ],
   "source": [
    "randarr1 + 10"
   ]
  },
  {
   "cell_type": "code",
   "execution_count": 98,
   "id": "8fc46a96",
   "metadata": {},
   "outputs": [
    {
     "data": {
      "text/plain": [
       "array([10, 10, 20])"
      ]
     },
     "execution_count": 98,
     "metadata": {},
     "output_type": "execute_result"
    }
   ],
   "source": [
    "randarr1 * 10"
   ]
  },
  {
   "cell_type": "code",
   "execution_count": 99,
   "id": "5b04d675",
   "metadata": {},
   "outputs": [
    {
     "data": {
      "text/plain": [
       "array([1, 1, 8])"
      ]
     },
     "execution_count": 99,
     "metadata": {},
     "output_type": "execute_result"
    }
   ],
   "source": [
    "randarr1 ** 3"
   ]
  },
  {
   "cell_type": "code",
   "execution_count": 100,
   "id": "4929d223",
   "metadata": {},
   "outputs": [
    {
     "data": {
      "text/plain": [
       "array([1.        , 1.        , 1.41421356])"
      ]
     },
     "execution_count": 100,
     "metadata": {},
     "output_type": "execute_result"
    }
   ],
   "source": [
    "randarr1 ** 0.5"
   ]
  },
  {
   "cell_type": "code",
   "execution_count": 101,
   "id": "4a9b93c3",
   "metadata": {},
   "outputs": [
    {
     "data": {
      "text/plain": [
       "array([False, False,  True])"
      ]
     },
     "execution_count": 101,
     "metadata": {},
     "output_type": "execute_result"
    }
   ],
   "source": [
    "randarr1 % 2 == 0"
   ]
  },
  {
   "cell_type": "code",
   "execution_count": 102,
   "id": "3d56998f",
   "metadata": {},
   "outputs": [
    {
     "data": {
      "text/plain": [
       "array([-1, -1, -2])"
      ]
     },
     "execution_count": 102,
     "metadata": {},
     "output_type": "execute_result"
    }
   ],
   "source": [
    "randarr1 = randarr1 * (-1)\n",
    "randarr1"
   ]
  },
  {
   "cell_type": "code",
   "execution_count": 103,
   "id": "dfa30e2b",
   "metadata": {},
   "outputs": [
    {
     "data": {
      "text/plain": [
       "array([1, 1, 2])"
      ]
     },
     "execution_count": 103,
     "metadata": {},
     "output_type": "execute_result"
    }
   ],
   "source": [
    "np.absolute(randarr1)"
   ]
  },
  {
   "cell_type": "markdown",
   "id": "d5cb33f5",
   "metadata": {},
   "source": [
    "# Métodos de arreglos"
   ]
  },
  {
   "cell_type": "code",
   "execution_count": 104,
   "id": "4d395534",
   "metadata": {},
   "outputs": [
    {
     "data": {
      "text/plain": [
       "array([[8, 6, 2],\n",
       "       [3, 7, 2],\n",
       "       [2, 1, 5]])"
      ]
     },
     "execution_count": 104,
     "metadata": {},
     "output_type": "execute_result"
    }
   ],
   "source": [
    "randarr = np.random.randint(1,10,(3,3))\n",
    "randarr"
   ]
  },
  {
   "cell_type": "markdown",
   "id": "4b8f818e",
   "metadata": {},
   "source": [
    "Sumar de los elementos de las columnas"
   ]
  },
  {
   "cell_type": "code",
   "execution_count": 105,
   "id": "9305cfc9",
   "metadata": {},
   "outputs": [
    {
     "data": {
      "text/plain": [
       "array([13, 14,  9])"
      ]
     },
     "execution_count": 105,
     "metadata": {},
     "output_type": "execute_result"
    }
   ],
   "source": [
    "randarr.sum(axis=0)"
   ]
  },
  {
   "cell_type": "markdown",
   "id": "7f1cd19c",
   "metadata": {},
   "source": [
    "Suma de los elementos de las filas"
   ]
  },
  {
   "cell_type": "code",
   "execution_count": 106,
   "id": "14ed7dcf",
   "metadata": {},
   "outputs": [
    {
     "data": {
      "text/plain": [
       "array([16, 12,  8])"
      ]
     },
     "execution_count": 106,
     "metadata": {},
     "output_type": "execute_result"
    }
   ],
   "source": [
    "randarr.sum(axis=1)"
   ]
  },
  {
   "cell_type": "markdown",
   "id": "fff92b59",
   "metadata": {},
   "source": [
    "Mínimo de cada columna"
   ]
  },
  {
   "cell_type": "code",
   "execution_count": 107,
   "id": "1b402138",
   "metadata": {},
   "outputs": [
    {
     "data": {
      "text/plain": [
       "array([2, 1, 2])"
      ]
     },
     "execution_count": 107,
     "metadata": {},
     "output_type": "execute_result"
    }
   ],
   "source": [
    "randarr.min(axis=0)"
   ]
  },
  {
   "cell_type": "markdown",
   "id": "a60350a0",
   "metadata": {},
   "source": [
    "Mínimo de cada fila"
   ]
  },
  {
   "cell_type": "code",
   "execution_count": 108,
   "id": "77b875bb",
   "metadata": {},
   "outputs": [
    {
     "data": {
      "text/plain": [
       "array([2, 2, 1])"
      ]
     },
     "execution_count": 108,
     "metadata": {},
     "output_type": "execute_result"
    }
   ],
   "source": [
    "randarr.min(axis=1)"
   ]
  },
  {
   "cell_type": "markdown",
   "id": "0607f6ad",
   "metadata": {},
   "source": [
    "Máximo de cada columna"
   ]
  },
  {
   "cell_type": "code",
   "execution_count": 109,
   "id": "9e0bad8c",
   "metadata": {},
   "outputs": [
    {
     "data": {
      "text/plain": [
       "array([8, 7, 5])"
      ]
     },
     "execution_count": 109,
     "metadata": {},
     "output_type": "execute_result"
    }
   ],
   "source": [
    "randarr.max(axis=0)"
   ]
  },
  {
   "cell_type": "markdown",
   "id": "a0eae098",
   "metadata": {},
   "source": [
    "Máximo de cada fila"
   ]
  },
  {
   "cell_type": "code",
   "execution_count": 110,
   "id": "ebd734b9",
   "metadata": {},
   "outputs": [
    {
     "data": {
      "text/plain": [
       "array([8, 7, 5])"
      ]
     },
     "execution_count": 110,
     "metadata": {},
     "output_type": "execute_result"
    }
   ],
   "source": [
    "randarr.max(axis=1)"
   ]
  },
  {
   "cell_type": "markdown",
   "id": "301eeda4",
   "metadata": {},
   "source": [
    "Los índices de los elementos máximos de cada columna"
   ]
  },
  {
   "cell_type": "code",
   "execution_count": 111,
   "id": "aa10d254",
   "metadata": {},
   "outputs": [
    {
     "data": {
      "text/plain": [
       "array([0, 1, 2])"
      ]
     },
     "execution_count": 111,
     "metadata": {},
     "output_type": "execute_result"
    }
   ],
   "source": [
    "randarr.argmax(axis=0)"
   ]
  },
  {
   "cell_type": "markdown",
   "id": "f17b9f27",
   "metadata": {},
   "source": [
    "Los índices de los elementos máximos de cada fila"
   ]
  },
  {
   "cell_type": "code",
   "execution_count": 112,
   "id": "262d6176",
   "metadata": {},
   "outputs": [
    {
     "data": {
      "text/plain": [
       "array([0, 1, 2])"
      ]
     },
     "execution_count": 112,
     "metadata": {},
     "output_type": "execute_result"
    }
   ],
   "source": [
    "randarr.argmax(axis=1)"
   ]
  },
  {
   "cell_type": "markdown",
   "id": "f0aba014",
   "metadata": {},
   "source": [
    "Los índices de los elementos mínimos de de cada columna"
   ]
  },
  {
   "cell_type": "code",
   "execution_count": 113,
   "id": "d17882c2",
   "metadata": {},
   "outputs": [
    {
     "data": {
      "text/plain": [
       "array([2, 2, 0])"
      ]
     },
     "execution_count": 113,
     "metadata": {},
     "output_type": "execute_result"
    }
   ],
   "source": [
    "randarr.argmin(axis=0)"
   ]
  },
  {
   "cell_type": "markdown",
   "id": "40d59b58",
   "metadata": {},
   "source": [
    "Los índices de los elementos mínimos de cada fila"
   ]
  },
  {
   "cell_type": "code",
   "execution_count": 114,
   "id": "4764a131",
   "metadata": {},
   "outputs": [
    {
     "data": {
      "text/plain": [
       "array([2, 2, 1])"
      ]
     },
     "execution_count": 114,
     "metadata": {},
     "output_type": "execute_result"
    }
   ],
   "source": [
    "randarr.argmin(axis=1)"
   ]
  },
  {
   "cell_type": "markdown",
   "id": "05cc00f1",
   "metadata": {},
   "source": [
    "# Funciones de comparación"
   ]
  },
  {
   "cell_type": "code",
   "execution_count": 115,
   "id": "f62ec037",
   "metadata": {},
   "outputs": [
    {
     "data": {
      "text/plain": [
       "array([[2, 7, 9],\n",
       "       [9, 9, 5],\n",
       "       [7, 6, 2]])"
      ]
     },
     "execution_count": 115,
     "metadata": {},
     "output_type": "execute_result"
    }
   ],
   "source": [
    "arr1 = np.random.randint(1,10,(3,3))\n",
    "arr1"
   ]
  },
  {
   "cell_type": "code",
   "execution_count": 116,
   "id": "a52df948",
   "metadata": {},
   "outputs": [
    {
     "data": {
      "text/plain": [
       "array([[6, 4, 2],\n",
       "       [7, 9, 8],\n",
       "       [4, 4, 8]])"
      ]
     },
     "execution_count": 116,
     "metadata": {},
     "output_type": "execute_result"
    }
   ],
   "source": [
    "arr2 = np.random.randint(1,10,(3,3))\n",
    "arr2"
   ]
  },
  {
   "cell_type": "code",
   "execution_count": 117,
   "id": "b01bada5",
   "metadata": {},
   "outputs": [
    {
     "data": {
      "text/plain": [
       "array([[False,  True,  True],\n",
       "       [ True, False, False],\n",
       "       [ True,  True, False]])"
      ]
     },
     "execution_count": 117,
     "metadata": {},
     "output_type": "execute_result"
    }
   ],
   "source": [
    "np.greater(arr1,arr2)"
   ]
  },
  {
   "cell_type": "code",
   "execution_count": 118,
   "id": "a33e7631",
   "metadata": {},
   "outputs": [
    {
     "data": {
      "text/plain": [
       "array([[False,  True,  True],\n",
       "       [ True,  True, False],\n",
       "       [ True,  True, False]])"
      ]
     },
     "execution_count": 118,
     "metadata": {},
     "output_type": "execute_result"
    }
   ],
   "source": [
    "np.greater_equal(arr1,arr2)"
   ]
  },
  {
   "cell_type": "code",
   "execution_count": 119,
   "id": "bc82f525",
   "metadata": {},
   "outputs": [
    {
     "data": {
      "text/plain": [
       "array([[ True, False, False],\n",
       "       [False, False,  True],\n",
       "       [False, False,  True]])"
      ]
     },
     "execution_count": 119,
     "metadata": {},
     "output_type": "execute_result"
    }
   ],
   "source": [
    "np.less(arr1,arr2)"
   ]
  },
  {
   "cell_type": "code",
   "execution_count": 120,
   "id": "a6bd34ef",
   "metadata": {},
   "outputs": [
    {
     "data": {
      "text/plain": [
       "array([[ True, False, False],\n",
       "       [False,  True,  True],\n",
       "       [False, False,  True]])"
      ]
     },
     "execution_count": 120,
     "metadata": {},
     "output_type": "execute_result"
    }
   ],
   "source": [
    "np.less_equal(arr1,arr2)"
   ]
  },
  {
   "cell_type": "code",
   "execution_count": 121,
   "id": "d3e61af0",
   "metadata": {},
   "outputs": [
    {
     "data": {
      "text/plain": [
       "array([[False, False, False],\n",
       "       [False,  True, False],\n",
       "       [False, False, False]])"
      ]
     },
     "execution_count": 121,
     "metadata": {},
     "output_type": "execute_result"
    }
   ],
   "source": [
    "np.equal(arr1,arr2)"
   ]
  },
  {
   "cell_type": "code",
   "execution_count": 122,
   "id": "88f6274f",
   "metadata": {},
   "outputs": [
    {
     "data": {
      "text/plain": [
       "array([[ True,  True,  True],\n",
       "       [ True, False,  True],\n",
       "       [ True,  True,  True]])"
      ]
     },
     "execution_count": 122,
     "metadata": {},
     "output_type": "execute_result"
    }
   ],
   "source": [
    "np.not_equal(arr1,arr2)"
   ]
  },
  {
   "cell_type": "markdown",
   "id": "5ab2c536",
   "metadata": {},
   "source": [
    "# Funciones estadísticas"
   ]
  },
  {
   "cell_type": "code",
   "execution_count": 123,
   "id": "90ef7eea",
   "metadata": {},
   "outputs": [
    {
     "data": {
      "text/plain": [
       "array([[1, 9, 8],\n",
       "       [5, 5, 6],\n",
       "       [5, 6, 6]])"
      ]
     },
     "execution_count": 123,
     "metadata": {},
     "output_type": "execute_result"
    }
   ],
   "source": [
    "arr = np.random.randint(1,10,(3,3))\n",
    "arr"
   ]
  },
  {
   "cell_type": "markdown",
   "id": "25eddfa3",
   "metadata": {},
   "source": [
    "Promedio aritmético"
   ]
  },
  {
   "cell_type": "code",
   "execution_count": 124,
   "id": "479ea8ae",
   "metadata": {},
   "outputs": [
    {
     "data": {
      "text/plain": [
       "5.666666666666667"
      ]
     },
     "execution_count": 124,
     "metadata": {},
     "output_type": "execute_result"
    }
   ],
   "source": [
    "np.mean(arr)"
   ]
  },
  {
   "cell_type": "code",
   "execution_count": 126,
   "id": "0740fba5",
   "metadata": {},
   "outputs": [
    {
     "data": {
      "text/plain": [
       "5.666666666666667"
      ]
     },
     "execution_count": 126,
     "metadata": {},
     "output_type": "execute_result"
    }
   ],
   "source": [
    "np.average(arr)"
   ]
  },
  {
   "cell_type": "code",
   "execution_count": 125,
   "id": "d7af6607",
   "metadata": {},
   "outputs": [
    {
     "data": {
      "text/plain": [
       "array([3.66666667, 6.66666667, 6.66666667])"
      ]
     },
     "execution_count": 125,
     "metadata": {},
     "output_type": "execute_result"
    }
   ],
   "source": [
    "np.mean(arr,axis=0)"
   ]
  },
  {
   "cell_type": "code",
   "execution_count": 127,
   "id": "c266215f",
   "metadata": {},
   "outputs": [
    {
     "data": {
      "text/plain": [
       "array([3.66666667, 6.66666667, 6.66666667])"
      ]
     },
     "execution_count": 127,
     "metadata": {},
     "output_type": "execute_result"
    }
   ],
   "source": [
    "np.average(arr,axis=0)"
   ]
  },
  {
   "cell_type": "code",
   "execution_count": 128,
   "id": "8b80efc4",
   "metadata": {},
   "outputs": [
    {
     "data": {
      "text/plain": [
       "array([6.        , 5.33333333, 5.66666667])"
      ]
     },
     "execution_count": 128,
     "metadata": {},
     "output_type": "execute_result"
    }
   ],
   "source": [
    "np.mean(arr,axis=1)"
   ]
  },
  {
   "cell_type": "code",
   "execution_count": 129,
   "id": "6112e933",
   "metadata": {},
   "outputs": [
    {
     "data": {
      "text/plain": [
       "array([6.        , 5.33333333, 5.66666667])"
      ]
     },
     "execution_count": 129,
     "metadata": {},
     "output_type": "execute_result"
    }
   ],
   "source": [
    "np.average(arr,axis=1)"
   ]
  },
  {
   "cell_type": "markdown",
   "id": "ada07e5f",
   "metadata": {},
   "source": [
    "Mediana"
   ]
  },
  {
   "cell_type": "code",
   "execution_count": 130,
   "id": "d2edd81f",
   "metadata": {},
   "outputs": [
    {
     "data": {
      "text/plain": [
       "6.0"
      ]
     },
     "execution_count": 130,
     "metadata": {},
     "output_type": "execute_result"
    }
   ],
   "source": [
    "np.median(arr)"
   ]
  },
  {
   "cell_type": "code",
   "execution_count": 131,
   "id": "d7c783d5",
   "metadata": {},
   "outputs": [
    {
     "data": {
      "text/plain": [
       "array([5., 6., 6.])"
      ]
     },
     "execution_count": 131,
     "metadata": {},
     "output_type": "execute_result"
    }
   ],
   "source": [
    "np.median(arr,axis=0)"
   ]
  },
  {
   "cell_type": "code",
   "execution_count": 132,
   "id": "2d10d437",
   "metadata": {},
   "outputs": [
    {
     "data": {
      "text/plain": [
       "array([8., 5., 6.])"
      ]
     },
     "execution_count": 132,
     "metadata": {},
     "output_type": "execute_result"
    }
   ],
   "source": [
    "np.median(arr,axis=1)"
   ]
  },
  {
   "cell_type": "markdown",
   "id": "7f54ef85",
   "metadata": {},
   "source": [
    "Desviación estándar"
   ]
  },
  {
   "cell_type": "code",
   "execution_count": 133,
   "id": "bab253cb",
   "metadata": {},
   "outputs": [
    {
     "data": {
      "text/plain": [
       "2.1081851067789197"
      ]
     },
     "execution_count": 133,
     "metadata": {},
     "output_type": "execute_result"
    }
   ],
   "source": [
    "np.std(arr)"
   ]
  },
  {
   "cell_type": "code",
   "execution_count": 134,
   "id": "a2fab98a",
   "metadata": {},
   "outputs": [
    {
     "data": {
      "text/plain": [
       "array([1.88561808, 1.69967317, 0.94280904])"
      ]
     },
     "execution_count": 134,
     "metadata": {},
     "output_type": "execute_result"
    }
   ],
   "source": [
    "np.std(arr,axis=0)"
   ]
  },
  {
   "cell_type": "code",
   "execution_count": 135,
   "id": "cc1f76e6",
   "metadata": {},
   "outputs": [
    {
     "data": {
      "text/plain": [
       "array([3.55902608, 0.47140452, 0.47140452])"
      ]
     },
     "execution_count": 135,
     "metadata": {},
     "output_type": "execute_result"
    }
   ],
   "source": [
    "np.std(arr,axis=1)"
   ]
  },
  {
   "cell_type": "markdown",
   "id": "b1649543",
   "metadata": {},
   "source": [
    "Varianza"
   ]
  },
  {
   "cell_type": "code",
   "execution_count": 136,
   "id": "354b7f31",
   "metadata": {},
   "outputs": [
    {
     "data": {
      "text/plain": [
       "4.4444444444444455"
      ]
     },
     "execution_count": 136,
     "metadata": {},
     "output_type": "execute_result"
    }
   ],
   "source": [
    "np.var(arr)"
   ]
  },
  {
   "cell_type": "code",
   "execution_count": 137,
   "id": "bc572f89",
   "metadata": {},
   "outputs": [
    {
     "data": {
      "text/plain": [
       "array([3.55555556, 2.88888889, 0.88888889])"
      ]
     },
     "execution_count": 137,
     "metadata": {},
     "output_type": "execute_result"
    }
   ],
   "source": [
    "np.var(arr,axis=0)"
   ]
  },
  {
   "cell_type": "code",
   "execution_count": 138,
   "id": "26c98054",
   "metadata": {},
   "outputs": [
    {
     "data": {
      "text/plain": [
       "array([12.66666667,  0.22222222,  0.22222222])"
      ]
     },
     "execution_count": 138,
     "metadata": {},
     "output_type": "execute_result"
    }
   ],
   "source": [
    "np.var(arr,axis=1)"
   ]
  }
 ],
 "metadata": {
  "kernelspec": {
   "display_name": "Python 3 (ipykernel)",
   "language": "python",
   "name": "python3"
  },
  "language_info": {
   "codemirror_mode": {
    "name": "ipython",
    "version": 3
   },
   "file_extension": ".py",
   "mimetype": "text/x-python",
   "name": "python",
   "nbconvert_exporter": "python",
   "pygments_lexer": "ipython3",
   "version": "3.8.10"
  }
 },
 "nbformat": 4,
 "nbformat_minor": 5
}
