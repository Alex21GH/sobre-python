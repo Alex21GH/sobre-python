{
 "cells": [
  {
   "cell_type": "markdown",
   "id": "4d0363b2",
   "metadata": {},
   "source": [
    "# Extensiones para Python con ctypes\n",
    "\n",
    "Apuntes básicos sobre como llamar a funciones codificadas en C, compiladas con gcc. También, se presentan comparaciones gráficas de los tiempos de ejecución de diversas funciones."
   ]
  },
  {
   "cell_type": "markdown",
   "id": "9f46a52f",
   "metadata": {},
   "source": [
    "## Dependencias"
   ]
  },
  {
   "cell_type": "code",
   "execution_count": 1,
   "id": "4ca5484b",
   "metadata": {},
   "outputs": [],
   "source": [
    "import os\n",
    "import ctypes\n",
    "import numpy"
   ]
  },
  {
   "cell_type": "markdown",
   "id": "a5cff9b0",
   "metadata": {},
   "source": [
    "## Serie de Fibonacci"
   ]
  },
  {
   "cell_type": "code",
   "execution_count": 2,
   "id": "3dc7e2ae",
   "metadata": {},
   "outputs": [
    {
     "name": "stdout",
     "output_type": "stream",
     "text": [
      "Writing c_fib.c\n"
     ]
    }
   ],
   "source": [
    "%%file c_fib.c\n",
    "long long int c_fib(int n) {\n",
    "    long long int tmp, a = 0, b = 1;\n",
    "    for (int i=0; i<n; i++) {\n",
    "        tmp = a;\n",
    "        a = a + b;\n",
    "        b = tmp;\n",
    "    }\n",
    "    return a;\n",
    "}"
   ]
  },
  {
   "cell_type": "code",
   "execution_count": 3,
   "id": "beb3a599",
   "metadata": {},
   "outputs": [],
   "source": [
    "# para generar el object file\n",
    "! gcc -c -Wall -Werror  -fpic  c_fib.c\n",
    "\n",
    "# para crear la shared library\n",
    "! gcc -shared  c_fib.o -o _c_fib.so"
   ]
  },
  {
   "cell_type": "code",
   "execution_count": 4,
   "id": "84d17658",
   "metadata": {},
   "outputs": [],
   "source": [
    "def ctypes_fib():\n",
    "    # ruta de la shared library\n",
    "    lib = ctypes.CDLL('./_c_fib.so')\n",
    "    \n",
    "    # tipo de los argumentos\n",
    "    lib.c_fib.argtypes = [ctypes.c_int]\n",
    "    \n",
    "    # tipo de la salida\n",
    "    lib.c_fib.restype  = ctypes.c_longlong\n",
    "    \n",
    "    # se devuelve la función configurada\n",
    "    return lib.c_fib"
   ]
  },
  {
   "cell_type": "code",
   "execution_count": 5,
   "id": "4031a3c8",
   "metadata": {},
   "outputs": [],
   "source": [
    "# instancia de la funcion\n",
    "cfib = ctypes_fib()"
   ]
  },
  {
   "cell_type": "markdown",
   "id": "54db7880",
   "metadata": {},
   "source": [
    "### Prueba de Fibonacci"
   ]
  },
  {
   "cell_type": "code",
   "execution_count": 6,
   "id": "7bfdb754",
   "metadata": {},
   "outputs": [
    {
     "data": {
      "text/plain": [
       "[0,\n",
       " 1,\n",
       " 1,\n",
       " 2,\n",
       " 3,\n",
       " 5,\n",
       " 8,\n",
       " 13,\n",
       " 21,\n",
       " 34,\n",
       " 55,\n",
       " 89,\n",
       " 144,\n",
       " 233,\n",
       " 377,\n",
       " 610,\n",
       " 987,\n",
       " 1597,\n",
       " 2584,\n",
       " 4181,\n",
       " 6765,\n",
       " 10946,\n",
       " 17711,\n",
       " 28657,\n",
       " 46368,\n",
       " 75025,\n",
       " 121393,\n",
       " 196418,\n",
       " 317811,\n",
       " 514229,\n",
       " 832040,\n",
       " 1346269,\n",
       " 2178309,\n",
       " 3524578,\n",
       " 5702887,\n",
       " 9227465,\n",
       " 14930352,\n",
       " 24157817,\n",
       " 39088169,\n",
       " 63245986,\n",
       " 102334155,\n",
       " 165580141,\n",
       " 267914296,\n",
       " 433494437,\n",
       " 701408733,\n",
       " 1134903170,\n",
       " 1836311903,\n",
       " 2971215073,\n",
       " 4807526976,\n",
       " 7778742049]"
      ]
     },
     "execution_count": 6,
     "metadata": {},
     "output_type": "execute_result"
    }
   ],
   "source": [
    "# los primeros 50 elementos de la serie de Fibonacci son\n",
    "list(map(cfib,range(50)))"
   ]
  },
  {
   "cell_type": "markdown",
   "id": "06d39cd4",
   "metadata": {},
   "source": [
    "## Suma de floats escalares"
   ]
  },
  {
   "cell_type": "code",
   "execution_count": 7,
   "id": "2264e27f",
   "metadata": {},
   "outputs": [
    {
     "name": "stdout",
     "output_type": "stream",
     "text": [
      "Writing scalarFloatAdd.c\n"
     ]
    }
   ],
   "source": [
    "%%file scalarFloatAdd.c\n",
    "// funcion que suma dos floats\n",
    "float scalarFloatAdd(float a, float b){\n",
    "    return a + b;\n",
    "}"
   ]
  },
  {
   "cell_type": "code",
   "execution_count": 8,
   "id": "92217a5a",
   "metadata": {},
   "outputs": [],
   "source": [
    "# para generar el object file\n",
    "! gcc -c -Wall -Werror -fpic scalarFloatAdd.c\n",
    "\n",
    "# para crear la shared library\n",
    "! gcc -shared scalarFloatAdd.o -o _scalarFloatAdd.so"
   ]
  },
  {
   "cell_type": "code",
   "execution_count": 9,
   "id": "5bf97ddb",
   "metadata": {},
   "outputs": [],
   "source": [
    "def ctypes_scalar_float_add():\n",
    "    # indicar la ruta de la shared library\n",
    "    libfile = os.path.abspath(os.path.join(os.getcwd(),'_scalarFloatAdd.so'))\n",
    "\n",
    "    # cargar la shared library\n",
    "    lib = ctypes.CDLL(libfile)\n",
    "\n",
    "    # tipo de dato de los argumentos\n",
    "    lib.scalarFloatAdd.argtypes = [ctypes.c_float, ctypes.c_float]\n",
    "\n",
    "    # tipo de dato del resultado\n",
    "    lib.scalarFloatAdd.restype = ctypes.c_float\n",
    "    \n",
    "    # funcion configurada\n",
    "    return lib.scalarFloatAdd"
   ]
  },
  {
   "cell_type": "code",
   "execution_count": 10,
   "id": "a41613c8",
   "metadata": {},
   "outputs": [],
   "source": [
    "csfadd = ctypes_scalar_float_add()"
   ]
  },
  {
   "cell_type": "markdown",
   "id": "d8c13f4b",
   "metadata": {},
   "source": [
    "### Prueba de la suma de floats escalares"
   ]
  },
  {
   "cell_type": "code",
   "execution_count": 11,
   "id": "84c894d8",
   "metadata": {},
   "outputs": [
    {
     "name": "stdout",
     "output_type": "stream",
     "text": [
      "el error relativo de la función scalarFloatAdd es 0.000000\n"
     ]
    }
   ],
   "source": [
    "# tam\n",
    "size = 2048\n",
    "\n",
    "# entradas\n",
    "x = numpy.random.rand(size,1).astype(numpy.float32)\n",
    "y = numpy.random.rand(size,1).astype(numpy.float32)\n",
    "\n",
    "# salida de la libreria\n",
    "zl = numpy.zeros((size,1),dtype=numpy.float32)\n",
    "\n",
    "# salida de numpy\n",
    "zn = numpy.zeros((size,1),dtype=numpy.float32)\n",
    "\n",
    "# usando la funcion de la libreria\n",
    "for i in range(0,size):\n",
    "    zl[i] = csfadd(x[i],y[i])\n",
    "    \n",
    "# usando bucles for \n",
    "for i in range(0,size):\n",
    "    zn[i] = x[i]+y[i]\n",
    "\n",
    "#calculando error relativo\n",
    "from numpy import linalg as LA\n",
    "\n",
    "print('el error relativo de la función %s es %f'%(csfadd.__name__,LA.norm(zn - zl) / LA.norm(zn)))"
   ]
  },
  {
   "cell_type": "markdown",
   "id": "cecb4ed3",
   "metadata": {},
   "source": [
    "## Suma de arreglos de floats"
   ]
  },
  {
   "cell_type": "code",
   "execution_count": 12,
   "id": "3ebb7eb1",
   "metadata": {},
   "outputs": [
    {
     "name": "stdout",
     "output_type": "stream",
     "text": [
      "Writing vectorFloatAdd.c\n"
     ]
    }
   ],
   "source": [
    "%%file vectorFloatAdd.c\n",
    "// funcion que suma dos arrays de floats\n",
    "void vectorFloatAdd(float* a, float* b, float* c, int size){\n",
    "    for(int i = 0; i < size; i++){\n",
    "        c[i] = a[i] + b[i];\n",
    "    }\n",
    "}"
   ]
  },
  {
   "cell_type": "code",
   "execution_count": 13,
   "id": "6308a81a",
   "metadata": {},
   "outputs": [],
   "source": [
    "# crear el object file\n",
    "! gcc -c -Wall -Werror -fpic vectorFloatAdd.c\n",
    "\n",
    "# crear la shared library\n",
    "! gcc -shared vectorFloatAdd.o -o _vectorFloatAdd.so"
   ]
  },
  {
   "cell_type": "code",
   "execution_count": 14,
   "id": "4171db28",
   "metadata": {},
   "outputs": [],
   "source": [
    "def ctypes_vector_float_add():\n",
    "    # indicar la ruta de la shared library\n",
    "    libfile = os.path.abspath(os.path.join(os.getcwd(),'_vectorFloatAdd.so'))\n",
    "\n",
    "    # cargar la shared library\n",
    "    lib = ctypes.CDLL(libfile)\n",
    "\n",
    "    # tipo de dato de los argumentos\n",
    "    lib.vectorFloatAdd.argtypes = [\n",
    "        numpy.ctypeslib.ndpointer(dtype=numpy.float32),\n",
    "        numpy.ctypeslib.ndpointer(dtype=numpy.float32),\n",
    "        numpy.ctypeslib.ndpointer(dtype=numpy.float32),\n",
    "        ctypes.c_int\n",
    "    ]\n",
    "    \n",
    "    # funcion configurada\n",
    "    return lib.vectorFloatAdd"
   ]
  },
  {
   "cell_type": "code",
   "execution_count": 15,
   "id": "dc38bd61",
   "metadata": {},
   "outputs": [],
   "source": [
    "cvfadd = ctypes_vector_float_add()"
   ]
  },
  {
   "cell_type": "markdown",
   "id": "b12a2e6e",
   "metadata": {},
   "source": [
    "### Prueba de la suma de arrays de floats"
   ]
  },
  {
   "cell_type": "code",
   "execution_count": 16,
   "id": "27a6cf7a",
   "metadata": {},
   "outputs": [
    {
     "name": "stdout",
     "output_type": "stream",
     "text": [
      "el error relativo de la función vectorFloatAdd es 0.000000\n"
     ]
    }
   ],
   "source": [
    "# tam\n",
    "size = 2048\n",
    "\n",
    "#entradas\n",
    "x = numpy.random.rand(size,1).astype(numpy.float32)\n",
    "y = numpy.random.rand(size,1).astype(numpy.float32)\n",
    "\n",
    "#salida de la libreria\n",
    "zl = numpy.zeros((size,1),dtype=numpy.float32)\n",
    "\n",
    "#salida de numpy\n",
    "zn = numpy.zeros((size,1))\n",
    "\n",
    "#usando la funcion de la libreria\n",
    "cvfadd(x,y,zl,size)\n",
    "    \n",
    "# usando bucles for \n",
    "for i in range(0,size):\n",
    "    zn[i] = x[i]+y[i]\n",
    "\n",
    "#calculando error relativo\n",
    "from numpy import linalg as LA\n",
    "\n",
    "print('el error relativo de la función %s es %f'%(cvfadd.__name__, LA.norm(zn - zl) / LA.norm(zn)))"
   ]
  },
  {
   "cell_type": "markdown",
   "id": "57514ac7",
   "metadata": {},
   "source": [
    "## Suma de arreglos de floats con ensamblador"
   ]
  },
  {
   "cell_type": "code",
   "execution_count": 17,
   "id": "93e1f5f1",
   "metadata": {},
   "outputs": [
    {
     "name": "stdout",
     "output_type": "stream",
     "text": [
      "Writing vectorFloatAddAsm.asm\n"
     ]
    }
   ],
   "source": [
    "%%file vectorFloatAddAsm.asm\n",
    "    global vectorFloatAddAsm\n",
    "    section .text\n",
    "vectorFloatAddAsm:\n",
    "    xorpd xmm0, xmm0\n",
    "    xorpd xmm1, xmm1\n",
    "    cmp rcx, 0\n",
    "    je done\n",
    "next:\n",
    "    movss xmm0, [rdi]\n",
    "    movss xmm1, [rsi]\n",
    "    addss xmm0, xmm1\n",
    "    movss  [rdx], xmm0\n",
    "    add rdi, 4\n",
    "    add rsi, 4\n",
    "    add rdx, 4\n",
    "    sub rcx, 1\n",
    "    jnz next\n",
    "done:\n",
    "    ret"
   ]
  },
  {
   "cell_type": "code",
   "execution_count": 18,
   "id": "84a6ddca",
   "metadata": {},
   "outputs": [
    {
     "name": "stdout",
     "output_type": "stream",
     "text": [
      "Writing vectorFloatAddAsm.c\n"
     ]
    }
   ],
   "source": [
    "%%file vectorFloatAddAsm.c\n",
    "extern void vectorFloatAddAsm(float *v, float *u, float *w, int size);"
   ]
  },
  {
   "cell_type": "code",
   "execution_count": 19,
   "id": "59128e67",
   "metadata": {},
   "outputs": [],
   "source": [
    "! nasm -f elf64 vectorFloatAddAsm.asm -o vectorFloatAddAsm.o\n",
    "! gcc -shared vectorFloatAddAsm.o vectorFloatAddAsm.c -o _vectorFloatAddAsm.so"
   ]
  },
  {
   "cell_type": "code",
   "execution_count": 20,
   "id": "9f56b771",
   "metadata": {},
   "outputs": [],
   "source": [
    "def ctypes_vector_float_add_asm():\n",
    "    # indicar la ruta de la shared library\n",
    "    libfile = os.path.abspath(os.path.join(os.getcwd(),'_vectorFloatAddAsm.so'))\n",
    "\n",
    "    # cargar la shared library\n",
    "    lib = ctypes.CDLL(libfile)\n",
    "\n",
    "    # tipo de dato de los argumentos\n",
    "    lib.vectorFloatAddAsm.argtypes = [\n",
    "        numpy.ctypeslib.ndpointer(dtype=numpy.float32),\n",
    "        numpy.ctypeslib.ndpointer(dtype=numpy.float32),\n",
    "        numpy.ctypeslib.ndpointer(dtype=numpy.float32),\n",
    "        ctypes.c_int\n",
    "    ]\n",
    "    \n",
    "    # funcion configurada\n",
    "    return lib.vectorFloatAddAsm"
   ]
  },
  {
   "cell_type": "code",
   "execution_count": 21,
   "id": "8dcf5f40",
   "metadata": {},
   "outputs": [],
   "source": [
    "cvfaddasm = ctypes_vector_float_add_asm()"
   ]
  },
  {
   "cell_type": "markdown",
   "id": "d328128d",
   "metadata": {},
   "source": [
    "### Prueba de suma de arreglos de floats en ensamblador"
   ]
  },
  {
   "cell_type": "code",
   "execution_count": 22,
   "id": "0f3577a2",
   "metadata": {},
   "outputs": [
    {
     "name": "stdout",
     "output_type": "stream",
     "text": [
      "el error relativo de la función vectorFloatAddAsm es 0.000000\n"
     ]
    }
   ],
   "source": [
    "# tam\n",
    "size = 2048\n",
    "\n",
    "#entradas\n",
    "x = numpy.random.rand(size,1).astype(numpy.float32)\n",
    "y = numpy.random.rand(size,1).astype(numpy.float32)\n",
    "\n",
    "#salida de la libreria\n",
    "zl = numpy.zeros((size,1),dtype=numpy.float32)\n",
    "\n",
    "#salida de numpy\n",
    "zn = numpy.zeros((size,1))\n",
    "\n",
    "#usando la funcion de la libreria\n",
    "cvfaddasm(x,y,zl,size)\n",
    "    \n",
    "# usando bucles for \n",
    "for i in range(0,size):\n",
    "    zn[i] = x[i]+y[i]\n",
    "\n",
    "#calculando error relativo\n",
    "from numpy import linalg as LA\n",
    "\n",
    "print('el error relativo de la función %s es %f'%(cvfaddasm.__name__, LA.norm(zn - zl) / LA.norm(zn)))"
   ]
  },
  {
   "cell_type": "markdown",
   "id": "ab57fb04",
   "metadata": {},
   "source": [
    "## Comparación de tiempos de ejecución"
   ]
  },
  {
   "cell_type": "code",
   "execution_count": 23,
   "id": "e62c4475",
   "metadata": {},
   "outputs": [],
   "source": [
    "import statistics\n",
    "\n",
    "def filtro_mediana(sign, ventana):\n",
    "    signc = []\n",
    "    tam = len(sign)\n",
    "    offs = int((ventana-1)/2)\n",
    "    for i in range(tam):\n",
    "        inicio = i - offs if (i - offs > 0) else i\n",
    "        fin = i + offs if (i + offs < tam) else tam\n",
    "        signc.append(statistics.median(sign[inicio:fin]))\n",
    "    return signc"
   ]
  },
  {
   "cell_type": "code",
   "execution_count": 24,
   "id": "79483af3",
   "metadata": {},
   "outputs": [],
   "source": [
    "# modulo para graficar\n",
    "import matplotlib.pyplot as plt\n",
    "\n",
    "# modulo para medir el tiempo\n",
    "import time\n",
    "\n",
    "# tamagnos de los arreglos\n",
    "sizes = 2**numpy.arange(10,15)\n",
    "\n",
    "# tiempos de la suma de arreglos de floats\n",
    "tc = numpy.zeros((len(sizes),1),dtype=numpy.float32)\n",
    "\n",
    "# tiempos de la suma de arreglos de floats con ASM\n",
    "tasm = numpy.zeros((len(sizes),1),dtype=numpy.float32)\n",
    "\n",
    "# hay que ver que ocurre en los casos extremos"
   ]
  },
  {
   "cell_type": "code",
   "execution_count": 25,
   "id": "5c5254c2",
   "metadata": {},
   "outputs": [
    {
     "data": {
      "image/png": "[encoded data removed]",
      "text/plain": [
       "<Figure size 432x288 with 1 Axes>"
      ]
     },
     "metadata": {
      "needs_background": "light"
     },
     "output_type": "display_data"
    }
   ],
   "source": [
    "# primero el caso más pequeño\n",
    "veces = 100\n",
    "tam = sizes[0]\n",
    "index = range(veces)\n",
    "tcp = []\n",
    "tasmp = []\n",
    "\n",
    "for i in range(veces):\n",
    "    # entradas\n",
    "    xp = numpy.random.rand(tam,1).astype(numpy.float32)\n",
    "    yp = numpy.random.rand(tam,1).astype(numpy.float32)\n",
    "    \n",
    "    # salidas\n",
    "    zp =  numpy.zeros((tam,1),dtype=numpy.float32)\n",
    "    \n",
    "    # tiempo C\n",
    "    t = time.time()\n",
    "    cvfadd(xp,yp,zp,tam)\n",
    "    tcp.append(time.time() - t)\n",
    "    \n",
    "    # tiempo ASM\n",
    "    t = time.time()\n",
    "    cvfaddasm(xp,yp,zp,tam)\n",
    "    tasmp.append(time.time() - t)\n",
    "\n",
    "plt.plot(index, tcp, 'r-', label='tiempo C')\n",
    "plt.plot(index, tasmp, 'b-', label='tiempo ASM')\n",
    "plt.xlabel('tamagno')\n",
    "plt.ylabel('tiempo')\n",
    "plt.legend()\n",
    "plt.show()"
   ]
  },
  {
   "cell_type": "code",
   "execution_count": 26,
   "id": "67735f83",
   "metadata": {},
   "outputs": [
    {
     "data": {
      "image/png": "[encoded data removed]",
      "text/plain": [
       "<Figure size 432x288 with 1 Axes>"
      ]
     },
     "metadata": {
      "needs_background": "light"
     },
     "output_type": "display_data"
    }
   ],
   "source": [
    "# para comparar el promedio con ruido y sin ruido en el caso pequeño de la función en C\n",
    "noms = ['C','C sin ruido']\n",
    "proms = [ \n",
    "    statistics.mean(tcp), \n",
    "    statistics.mean(filtro_mediana(tcp,7))\n",
    "]\n",
    "plt.bar(noms,proms,color='r')\n",
    "plt.tight_layout()"
   ]
  },
  {
   "cell_type": "code",
   "execution_count": 27,
   "id": "81d99b39",
   "metadata": {},
   "outputs": [
    {
     "data": {
      "image/png": "[encoded data removed]",
      "text/plain": [
       "<Figure size 432x288 with 1 Axes>"
      ]
     },
     "metadata": {
      "needs_background": "light"
     },
     "output_type": "display_data"
    }
   ],
   "source": [
    "# para comparar el promedio con ruido y sin ruido en el caso pequeño de la función en ASM\n",
    "\n",
    "noms = ['ASM','ASM sin ruido']\n",
    "proms = [ \n",
    "    statistics.mean(tasmp), \n",
    "    statistics.mean(filtro_mediana(tasmp,7))\n",
    "]\n",
    "plt.bar(noms,proms,color='r')\n",
    "plt.tight_layout()"
   ]
  },
  {
   "cell_type": "code",
   "execution_count": 28,
   "id": "1df53eef",
   "metadata": {},
   "outputs": [
    {
     "data": {
      "image/png": "[encoded data removed]",
      "text/plain": [
       "<Figure size 432x288 with 1 Axes>"
      ]
     },
     "metadata": {
      "needs_background": "light"
     },
     "output_type": "display_data"
    }
   ],
   "source": [
    "# primero el caso más grande\n",
    "veces = 100\n",
    "tam = sizes[-1]\n",
    "index = range(veces)\n",
    "tcg = []\n",
    "tasmg = []\n",
    "\n",
    "for i in range(veces):\n",
    "    # entradas\n",
    "    xg = numpy.random.rand(tam,1).astype(numpy.float32)\n",
    "    yg = numpy.random.rand(tam,1).astype(numpy.float32)\n",
    "    \n",
    "    # salidas\n",
    "    zg =  numpy.zeros((tam,1),dtype=numpy.float32)\n",
    "    \n",
    "    # tiempo C\n",
    "    t = time.time()\n",
    "    cvfadd(xg,yg,zg,tam)\n",
    "    tcg.append(time.time() - t)\n",
    "    \n",
    "    # tiempo ASM\n",
    "    t = time.time()\n",
    "    cvfaddasm(xg,yg,zg,tam)\n",
    "    tasmg.append(time.time() - t)\n",
    "\n",
    "plt.plot(index, tcg, 'r-', label='tiempo C')\n",
    "plt.plot(index, tasmg, 'b-', label='tiempo ASM')\n",
    "plt.xlabel('tamagno')\n",
    "plt.ylabel('tiempo')\n",
    "plt.legend()\n",
    "plt.show()"
   ]
  },
  {
   "cell_type": "code",
   "execution_count": 29,
   "id": "81241305",
   "metadata": {},
   "outputs": [
    {
     "data": {
      "image/png": "[encoded data removed]",
      "text/plain": [
       "<Figure size 432x288 with 1 Axes>"
      ]
     },
     "metadata": {
      "needs_background": "light"
     },
     "output_type": "display_data"
    }
   ],
   "source": [
    "# para comparar el promedio con ruido y sin ruido en el caso grande de la función en C\n",
    "\n",
    "noms = ['C','C sin ruido']\n",
    "proms = [ \n",
    "    statistics.mean(tcg), \n",
    "    statistics.mean(filtro_mediana(tcg,7))\n",
    "]\n",
    "plt.bar(noms,proms,color='r')\n",
    "plt.tight_layout()"
   ]
  },
  {
   "cell_type": "code",
   "execution_count": 30,
   "id": "86ac7e07",
   "metadata": {},
   "outputs": [
    {
     "data": {
      "image/png": "[encoded data removed]",
      "text/plain": [
       "<Figure size 432x288 with 1 Axes>"
      ]
     },
     "metadata": {
      "needs_background": "light"
     },
     "output_type": "display_data"
    }
   ],
   "source": [
    "# para comparar el promedio con ruido y sin ruido en el caso grande de la función en ASM\n",
    "\n",
    "noms = ['ASM','ASM sin ruido']\n",
    "proms = [ \n",
    "    statistics.mean(tasmg), \n",
    "    statistics.mean(filtro_mediana(tasmg,7))\n",
    "]\n",
    "plt.bar(noms,proms,color='r')\n",
    "plt.tight_layout()"
   ]
  },
  {
   "cell_type": "code",
   "execution_count": 31,
   "id": "a3259891",
   "metadata": {},
   "outputs": [
    {
     "data": {
      "image/png": "[encoded data removed]",
      "text/plain": [
       "<Figure size 432x288 with 1 Axes>"
      ]
     },
     "metadata": {
      "needs_background": "light"
     },
     "output_type": "display_data"
    }
   ],
   "source": [
    "# aparentemente el ruido distorsiona el promedio\n",
    "# por esto se tiene que filtrar todas las mediciones para poder promediar\n",
    "# caso general\n",
    "\n",
    "tci = []\n",
    "tasmi = []\n",
    "\n",
    "for i, size in enumerate(sizes):\n",
    "    tci = []\n",
    "    tasmi = []\n",
    "    for j in range(veces):\n",
    "        # entradas\n",
    "        x = numpy.random.rand(size,1).astype(numpy.float32)\n",
    "        y = numpy.random.rand(size,1).astype(numpy.float32)\n",
    "    \n",
    "        # salidas\n",
    "        zl =  numpy.zeros((size,1),dtype=numpy.float32)\n",
    "        zn =  numpy.zeros((size,1),dtype=numpy.float32)\n",
    "    \n",
    "        # tiempo C\n",
    "        t = time.time()\n",
    "        cvfadd(x,y,zl,size)\n",
    "        tci.append(time.time() - t)\n",
    "    \n",
    "        # tiempo ASM\n",
    "        t = time.time()\n",
    "        cvfaddasm(x,y,zl,size)\n",
    "        tasmi.append(time.time() - t)\n",
    "        \n",
    "    tc[i] = statistics.mean(filtro_mediana(tci,7))\n",
    "    tasm[i] = statistics.mean(filtro_mediana(tasmi,7))\n",
    "\n",
    "plt.plot(sizes, tc, 'r-+', label='tiempo C')\n",
    "plt.plot(sizes, tasm, 'b-o', label='tiempo ASM')\n",
    "plt.xlabel('tamagno')\n",
    "plt.ylabel('tiempo')\n",
    "plt.legend()\n",
    "plt.show()"
   ]
  },
  {
   "cell_type": "code",
   "execution_count": 32,
   "id": "cfac7a57",
   "metadata": {},
   "outputs": [
    {
     "data": {
      "image/png": "[encoded data removed]",
      "text/plain": [
       "<Figure size 432x288 with 1 Axes>"
      ]
     },
     "metadata": {
      "needs_background": "light"
     },
     "output_type": "display_data"
    }
   ],
   "source": [
    "noms = ['C','ASM']\n",
    "proms = [ \n",
    "    numpy.mean(tc), \n",
    "    numpy.mean(tasm)\n",
    "]\n",
    "plt.bar(noms,proms,color='r')\n",
    "plt.tight_layout()"
   ]
  },
  {
   "cell_type": "code",
   "execution_count": 33,
   "id": "dd32d3af",
   "metadata": {},
   "outputs": [
    {
     "name": "stdout",
     "output_type": "stream",
     "text": [
      "el speedup es aprox 1.968171\n"
     ]
    }
   ],
   "source": [
    "print('el speedup es aprox %f'%(proms[0]/proms[1]))"
   ]
  },
  {
   "cell_type": "code",
   "execution_count": 34,
   "id": "c05f3109",
   "metadata": {},
   "outputs": [],
   "source": [
    "! rm *.o\n",
    "! rm *.so\n",
    "! rm *.asm\n",
    "! rm *.c"
   ]
  }
 ],
 "metadata": {
  "kernelspec": {
   "display_name": "Python 3 (ipykernel)",
   "language": "python",
   "name": "python3"
  },
  "language_info": {
   "codemirror_mode": {
    "name": "ipython",
    "version": 3
   },
   "file_extension": ".py",
   "mimetype": "text/x-python",
   "name": "python",
   "nbconvert_exporter": "python",
   "pygments_lexer": "ipython3",
   "version": "3.8.10"
  }
 },
 "nbformat": 4,
 "nbformat_minor": 5
}
