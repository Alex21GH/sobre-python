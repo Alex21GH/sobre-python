{
 "cells": [
  {
   "cell_type": "code",
   "execution_count": 1,
   "id": "e2de9a2c",
   "metadata": {},
   "outputs": [
    {
     "name": "stdout",
     "output_type": "stream",
     "text": [
      "/home/stefanos/Documents/sobre-python\r\n"
     ]
    }
   ],
   "source": [
    "! pwd"
   ]
  },
  {
   "cell_type": "code",
   "execution_count": 2,
   "id": "f9e3fc49",
   "metadata": {},
   "outputs": [
    {
     "name": "stdout",
     "output_type": "stream",
     "text": [
      "c_fib.c\t\t\t  numpy-general.ipynb\tpython-timing.ipynb\r\n",
      "c_fib.o\t\t\t  pandas-general.ipynb\tREADME.md\r\n",
      "_c_fib.so\t\t  Pipfile\t\tUntitled.ipynb\r\n",
      "euler-nbprob.ipynb\t  Pipfile.lock\t\tzoo.csv\r\n",
      "matplotlib-general.ipynb  python-general.ipynb\r\n"
     ]
    }
   ],
   "source": [
    "! ls"
   ]
  },
  {
   "cell_type": "code",
   "execution_count": 3,
   "id": "3d0f6b28",
   "metadata": {},
   "outputs": [],
   "source": [
    "! cp c_fib.c c_fib_copy.c"
   ]
  },
  {
   "cell_type": "code",
   "execution_count": 4,
   "id": "3d742153",
   "metadata": {},
   "outputs": [
    {
     "name": "stdout",
     "output_type": "stream",
     "text": [
      "c_fib.c       euler-nbprob.ipynb\tPipfile\t\t      README.md\r\n",
      "c_fib_copy.c  matplotlib-general.ipynb\tPipfile.lock\t      Untitled.ipynb\r\n",
      "c_fib.o       numpy-general.ipynb\tpython-general.ipynb  zoo.csv\r\n",
      "_c_fib.so     pandas-general.ipynb\tpython-timing.ipynb\r\n"
     ]
    }
   ],
   "source": [
    "! ls"
   ]
  },
  {
   "cell_type": "code",
   "execution_count": 5,
   "id": "1bc66512",
   "metadata": {},
   "outputs": [],
   "source": [
    "! rm c_fib_copy.c"
   ]
  },
  {
   "cell_type": "code",
   "execution_count": 6,
   "id": "6b889df9",
   "metadata": {},
   "outputs": [
    {
     "name": "stdout",
     "output_type": "stream",
     "text": [
      "c_fib.c\t\t\t  numpy-general.ipynb\tpython-timing.ipynb\r\n",
      "c_fib.o\t\t\t  pandas-general.ipynb\tREADME.md\r\n",
      "_c_fib.so\t\t  Pipfile\t\tUntitled.ipynb\r\n",
      "euler-nbprob.ipynb\t  Pipfile.lock\t\tzoo.csv\r\n",
      "matplotlib-general.ipynb  python-general.ipynb\r\n"
     ]
    }
   ],
   "source": [
    "! ls"
   ]
  },
  {
   "cell_type": "code",
   "execution_count": 19,
   "id": "65be08d4",
   "metadata": {},
   "outputs": [
    {
     "name": "stdout",
     "output_type": "stream",
     "text": [
      "rm: cannot remove '*.png': No such file or directory\r\n"
     ]
    }
   ],
   "source": [
    "! rm *.png\n",
    "! rm *.c\n",
    "! rm *.o\n",
    "! rm  *.so"
   ]
  },
  {
   "cell_type": "code",
   "execution_count": 8,
   "id": "c7ce7c92",
   "metadata": {},
   "outputs": [
    {
     "name": "stdout",
     "output_type": "stream",
     "text": [
      "Overwriting c_fib.c\n"
     ]
    }
   ],
   "source": [
    "%%file c_fib.c\n",
    "long long int c_fib(int n) {\n",
    "    double tmp, a = 0, b = 1;\n",
    "    for (int i=0; i<n; i++) {\n",
    "        tmp = a;\n",
    "        a = a + b;\n",
    "        b = tmp;\n",
    "    }\n",
    "    return (long long int)a;\n",
    "}"
   ]
  },
  {
   "cell_type": "code",
   "execution_count": 9,
   "id": "d51982d5",
   "metadata": {},
   "outputs": [],
   "source": [
    "! gcc -c -Wall -Werror  -fpic  c_fib.c\n",
    "! gcc -shared  c_fib.o -o _c_fib.so"
   ]
  },
  {
   "cell_type": "code",
   "execution_count": 10,
   "id": "b41cd1ff",
   "metadata": {},
   "outputs": [],
   "source": [
    "from ctypes import CDLL, c_int, c_longlong\n",
    "\n",
    "def ctypes_fib(n):\n",
    "    lib = CDLL('./_c_fib.so')\n",
    "    lib.c_fib.argtypes = [c_int]\n",
    "    lib.c_fib.restype  = c_longlong\n",
    "\n",
    "    return lib.c_fib(n)"
   ]
  },
  {
   "cell_type": "code",
   "execution_count": 18,
   "id": "c26c59ef",
   "metadata": {},
   "outputs": [
    {
     "data": {
      "text/plain": [
       "2880067194370816000"
      ]
     },
     "execution_count": 18,
     "metadata": {},
     "output_type": "execute_result"
    }
   ],
   "source": [
    "ctypes_fib(90)"
   ]
  },
  {
   "cell_type": "code",
   "execution_count": null,
   "id": "933a32fb",
   "metadata": {},
   "outputs": [],
   "source": []
  }
 ],
 "metadata": {
  "kernelspec": {
   "display_name": "Python 3 (ipykernel)",
   "language": "python",
   "name": "python3"
  },
  "language_info": {
   "codemirror_mode": {
    "name": "ipython",
    "version": 3
   },
   "file_extension": ".py",
   "mimetype": "text/x-python",
   "name": "python",
   "nbconvert_exporter": "python",
   "pygments_lexer": "ipython3",
   "version": "3.8.10"
  }
 },
 "nbformat": 4,
 "nbformat_minor": 5
}
