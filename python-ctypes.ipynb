{
 "cells": [
  {
   "cell_type": "markdown",
   "id": "cef2f51e",
   "metadata": {},
   "source": [
    "# Extensiones para Python con ctypes\n",
    "\n",
    "Apuntes básicos sobre como llamar a funciones codificadas en C, compiladas con gcc. También, se presentan comparaciones gráficas de los tiempos de ejecución de diversas funciones."
   ]
  },
  {
   "cell_type": "markdown",
   "id": "c6ef82d5",
   "metadata": {},
   "source": [
    "## Dependencias"
   ]
  },
  {
   "cell_type": "code",
   "execution_count": 1,
   "id": "6c5db838",
   "metadata": {},
   "outputs": [],
   "source": [
    "import os\n",
    "import ctypes\n",
    "import numpy"
   ]
  },
  {
   "cell_type": "markdown",
   "id": "0582f8b7",
   "metadata": {},
   "source": [
    "## Serie de Fibonacci"
   ]
  },
  {
   "cell_type": "code",
   "execution_count": 2,
   "id": "c7ce7c92",
   "metadata": {},
   "outputs": [
    {
     "name": "stdout",
     "output_type": "stream",
     "text": [
      "Writing c_fib.c\n"
     ]
    }
   ],
   "source": [
    "%%file c_fib.c\n",
    "long long int c_fib(int n) {\n",
    "    long long int tmp, a = 0, b = 1;\n",
    "    for (int i=0; i<n; i++) {\n",
    "        tmp = a;\n",
    "        a = a + b;\n",
    "        b = tmp;\n",
    "    }\n",
    "    return (long long int)a;\n",
    "}"
   ]
  },
  {
   "cell_type": "code",
   "execution_count": 3,
   "id": "d51982d5",
   "metadata": {},
   "outputs": [],
   "source": [
    "# para generar el object file\n",
    "! gcc -c -Wall -Werror  -fpic  c_fib.c\n",
    "\n",
    "# para crear la shared library\n",
    "! gcc -shared  c_fib.o -o _c_fib.so"
   ]
  },
  {
   "cell_type": "code",
   "execution_count": 4,
   "id": "b41cd1ff",
   "metadata": {},
   "outputs": [],
   "source": [
    "def ctypes_fib():\n",
    "    # ruta de la shared library\n",
    "    lib = ctypes.CDLL('./_c_fib.so')\n",
    "    \n",
    "    # tipo de los argumentos\n",
    "    lib.c_fib.argtypes = [ctypes.c_int]\n",
    "    \n",
    "    # tipo de la salida\n",
    "    lib.c_fib.restype  = ctypes.c_longlong\n",
    "    \n",
    "    # se devuelve la función configurada\n",
    "    return lib.c_fib"
   ]
  },
  {
   "cell_type": "code",
   "execution_count": 5,
   "id": "c26c59ef",
   "metadata": {},
   "outputs": [],
   "source": [
    "# instancia de la funcion\n",
    "cfib = ctypes_fib()"
   ]
  },
  {
   "cell_type": "markdown",
   "id": "b3169fcc",
   "metadata": {},
   "source": [
    "### Prueba de Fibonacci"
   ]
  },
  {
   "cell_type": "code",
   "execution_count": 6,
   "id": "933a32fb",
   "metadata": {},
   "outputs": [
    {
     "data": {
      "text/plain": [
       "[0,\n",
       " 1,\n",
       " 1,\n",
       " 2,\n",
       " 3,\n",
       " 5,\n",
       " 8,\n",
       " 13,\n",
       " 21,\n",
       " 34,\n",
       " 55,\n",
       " 89,\n",
       " 144,\n",
       " 233,\n",
       " 377,\n",
       " 610,\n",
       " 987,\n",
       " 1597,\n",
       " 2584,\n",
       " 4181,\n",
       " 6765,\n",
       " 10946,\n",
       " 17711,\n",
       " 28657,\n",
       " 46368,\n",
       " 75025,\n",
       " 121393,\n",
       " 196418,\n",
       " 317811,\n",
       " 514229,\n",
       " 832040,\n",
       " 1346269,\n",
       " 2178309,\n",
       " 3524578,\n",
       " 5702887,\n",
       " 9227465,\n",
       " 14930352,\n",
       " 24157817,\n",
       " 39088169,\n",
       " 63245986,\n",
       " 102334155,\n",
       " 165580141,\n",
       " 267914296,\n",
       " 433494437,\n",
       " 701408733,\n",
       " 1134903170,\n",
       " 1836311903,\n",
       " 2971215073,\n",
       " 4807526976,\n",
       " 7778742049]"
      ]
     },
     "execution_count": 6,
     "metadata": {},
     "output_type": "execute_result"
    }
   ],
   "source": [
    "# los primeros 50 elementos de la serie de Fibonacci son\n",
    "list(map(cfib,range(50)))"
   ]
  },
  {
   "cell_type": "markdown",
   "id": "ed50a130",
   "metadata": {},
   "source": [
    "## Suma de floats escalares"
   ]
  },
  {
   "cell_type": "code",
   "execution_count": 7,
   "id": "d4f30649",
   "metadata": {},
   "outputs": [
    {
     "name": "stdout",
     "output_type": "stream",
     "text": [
      "Writing scalarFloatAdd.c\n"
     ]
    }
   ],
   "source": [
    "%%file scalarFloatAdd.c\n",
    "// funcion que suma dos floats\n",
    "float scalarFloatAdd(float a, float b){\n",
    "    return a + b;\n",
    "}"
   ]
  },
  {
   "cell_type": "code",
   "execution_count": 8,
   "id": "6e1827f5",
   "metadata": {},
   "outputs": [],
   "source": [
    "# para generar el object file\n",
    "! gcc -c -Wall -Werror -fpic scalarFloatAdd.c\n",
    "\n",
    "# para crear la shared library\n",
    "! gcc -shared scalarFloatAdd.o -o _scalarFloatAdd.so"
   ]
  },
  {
   "cell_type": "code",
   "execution_count": 9,
   "id": "9c8d5b19",
   "metadata": {},
   "outputs": [],
   "source": [
    "def ctypes_scalar_float_add():\n",
    "    # indicar la ruta de la shared library\n",
    "    libfile = os.path.abspath(os.path.join(os.getcwd(),'_scalarFloatAdd.so'))\n",
    "\n",
    "    # cargar la shared library\n",
    "    lib = ctypes.CDLL(libfile)\n",
    "\n",
    "    # tipo de dato de los argumentos\n",
    "    lib.scalarFloatAdd.argtypes = [ctypes.c_float, ctypes.c_float]\n",
    "\n",
    "    # tipo de dato del resultado\n",
    "    lib.scalarFloatAdd.restype = ctypes.c_float\n",
    "    \n",
    "    # funcion configurada\n",
    "    return lib.scalarFloatAdd"
   ]
  },
  {
   "cell_type": "code",
   "execution_count": 10,
   "id": "246732bf",
   "metadata": {},
   "outputs": [],
   "source": [
    "csfadd = ctypes_scalar_float_add()"
   ]
  },
  {
   "cell_type": "markdown",
   "id": "56548108",
   "metadata": {},
   "source": [
    "### Prueba de la suma de floats escalares"
   ]
  },
  {
   "cell_type": "code",
   "execution_count": 11,
   "id": "55d12b22",
   "metadata": {},
   "outputs": [
    {
     "name": "stdout",
     "output_type": "stream",
     "text": [
      "el error relativo de la función scalarFloatAdd es 0.000000\n"
     ]
    }
   ],
   "source": [
    "# entradas\n",
    "x = numpy.random.rand(10,1)\n",
    "y = numpy.random.rand(10,1)\n",
    "\n",
    "# salida de la libreria\n",
    "zl = numpy.zeros((10,1))\n",
    "\n",
    "# salida de numpy\n",
    "zn = numpy.zeros((10,1))\n",
    "\n",
    "# tam\n",
    "size = len(x)\n",
    "\n",
    "# usando la funcion de la libreria\n",
    "for i in range(0,size):\n",
    "    zl[i] = csfadd(x[i],y[i])\n",
    "    \n",
    "# usando bucles for \n",
    "for i in range(0,size):\n",
    "    zn[i] = x[i]+y[i]\n",
    "\n",
    "#calculando error relativo\n",
    "from numpy import linalg as LA\n",
    "\n",
    "print('el error relativo de la función %s es %f'%(csfadd.__name__,LA.norm(zn - zl) / LA.norm(zn)))"
   ]
  },
  {
   "cell_type": "markdown",
   "id": "d19cac3c",
   "metadata": {},
   "source": [
    "## Suma de arreglos de floats"
   ]
  },
  {
   "cell_type": "code",
   "execution_count": 12,
   "id": "704f7b7e",
   "metadata": {},
   "outputs": [
    {
     "name": "stdout",
     "output_type": "stream",
     "text": [
      "Writing vectorFloatAdd.c\n"
     ]
    }
   ],
   "source": [
    "%%file vectorFloatAdd.c\n",
    "// funcion que suma dos arrays de floats\n",
    "void vectorFloatAdd(float* a, float* b, float* c, int size){\n",
    "    for(int i = 0; i < size; i++){\n",
    "        c[i] = a[i] + b[i];\n",
    "    }\n",
    "}"
   ]
  },
  {
   "cell_type": "code",
   "execution_count": 13,
   "id": "5dbd13ac",
   "metadata": {},
   "outputs": [],
   "source": [
    "# crear el object file\n",
    "! gcc -c -Wall -Werror -fpic vectorFloatAdd.c\n",
    "\n",
    "# crear la shared library\n",
    "! gcc -shared vectorFloatAdd.o -o _vectorFloatAdd.so"
   ]
  },
  {
   "cell_type": "code",
   "execution_count": 14,
   "id": "3830e6e2",
   "metadata": {},
   "outputs": [],
   "source": [
    "def ctypes_vector_float_add():\n",
    "    # indicar la ruta de la shared library\n",
    "    libfile = os.path.abspath(os.path.join(os.getcwd(),'_vectorFloatAdd.so'))\n",
    "\n",
    "    # cargar la shared library\n",
    "    lib = ctypes.CDLL(libfile)\n",
    "\n",
    "    # tipo de dato de los argumentos\n",
    "    lib.vectorFloatAdd.argtypes = [\n",
    "        numpy.ctypeslib.ndpointer(dtype=numpy.float32),\n",
    "        numpy.ctypeslib.ndpointer(dtype=numpy.float32),\n",
    "        numpy.ctypeslib.ndpointer(dtype=numpy.float32),\n",
    "        ctypes.c_int\n",
    "    ]\n",
    "    \n",
    "    # funcion configurada\n",
    "    return lib.vectorFloatAdd"
   ]
  },
  {
   "cell_type": "code",
   "execution_count": 15,
   "id": "616809f3",
   "metadata": {},
   "outputs": [],
   "source": [
    "cvfadd = ctypes_vector_float_add()"
   ]
  },
  {
   "cell_type": "markdown",
   "id": "f6c34d39",
   "metadata": {},
   "source": [
    "### Prueba de la suma de arrays de floats"
   ]
  },
  {
   "cell_type": "code",
   "execution_count": 16,
   "id": "aca61d85",
   "metadata": {},
   "outputs": [
    {
     "name": "stdout",
     "output_type": "stream",
     "text": [
      "el error relativo de la función vectorFloatAdd es 0.000000\n"
     ]
    }
   ],
   "source": [
    "#entradas\n",
    "x = numpy.random.rand(10,1).astype(numpy.float32)\n",
    "y = numpy.random.rand(10,1).astype(numpy.float32)\n",
    "\n",
    "#salida de la libreria\n",
    "zl = numpy.zeros((10,1),dtype=numpy.float32)\n",
    "\n",
    "#salida de numpy\n",
    "zn = numpy.zeros((10,1))\n",
    "\n",
    "# tam\n",
    "size = len(x)\n",
    "\n",
    "#usando la funcion de la libreria\n",
    "cvfadd(x,y,zl,size)\n",
    "    \n",
    "# usando bucles for \n",
    "for i in range(0,size):\n",
    "    zn[i] = x[i]+y[i]\n",
    "\n",
    "#calculando error relativo\n",
    "from numpy import linalg as LA\n",
    "\n",
    "print('el error relativo de la función %s es %f'%(cvfadd.__name__, LA.norm(zn - zl) / LA.norm(zn)))"
   ]
  },
  {
   "cell_type": "markdown",
   "id": "b6d5bf9c",
   "metadata": {},
   "source": [
    "## Suma de arreglos de floats con SIMD"
   ]
  },
  {
   "cell_type": "code",
   "execution_count": 17,
   "id": "872e92f2",
   "metadata": {},
   "outputs": [
    {
     "name": "stdout",
     "output_type": "stream",
     "text": [
      "Writing vectorFloatAddAsmSimd.asm\n"
     ]
    }
   ],
   "source": [
    "%%file vectorFloatAddAsmSimd.asm\n",
    "    global vectorFloatAddAsmSimd\n",
    "    section .text\n",
    "vectorFloatAddAsmSimd:\n",
    "    xorpd xmm0, xmm0\n",
    "    xorpd xmm1, xmm1\n",
    "    cmp rcx, 0\n",
    "    je done\n",
    "next:\n",
    "    movaps xmm0, [rdi]\n",
    "    movaps xmm1, [rsi]\n",
    "    addps xmm0, xmm1\n",
    "    movaps  [rdx], xmm0\n",
    "    add rdi, 16\n",
    "    add rsi, 16\n",
    "    add rdx, 16\n",
    "    sub rcx, 4\n",
    "    jnz next\n",
    "done:\n",
    "    ret"
   ]
  },
  {
   "cell_type": "code",
   "execution_count": 18,
   "id": "f16aa239",
   "metadata": {},
   "outputs": [
    {
     "name": "stdout",
     "output_type": "stream",
     "text": [
      "Writing vectorFloatAddAsmSimd.c\n"
     ]
    }
   ],
   "source": [
    "%%file vectorFloatAddAsmSimd.c\n",
    "extern void vectorFloatAddAsmSimd(float *v, float *u, float *w, int size);\n",
    "\n",
    "void vectorFloatAddAsmSimdC(float *v, float *u, float *w, int size){\n",
    "    vectorFloatAddAsmSimd(v,u,w,size);\n",
    "}"
   ]
  },
  {
   "cell_type": "code",
   "execution_count": 19,
   "id": "13fee8a3",
   "metadata": {},
   "outputs": [],
   "source": [
    "! nasm -f elf64 vectorFloatAddAsmSimd.asm -o vectorFloatAddAsmSimd.o\n",
    "! gcc -shared vectorFloatAddAsmSimd.o vectorFloatAddAsmSimd.c -o _vectorFloatAddAsmSimd.so"
   ]
  },
  {
   "cell_type": "code",
   "execution_count": 20,
   "id": "2f74ed06",
   "metadata": {},
   "outputs": [],
   "source": [
    "def ctypes_vector_float_add_asm_simd():\n",
    "    # indicar la ruta de la shared library\n",
    "    libfile = os.path.abspath(os.path.join(os.getcwd(),'_vectorFloatAddAsmSimd.so'))\n",
    "\n",
    "    # cargar la shared library\n",
    "    lib = ctypes.CDLL(libfile)\n",
    "\n",
    "    # tipo de dato de los argumentos\n",
    "    lib.vectorFloatAddAsmSimdC.argtypes = [\n",
    "        numpy.ctypeslib.ndpointer(dtype=numpy.float32),\n",
    "        numpy.ctypeslib.ndpointer(dtype=numpy.float32),\n",
    "        numpy.ctypeslib.ndpointer(dtype=numpy.float32),\n",
    "        ctypes.c_int\n",
    "    ]\n",
    "    \n",
    "    # funcion configurada\n",
    "    return lib.vectorFloatAddAsmSimdC"
   ]
  },
  {
   "cell_type": "code",
   "execution_count": 21,
   "id": "759c036c",
   "metadata": {},
   "outputs": [],
   "source": [
    "cvfaddas = ctypes_vector_float_add_asm_simd()"
   ]
  },
  {
   "cell_type": "markdown",
   "id": "cec2e8ea",
   "metadata": {},
   "source": [
    "### Prueba de suma de arreglos de floats con SIMD"
   ]
  },
  {
   "cell_type": "code",
   "execution_count": 22,
   "id": "88418be3",
   "metadata": {},
   "outputs": [
    {
     "name": "stdout",
     "output_type": "stream",
     "text": [
      "el error relativo de la función vectorFloatAddAsmSimdC es 0.000000\n"
     ]
    }
   ],
   "source": [
    "# tam\n",
    "size = 1024\n",
    "\n",
    "#entradas\n",
    "x = numpy.random.rand(size,1).astype(numpy.float32)\n",
    "y = numpy.random.rand(size,1).astype(numpy.float32)\n",
    "\n",
    "#salida de la libreria\n",
    "zl = numpy.zeros((size,1),dtype=numpy.float32)\n",
    "\n",
    "#salida de numpy\n",
    "zn = numpy.zeros((size,1))\n",
    "\n",
    "#usando la funcion de la libreria\n",
    "cvfaddas(x,y,zl,size)\n",
    "    \n",
    "# usando bucles for \n",
    "for i in range(0,size):\n",
    "    zn[i] = x[i]+y[i]\n",
    "\n",
    "#calculando error relativo\n",
    "from numpy import linalg as LA\n",
    "\n",
    "print('el error relativo de la función %s es %f'%(cvfaddas.__name__, LA.norm(zn - zl) / LA.norm(zn)))"
   ]
  },
  {
   "cell_type": "markdown",
   "id": "5c3ab9af",
   "metadata": {},
   "source": [
    "## Comparación de tiempos de ejecución"
   ]
  },
  {
   "cell_type": "code",
   "execution_count": 23,
   "id": "7ca8f6bd",
   "metadata": {},
   "outputs": [
    {
     "data": {
      "image/png": "[encoded data removed]",
      "text/plain": [
       "<Figure size 432x288 with 1 Axes>"
      ]
     },
     "metadata": {
      "needs_background": "light"
     },
     "output_type": "display_data"
    }
   ],
   "source": [
    "# modulo para graficar\n",
    "import matplotlib.pyplot as plt\n",
    "\n",
    "# modulo para medir el tiempo\n",
    "import time\n",
    "\n",
    "# tamagnos de los arreglos\n",
    "sizes = 2**numpy.arange(5,12)\n",
    "\n",
    "# tiempos de la suma de arreglos de floats\n",
    "tc = numpy.zeros((len(sizes),1),dtype=numpy.float32)\n",
    "\n",
    "# tiempos de la suma de arreglos de floats con SIMD\n",
    "tasm = numpy.zeros((len(sizes),1),dtype=numpy.float32)\n",
    "\n",
    "# tiempos de la suma con for\n",
    "tn = numpy.zeros((len(sizes),1),dtype=numpy.float32)\n",
    "\n",
    "for i, size in enumerate(sizes):\n",
    "    x = numpy.random.rand(size,1).astype(numpy.float32)\n",
    "    y = numpy.random.rand(size,1).astype(numpy.float32)\n",
    "    zl =  numpy.zeros((size,1),dtype=numpy.float32)\n",
    "    zn =  numpy.zeros((size,1),dtype=numpy.float32)    \n",
    "    t = time.time()\n",
    "    cvfadd(x,y,zl,size)\n",
    "    tc[i] = time.time() - t\n",
    "    t = time.time()\n",
    "    cvfaddas(x,y,zl,size)\n",
    "    tasm[i] = time.time() - t\n",
    "    t = time.time()\n",
    "    for s in range(size):\n",
    "        zn[s] = x[s] + y[s]\n",
    "    tn[i] = time.time() - t\n",
    "\n",
    "plt.plot(sizes, tc, 'r-+', label='tiempo C')\n",
    "plt.plot(sizes, tasm, 'b-o', label='tiempo SIMD')\n",
    "plt.xlabel('tamagno')\n",
    "plt.ylabel('tiempo')\n",
    "plt.legend()\n",
    "\n",
    "plt.savefig('time-size.png', dpi=300, bbox_inches='tight')\n",
    "plt.show()"
   ]
  },
  {
   "cell_type": "code",
   "execution_count": 24,
   "id": "74461270",
   "metadata": {},
   "outputs": [
    {
     "data": {
      "image/png": "[encoded data removed]",
      "text/plain": [
       "<Figure size 432x288 with 1 Axes>"
      ]
     },
     "metadata": {
      "needs_background": "light"
     },
     "output_type": "display_data"
    }
   ],
   "source": [
    "import statistics\n",
    "\n",
    "noms = ['C','SIMD']\n",
    "proms = [ \n",
    "    statistics.mean([t[0] for t in tc.tolist()]), \n",
    "    statistics.mean([t[0] for t in tasm.tolist()])\n",
    "]\n",
    "plt.bar(noms,proms,color='r')\n",
    "plt.tight_layout()"
   ]
  },
  {
   "cell_type": "code",
   "execution_count": 25,
   "id": "a4fda178",
   "metadata": {},
   "outputs": [
    {
     "name": "stdout",
     "output_type": "stream",
     "text": [
      "el speedup es aprox 1.798046\n"
     ]
    }
   ],
   "source": [
    "print('el speedup es aprox %f'%(proms[0]/proms[1]))"
   ]
  },
  {
   "cell_type": "code",
   "execution_count": 26,
   "id": "6cda6be3",
   "metadata": {},
   "outputs": [],
   "source": [
    "! rm *.o\n",
    "! rm *.so\n",
    "! rm *.asm\n",
    "! rm *.c"
   ]
  }
 ],
 "metadata": {
  "kernelspec": {
   "display_name": "Python 3 (ipykernel)",
   "language": "python",
   "name": "python3"
  },
  "language_info": {
   "codemirror_mode": {
    "name": "ipython",
    "version": 3
   },
   "file_extension": ".py",
   "mimetype": "text/x-python",
   "name": "python",
   "nbconvert_exporter": "python",
   "pygments_lexer": "ipython3",
   "version": "3.8.10"
  }
 },
 "nbformat": 4,
 "nbformat_minor": 5
}
