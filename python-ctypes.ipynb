{
 "cells": [
  {
   "cell_type": "markdown",
   "source": [
    "# Extensiones para Python con ctypes\n",
    "\n",
    "Apuntes básicos sobre como llamar a funciones codificadas en C, compiladas con gcc. También, se presentan comparaciones gráficas de los tiempos de ejecución de diversas funciones."
   ],
   "metadata": {}
  },
  {
   "cell_type": "markdown",
   "source": [
    "## Dependencias"
   ],
   "metadata": {}
  },
  {
   "cell_type": "code",
   "execution_count": 1,
   "source": [
    "import os\n",
    "import ctypes\n",
    "import numpy"
   ],
   "outputs": [],
   "metadata": {}
  },
  {
   "cell_type": "markdown",
   "source": [
    "## Serie de Fibonacci"
   ],
   "metadata": {}
  },
  {
   "cell_type": "code",
   "execution_count": 2,
   "source": [
    "%%file c_fib.c\n",
    "long long int c_fib(int n) {\n",
    "    long long int tmp, a = 0, b = 1;\n",
    "    for (int i=0; i<n; i++) {\n",
    "        tmp = a;\n",
    "        a = a + b;\n",
    "        b = tmp;\n",
    "    }\n",
    "    return a;\n",
    "}"
   ],
   "outputs": [
    {
     "output_type": "stream",
     "name": "stdout",
     "text": [
      "Writing c_fib.c\n"
     ]
    }
   ],
   "metadata": {}
  },
  {
   "cell_type": "code",
   "execution_count": 3,
   "source": [
    "# para generar el object file\n",
    "! gcc -c -Wall -Werror  -fpic  c_fib.c\n",
    "\n",
    "# para crear la shared library\n",
    "! gcc -shared  c_fib.o -o _c_fib.so"
   ],
   "outputs": [],
   "metadata": {}
  },
  {
   "cell_type": "code",
   "execution_count": 4,
   "source": [
    "def ctypes_fib():\n",
    "    # ruta de la shared library\n",
    "    lib = ctypes.CDLL('./_c_fib.so')\n",
    "    \n",
    "    # tipo de los argumentos\n",
    "    lib.c_fib.argtypes = [ctypes.c_int]\n",
    "    \n",
    "    # tipo de la salida\n",
    "    lib.c_fib.restype  = ctypes.c_longlong\n",
    "    \n",
    "    # se devuelve la función configurada\n",
    "    return lib.c_fib"
   ],
   "outputs": [],
   "metadata": {}
  },
  {
   "cell_type": "code",
   "execution_count": 5,
   "source": [
    "# instancia de la funcion\n",
    "cfib = ctypes_fib()"
   ],
   "outputs": [],
   "metadata": {}
  },
  {
   "cell_type": "markdown",
   "source": [
    "### Prueba de Fibonacci"
   ],
   "metadata": {}
  },
  {
   "cell_type": "code",
   "execution_count": 6,
   "source": [
    "# los primeros 50 elementos de la serie de Fibonacci son\n",
    "list(map(cfib,range(50)))"
   ],
   "outputs": [
    {
     "output_type": "execute_result",
     "data": {
      "text/plain": [
       "[0,\n",
       " 1,\n",
       " 1,\n",
       " 2,\n",
       " 3,\n",
       " 5,\n",
       " 8,\n",
       " 13,\n",
       " 21,\n",
       " 34,\n",
       " 55,\n",
       " 89,\n",
       " 144,\n",
       " 233,\n",
       " 377,\n",
       " 610,\n",
       " 987,\n",
       " 1597,\n",
       " 2584,\n",
       " 4181,\n",
       " 6765,\n",
       " 10946,\n",
       " 17711,\n",
       " 28657,\n",
       " 46368,\n",
       " 75025,\n",
       " 121393,\n",
       " 196418,\n",
       " 317811,\n",
       " 514229,\n",
       " 832040,\n",
       " 1346269,\n",
       " 2178309,\n",
       " 3524578,\n",
       " 5702887,\n",
       " 9227465,\n",
       " 14930352,\n",
       " 24157817,\n",
       " 39088169,\n",
       " 63245986,\n",
       " 102334155,\n",
       " 165580141,\n",
       " 267914296,\n",
       " 433494437,\n",
       " 701408733,\n",
       " 1134903170,\n",
       " 1836311903,\n",
       " 2971215073,\n",
       " 4807526976,\n",
       " 7778742049]"
      ]
     },
     "metadata": {},
     "execution_count": 6
    }
   ],
   "metadata": {}
  },
  {
   "cell_type": "markdown",
   "source": [
    "## Suma de floats escalares"
   ],
   "metadata": {}
  },
  {
   "cell_type": "code",
   "execution_count": 7,
   "source": [
    "%%file scalarFloatAdd.c\n",
    "// funcion que suma dos floats\n",
    "float scalarFloatAdd(float a, float b){\n",
    "    return a + b;\n",
    "}"
   ],
   "outputs": [
    {
     "output_type": "stream",
     "name": "stdout",
     "text": [
      "Writing scalarFloatAdd.c\n"
     ]
    }
   ],
   "metadata": {}
  },
  {
   "cell_type": "code",
   "execution_count": 8,
   "source": [
    "# para generar el object file\n",
    "! gcc -c -Wall -Werror -fpic scalarFloatAdd.c\n",
    "\n",
    "# para crear la shared library\n",
    "! gcc -shared scalarFloatAdd.o -o _scalarFloatAdd.so"
   ],
   "outputs": [],
   "metadata": {}
  },
  {
   "cell_type": "code",
   "execution_count": 9,
   "source": [
    "def ctypes_scalar_float_add():\n",
    "    # indicar la ruta de la shared library\n",
    "    libfile = os.path.abspath(os.path.join(os.getcwd(),'_scalarFloatAdd.so'))\n",
    "\n",
    "    # cargar la shared library\n",
    "    lib = ctypes.CDLL(libfile)\n",
    "\n",
    "    # tipo de dato de los argumentos\n",
    "    lib.scalarFloatAdd.argtypes = [ctypes.c_float, ctypes.c_float]\n",
    "\n",
    "    # tipo de dato del resultado\n",
    "    lib.scalarFloatAdd.restype = ctypes.c_float\n",
    "    \n",
    "    # funcion configurada\n",
    "    return lib.scalarFloatAdd"
   ],
   "outputs": [],
   "metadata": {}
  },
  {
   "cell_type": "code",
   "execution_count": 10,
   "source": [
    "csfadd = ctypes_scalar_float_add()"
   ],
   "outputs": [],
   "metadata": {}
  },
  {
   "cell_type": "markdown",
   "source": [
    "### Prueba de la suma de floats escalares"
   ],
   "metadata": {}
  },
  {
   "cell_type": "code",
   "execution_count": 11,
   "source": [
    "# entradas\n",
    "x = numpy.random.rand(10,1).astype(numpy.float32)\n",
    "y = numpy.random.rand(10,1).astype(numpy.float32)\n",
    "\n",
    "# salida de la libreria\n",
    "zl = numpy.zeros((10,1),dtype=numpy.float32)\n",
    "\n",
    "# salida de numpy\n",
    "zn = numpy.zeros((10,1),dtype=numpy.float32)\n",
    "\n",
    "# tam\n",
    "size = len(x)\n",
    "\n",
    "# usando la funcion de la libreria\n",
    "for i in range(0,size):\n",
    "    zl[i] = csfadd(x[i],y[i])\n",
    "    \n",
    "# usando bucles for \n",
    "for i in range(0,size):\n",
    "    zn[i] = x[i]+y[i]\n",
    "\n",
    "#calculando error relativo\n",
    "from numpy import linalg as LA\n",
    "\n",
    "print('el error relativo de la función %s es %f'%(csfadd.__name__,LA.norm(zn - zl) / LA.norm(zn)))"
   ],
   "outputs": [
    {
     "output_type": "stream",
     "name": "stdout",
     "text": [
      "el error relativo de la función scalarFloatAdd es 0.000000\n"
     ]
    }
   ],
   "metadata": {}
  },
  {
   "cell_type": "markdown",
   "source": [
    "## Suma de arreglos de floats"
   ],
   "metadata": {}
  },
  {
   "cell_type": "code",
   "execution_count": 12,
   "source": [
    "%%file vectorFloatAdd.c\n",
    "// funcion que suma dos arrays de floats\n",
    "void vectorFloatAdd(float* a, float* b, float* c, int size){\n",
    "    for(int i = 0; i < size; i++){\n",
    "        c[i] = a[i] + b[i];\n",
    "    }\n",
    "}"
   ],
   "outputs": [
    {
     "output_type": "stream",
     "name": "stdout",
     "text": [
      "Writing vectorFloatAdd.c\n"
     ]
    }
   ],
   "metadata": {}
  },
  {
   "cell_type": "code",
   "execution_count": 13,
   "source": [
    "# crear el object file\n",
    "! gcc -c -Wall -Werror -fpic vectorFloatAdd.c\n",
    "\n",
    "# crear la shared library\n",
    "! gcc -shared vectorFloatAdd.o -o _vectorFloatAdd.so"
   ],
   "outputs": [],
   "metadata": {}
  },
  {
   "cell_type": "code",
   "execution_count": 14,
   "source": [
    "def ctypes_vector_float_add():\n",
    "    # indicar la ruta de la shared library\n",
    "    libfile = os.path.abspath(os.path.join(os.getcwd(),'_vectorFloatAdd.so'))\n",
    "\n",
    "    # cargar la shared library\n",
    "    lib = ctypes.CDLL(libfile)\n",
    "\n",
    "    # tipo de dato de los argumentos\n",
    "    lib.vectorFloatAdd.argtypes = [\n",
    "        numpy.ctypeslib.ndpointer(dtype=numpy.float32),\n",
    "        numpy.ctypeslib.ndpointer(dtype=numpy.float32),\n",
    "        numpy.ctypeslib.ndpointer(dtype=numpy.float32),\n",
    "        ctypes.c_int\n",
    "    ]\n",
    "    \n",
    "    # funcion configurada\n",
    "    return lib.vectorFloatAdd"
   ],
   "outputs": [],
   "metadata": {}
  },
  {
   "cell_type": "code",
   "execution_count": 15,
   "source": [
    "cvfadd = ctypes_vector_float_add()"
   ],
   "outputs": [],
   "metadata": {}
  },
  {
   "cell_type": "markdown",
   "source": [
    "### Prueba de la suma de arrays de floats"
   ],
   "metadata": {}
  },
  {
   "cell_type": "code",
   "execution_count": 16,
   "source": [
    "#entradas\n",
    "x = numpy.random.rand(10,1).astype(numpy.float32)\n",
    "y = numpy.random.rand(10,1).astype(numpy.float32)\n",
    "\n",
    "#salida de la libreria\n",
    "zl = numpy.zeros((10,1),dtype=numpy.float32)\n",
    "\n",
    "#salida de numpy\n",
    "zn = numpy.zeros((10,1))\n",
    "\n",
    "# tam\n",
    "size = len(x)\n",
    "\n",
    "#usando la funcion de la libreria\n",
    "cvfadd(x,y,zl,size)\n",
    "    \n",
    "# usando bucles for \n",
    "for i in range(0,size):\n",
    "    zn[i] = x[i]+y[i]\n",
    "\n",
    "#calculando error relativo\n",
    "from numpy import linalg as LA\n",
    "\n",
    "print('el error relativo de la función %s es %f'%(cvfadd.__name__, LA.norm(zn - zl) / LA.norm(zn)))"
   ],
   "outputs": [
    {
     "output_type": "stream",
     "name": "stdout",
     "text": [
      "el error relativo de la función vectorFloatAdd es 0.000000\n"
     ]
    }
   ],
   "metadata": {}
  },
  {
   "cell_type": "markdown",
   "source": [
    "## Suma de arreglos de floats con SIMD"
   ],
   "metadata": {}
  },
  {
   "cell_type": "code",
   "execution_count": 17,
   "source": [
    "%%file vectorFloatAddAsmSimd.asm\n",
    "    global vectorFloatAddAsmSimd\n",
    "    section .text\n",
    "vectorFloatAddAsmSimd:\n",
    "    xorpd xmm0, xmm0\n",
    "    xorpd xmm1, xmm1\n",
    "    cmp rcx, 0\n",
    "    je done\n",
    "next:\n",
    "    movaps xmm0, [rdi]\n",
    "    movaps xmm1, [rsi]\n",
    "    addps xmm0, xmm1\n",
    "    movaps  [rdx], xmm0\n",
    "    add rdi, 16\n",
    "    add rsi, 16\n",
    "    add rdx, 16\n",
    "    sub rcx, 4\n",
    "    jnz next\n",
    "done:\n",
    "    ret"
   ],
   "outputs": [
    {
     "output_type": "stream",
     "name": "stdout",
     "text": [
      "Writing vectorFloatAddAsmSimd.asm\n"
     ]
    }
   ],
   "metadata": {}
  },
  {
   "cell_type": "code",
   "execution_count": 18,
   "source": [
    "%%file vectorFloatAddAsmSimd.c\n",
    "extern void vectorFloatAddAsmSimd(float *v, float *u, float *w, int size);\n",
    "\n",
    "void vectorFloatAddAsmSimdC(float *v, float *u, float *w, int size){\n",
    "    vectorFloatAddAsmSimd(v,u,w,size);\n",
    "}"
   ],
   "outputs": [
    {
     "output_type": "stream",
     "name": "stdout",
     "text": [
      "Writing vectorFloatAddAsmSimd.c\n"
     ]
    }
   ],
   "metadata": {}
  },
  {
   "cell_type": "code",
   "execution_count": 19,
   "source": [
    "! nasm -f elf64 vectorFloatAddAsmSimd.asm -o vectorFloatAddAsmSimd.o\n",
    "! gcc -shared vectorFloatAddAsmSimd.o vectorFloatAddAsmSimd.c -o _vectorFloatAddAsmSimd.so"
   ],
   "outputs": [],
   "metadata": {}
  },
  {
   "cell_type": "code",
   "execution_count": 20,
   "source": [
    "def ctypes_vector_float_add_asm_simd():\n",
    "    # indicar la ruta de la shared library\n",
    "    libfile = os.path.abspath(os.path.join(os.getcwd(),'_vectorFloatAddAsmSimd.so'))\n",
    "\n",
    "    # cargar la shared library\n",
    "    lib = ctypes.CDLL(libfile)\n",
    "\n",
    "    # tipo de dato de los argumentos\n",
    "    lib.vectorFloatAddAsmSimdC.argtypes = [\n",
    "        numpy.ctypeslib.ndpointer(dtype=numpy.float32),\n",
    "        numpy.ctypeslib.ndpointer(dtype=numpy.float32),\n",
    "        numpy.ctypeslib.ndpointer(dtype=numpy.float32),\n",
    "        ctypes.c_int\n",
    "    ]\n",
    "    \n",
    "    # funcion configurada\n",
    "    return lib.vectorFloatAddAsmSimdC"
   ],
   "outputs": [],
   "metadata": {}
  },
  {
   "cell_type": "code",
   "execution_count": 21,
   "source": [
    "cvfaddas = ctypes_vector_float_add_asm_simd()"
   ],
   "outputs": [],
   "metadata": {}
  },
  {
   "cell_type": "markdown",
   "source": [
    "### Prueba de suma de arreglos de floats con SIMD"
   ],
   "metadata": {}
  },
  {
   "cell_type": "code",
   "execution_count": 22,
   "source": [
    "# tam\n",
    "size = 1024\n",
    "\n",
    "#entradas\n",
    "x = numpy.random.rand(size,1).astype(numpy.float32)\n",
    "y = numpy.random.rand(size,1).astype(numpy.float32)\n",
    "\n",
    "#salida de la libreria\n",
    "zl = numpy.zeros((size,1),dtype=numpy.float32)\n",
    "\n",
    "#salida de numpy\n",
    "zn = numpy.zeros((size,1))\n",
    "\n",
    "#usando la funcion de la libreria\n",
    "cvfaddas(x,y,zl,size)\n",
    "    \n",
    "# usando bucles for \n",
    "for i in range(0,size):\n",
    "    zn[i] = x[i]+y[i]\n",
    "\n",
    "#calculando error relativo\n",
    "from numpy import linalg as LA\n",
    "\n",
    "print('el error relativo de la función %s es %f'%(cvfaddas.__name__, LA.norm(zn - zl) / LA.norm(zn)))"
   ],
   "outputs": [
    {
     "output_type": "stream",
     "name": "stdout",
     "text": [
      "el error relativo de la función vectorFloatAddAsmSimdC es 0.000000\n"
     ]
    }
   ],
   "metadata": {}
  },
  {
   "cell_type": "markdown",
   "source": [
    "## Comparación de tiempos de ejecución"
   ],
   "metadata": {}
  },
  {
   "cell_type": "code",
   "execution_count": 23,
   "source": [
    "# modulo para graficar\n",
    "import matplotlib.pyplot as plt\n",
    "\n",
    "# modulo para medir el tiempo\n",
    "import time\n",
    "\n",
    "# tamagnos de los arreglos\n",
    "sizes = 2**numpy.arange(5,12)\n",
    "\n",
    "# tiempos de la suma de arreglos de floats\n",
    "tc = numpy.zeros((len(sizes),1),dtype=numpy.float32)\n",
    "\n",
    "# tiempos de la suma de arreglos de floats con SIMD\n",
    "tasm = numpy.zeros((len(sizes),1),dtype=numpy.float32)\n",
    "\n",
    "for i, size in enumerate(sizes):\n",
    "    x = numpy.random.rand(size,1).astype(numpy.float32)\n",
    "    y = numpy.random.rand(size,1).astype(numpy.float32)\n",
    "    zl =  numpy.zeros((size,1),dtype=numpy.float32)\n",
    "    zn =  numpy.zeros((size,1),dtype=numpy.float32)    \n",
    "    t = time.time()\n",
    "    cvfadd(x,y,zl,size)\n",
    "    tc[i] = time.time() - t\n",
    "    t = time.time()\n",
    "    cvfaddas(x,y,zl,size)\n",
    "    tasm[i] = time.time() - t\n",
    "\n",
    "plt.plot(sizes, tc, 'r-+', label='tiempo C')\n",
    "plt.plot(sizes, tasm, 'b-o', label='tiempo SIMD')\n",
    "plt.xlabel('tamagno')\n",
    "plt.ylabel('tiempo')\n",
    "plt.legend()\n",
    "plt.show()"
   ],
   "outputs": [
    {
     "output_type": "display_data",
     "data": {
      "text/plain": [
       "<Figure size 432x288 with 1 Axes>"
      ],
      "image/png": "[encoded data removed]"
     },
     "metadata": {
      "needs_background": "light"
     }
    }
   ],
   "metadata": {}
  },
  {
   "cell_type": "code",
   "execution_count": 24,
   "source": [
    "noms = ['C','SIMD']\n",
    "proms = [ \n",
    "    numpy.mean(tc), \n",
    "    numpy.mean(tasm)\n",
    "]\n",
    "plt.bar(noms,proms,color='r')\n",
    "plt.tight_layout()"
   ],
   "outputs": [
    {
     "output_type": "display_data",
     "data": {
      "text/plain": [
       "<Figure size 432x288 with 1 Axes>"
      ],
      "image/png": "[encoded data removed]"
     },
     "metadata": {
      "needs_background": "light"
     }
    }
   ],
   "metadata": {}
  },
  {
   "cell_type": "code",
   "execution_count": 25,
   "source": [
    "print('el speedup es aprox %f'%(proms[0]/proms[1]))"
   ],
   "outputs": [
    {
     "output_type": "stream",
     "name": "stdout",
     "text": [
      "el speedup es aprox 2.016234\n"
     ]
    }
   ],
   "metadata": {}
  },
  {
   "cell_type": "code",
   "execution_count": 26,
   "source": [
    "! rm *.o\n",
    "! rm *.so\n",
    "! rm *.asm\n",
    "! rm *.c"
   ],
   "outputs": [],
   "metadata": {}
  }
 ],
 "metadata": {
  "kernelspec": {
   "display_name": "Python 3 (ipykernel)",
   "language": "python",
   "name": "python3"
  },
  "language_info": {
   "codemirror_mode": {
    "name": "ipython",
    "version": 3
   },
   "file_extension": ".py",
   "mimetype": "text/x-python",
   "name": "python",
   "nbconvert_exporter": "python",
   "pygments_lexer": "ipython3",
   "version": "3.8.10"
  }
 },
 "nbformat": 4,
 "nbformat_minor": 5
}