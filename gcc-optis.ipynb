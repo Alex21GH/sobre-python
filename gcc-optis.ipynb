{
 "cells": [
  {
   "cell_type": "markdown",
   "id": "265c5b19",
   "metadata": {},
   "source": [
    "# Optimizaciones de GCC\n",
    "\n",
    "En estos apuntes se presentan gráficas de los tiempos de ejecución, para una función que suma los elementos de dos arreglos de vectores y almacena el resultado en otro vector. La función será compilada con optimizaciones para observar como estas afectan al tiempo de ejecución y a la precisión. "
   ]
  },
  {
   "cell_type": "markdown",
   "id": "aee2650c",
   "metadata": {},
   "source": [
    "## Dependencias"
   ]
  },
  {
   "cell_type": "code",
   "execution_count": 1,
   "id": "cbee4199",
   "metadata": {},
   "outputs": [],
   "source": [
    "import os\n",
    "import ctypes\n",
    "import numpy\n",
    "from numpy import linalg as LA"
   ]
  },
  {
   "cell_type": "markdown",
   "id": "4656a425",
   "metadata": {},
   "source": [
    "## Suma de arreglos de floats"
   ]
  },
  {
   "cell_type": "code",
   "execution_count": 2,
   "id": "8942e5e0",
   "metadata": {},
   "outputs": [
    {
     "name": "stdout",
     "output_type": "stream",
     "text": [
      "Writing vectorFloatAdd.c\n"
     ]
    }
   ],
   "source": [
    "%%file vectorFloatAdd.c\n",
    "// funcion que suma dos arrays de floats\n",
    "void vectorFloatAdd(float* a, float* b, float* c, int size){\n",
    "    for(int i = 0; i < size; i++){\n",
    "        c[i] = a[i] + b[i];\n",
    "    }\n",
    "}"
   ]
  },
  {
   "cell_type": "code",
   "execution_count": 3,
   "id": "c10df5c9",
   "metadata": {},
   "outputs": [],
   "source": [
    "# crear el object file\n",
    "! gcc -c -Wall -Werror -fpic -O0 vectorFloatAdd.c -o vectorFloatAddO0.o\n",
    "! gcc -c -Wall -Werror -fpic -O1 vectorFloatAdd.c -o vectorFloatAddO1.o\n",
    "! gcc -c -Wall -Werror -fpic -O2 vectorFloatAdd.c -o vectorFloatAddO2.o\n",
    "! gcc -c -Wall -Werror -fpic -O3 vectorFloatAdd.c -o vectorFloatAddO3.o\n",
    "! gcc -c -Wall -Werror -fpic -Os vectorFloatAdd.c -o vectorFloatAddOs.o\n",
    "\n",
    "# crear la shared library\n",
    "! gcc -shared vectorFloatAddO0.o -o _vectorFloatAddO0.so\n",
    "! gcc -shared vectorFloatAddO1.o -o _vectorFloatAddO1.so\n",
    "! gcc -shared vectorFloatAddO2.o -o _vectorFloatAddO2.so\n",
    "! gcc -shared vectorFloatAddO3.o -o _vectorFloatAddO3.so\n",
    "! gcc -shared vectorFloatAddOs.o -o _vectorFloatAddOs.so"
   ]
  },
  {
   "cell_type": "code",
   "execution_count": 4,
   "id": "4782e234",
   "metadata": {},
   "outputs": [
    {
     "name": "stdout",
     "output_type": "stream",
     "text": [
      "\r\n",
      "vectorFloatAddO0.o:     file format elf64-x86-64\r\n",
      "\r\n",
      "\r\n",
      "Disassembly of section .text:\r\n",
      "\r\n",
      "0000000000000000 <vectorFloatAdd>:\r\n",
      "   0:\tf3 0f 1e fa          \tendbr64 \r\n",
      "   4:\t55                   \tpush   rbp\r\n",
      "   5:\t48 89 e5             \tmov    rbp,rsp\r\n",
      "   8:\t48 89 7d e8          \tmov    QWORD PTR [rbp-0x18],rdi\r\n",
      "   c:\t48 89 75 e0          \tmov    QWORD PTR [rbp-0x20],rsi\r\n",
      "  10:\t48 89 55 d8          \tmov    QWORD PTR [rbp-0x28],rdx\r\n",
      "  14:\t89 4d d4             \tmov    DWORD PTR [rbp-0x2c],ecx\r\n",
      "  17:\tc7 45 fc 00 00 00 00 \tmov    DWORD PTR [rbp-0x4],0x0\r\n",
      "  1e:\teb 50                \tjmp    70 <vectorFloatAdd+0x70>\r\n",
      "  20:\t8b 45 fc             \tmov    eax,DWORD PTR [rbp-0x4]\r\n",
      "  23:\t48 98                \tcdqe   \r\n",
      "  25:\t48 8d 14 85 00 00 00 \tlea    rdx,[rax*4+0x0]\r\n",
      "  2c:\t00 \r\n",
      "  2d:\t48 8b 45 e8          \tmov    rax,QWORD PTR [rbp-0x18]\r\n",
      "  31:\t48 01 d0             \tadd    rax,rdx\r\n",
      "  34:\tf3 0f 10 08          \tmovss  xmm1,DWORD PTR [rax]\r\n",
      "  38:\t8b 45 fc             \tmov    eax,DWORD PTR [rbp-0x4]\r\n",
      "  3b:\t48 98                \tcdqe   \r\n",
      "  3d:\t48 8d 14 85 00 00 00 \tlea    rdx,[rax*4+0x0]\r\n",
      "  44:\t00 \r\n",
      "  45:\t48 8b 45 e0          \tmov    rax,QWORD PTR [rbp-0x20]\r\n",
      "  49:\t48 01 d0             \tadd    rax,rdx\r\n",
      "  4c:\tf3 0f 10 00          \tmovss  xmm0,DWORD PTR [rax]\r\n",
      "  50:\t8b 45 fc             \tmov    eax,DWORD PTR [rbp-0x4]\r\n",
      "  53:\t48 98                \tcdqe   \r\n",
      "  55:\t48 8d 14 85 00 00 00 \tlea    rdx,[rax*4+0x0]\r\n",
      "  5c:\t00 \r\n",
      "  5d:\t48 8b 45 d8          \tmov    rax,QWORD PTR [rbp-0x28]\r\n",
      "  61:\t48 01 d0             \tadd    rax,rdx\r\n",
      "  64:\tf3 0f 58 c1          \taddss  xmm0,xmm1\r\n",
      "  68:\tf3 0f 11 00          \tmovss  DWORD PTR [rax],xmm0\r\n",
      "  6c:\t83 45 fc 01          \tadd    DWORD PTR [rbp-0x4],0x1\r\n",
      "  70:\t8b 45 fc             \tmov    eax,DWORD PTR [rbp-0x4]\r\n",
      "  73:\t3b 45 d4             \tcmp    eax,DWORD PTR [rbp-0x2c]\r\n",
      "  76:\t7c a8                \tjl     20 <vectorFloatAdd+0x20>\r\n",
      "  78:\t90                   \tnop\r\n",
      "  79:\t90                   \tnop\r\n",
      "  7a:\t5d                   \tpop    rbp\r\n",
      "  7b:\tc3                   \tret    \r\n"
     ]
    }
   ],
   "source": [
    "# con este comando puede ver el disassembly del object file que le de curiosidad\n",
    "! objdump -M intel -D -j .text vectorFloatAddO0.o"
   ]
  },
  {
   "cell_type": "code",
   "execution_count": 5,
   "id": "f1e77250",
   "metadata": {},
   "outputs": [],
   "source": [
    "def ctypes_vector_float_add(libfile):\n",
    "    # cargar la shared library\n",
    "    lib = ctypes.CDLL(libfile)\n",
    "    # tipo de dato de los argumentos\n",
    "    lib.vectorFloatAdd.argtypes = [\n",
    "        numpy.ctypeslib.ndpointer(dtype=numpy.float32),\n",
    "        numpy.ctypeslib.ndpointer(dtype=numpy.float32),\n",
    "        numpy.ctypeslib.ndpointer(dtype=numpy.float32),\n",
    "        ctypes.c_int\n",
    "    ]\n",
    "     # funcion configurada\n",
    "    return lib.vectorFloatAdd"
   ]
  },
  {
   "cell_type": "code",
   "execution_count": 6,
   "id": "64d35012",
   "metadata": {},
   "outputs": [],
   "source": [
    "cvfaddO0 = ctypes_vector_float_add('./_vectorFloatAddO0.so')\n",
    "cvfaddO1 = ctypes_vector_float_add('./_vectorFloatAddO1.so')\n",
    "cvfaddO2 = ctypes_vector_float_add('./_vectorFloatAddO2.so')\n",
    "cvfaddO3 = ctypes_vector_float_add('./_vectorFloatAddO3.so')\n",
    "cvfaddOs = ctypes_vector_float_add('./_vectorFloatAddOs.so')"
   ]
  },
  {
   "cell_type": "markdown",
   "id": "4354d9d9",
   "metadata": {},
   "source": [
    "## Comparación de los errores relativos y tiempos de ejecución"
   ]
  },
  {
   "cell_type": "code",
   "execution_count": 7,
   "id": "a1471c08",
   "metadata": {},
   "outputs": [],
   "source": [
    "import statistics\n",
    "\n",
    "def filtro_mediana(sign, ventana):\n",
    "    signc = []\n",
    "    tam = len(sign)\n",
    "    offs = int((ventana-1)/2)\n",
    "    for i in range(tam):\n",
    "        inicio = i - offs if (i - offs > 0) else i\n",
    "        fin = i + offs if (i + offs < tam) else tam\n",
    "        signc.append(statistics.median(sign[inicio:fin]))\n",
    "    return signc"
   ]
  },
  {
   "cell_type": "code",
   "execution_count": 8,
   "id": "9115b7c8",
   "metadata": {},
   "outputs": [],
   "source": [
    "# modulo para graficar\n",
    "import matplotlib.pyplot as plt\n",
    "\n",
    "# modulo para medir el tiempo\n",
    "import time\n",
    "\n",
    "# tamagnos de los arreglos\n",
    "sizes = 2**numpy.arange(11,18)\n",
    "\n",
    "# errores de la suma de arreglos de floats\n",
    "eo0 = numpy.zeros((len(sizes),1),dtype=numpy.float64)\n",
    "\n",
    "eo1 = numpy.zeros((len(sizes),1),dtype=numpy.float64)\n",
    "\n",
    "eo2 = numpy.zeros((len(sizes),1),dtype=numpy.float64)\n",
    "\n",
    "eo3 = numpy.zeros((len(sizes),1),dtype=numpy.float64)\n",
    "\n",
    "eos = numpy.zeros((len(sizes),1),dtype=numpy.float64)\n",
    "\n",
    "# tiempos de la suma de arreglos de floats\n",
    "to0 = numpy.zeros((len(sizes),1),dtype=numpy.float64)\n",
    "\n",
    "to1 = numpy.zeros((len(sizes),1),dtype=numpy.float64)\n",
    "\n",
    "to2 = numpy.zeros((len(sizes),1),dtype=numpy.float64)\n",
    "\n",
    "to3 = numpy.zeros((len(sizes),1),dtype=numpy.float64)\n",
    "\n",
    "tos = numpy.zeros((len(sizes),1),dtype=numpy.float64)\n",
    "\n",
    "# repeticiones\n",
    "veces = 100"
   ]
  },
  {
   "cell_type": "code",
   "execution_count": 9,
   "id": "337541c2",
   "metadata": {},
   "outputs": [],
   "source": [
    "# mediciones de los errores relativos con cada optimización\n",
    "e0i = []\n",
    "e1i = []\n",
    "e2i = []\n",
    "e3i = []\n",
    "esi = []\n",
    "\n",
    "for i, size in enumerate(sizes):\n",
    "    e0i = []\n",
    "    e1i = []\n",
    "    e2i = []\n",
    "    e3i = []\n",
    "    esi = []\n",
    "    for j in range(veces):\n",
    "        # entradas\n",
    "        x = numpy.random.rand(size,1).astype(numpy.float32)\n",
    "        y = numpy.random.rand(size,1).astype(numpy.float32)\n",
    "        \n",
    "        # salidas\n",
    "        z0 = numpy.zeros((size,1),dtype=numpy.float32)\n",
    "        z1 = numpy.zeros((size,1),dtype=numpy.float32)\n",
    "        z2 = numpy.zeros((size,1),dtype=numpy.float32)\n",
    "        z3 = numpy.zeros((size,1),dtype=numpy.float32)\n",
    "        zs = numpy.zeros((size,1),dtype=numpy.float32)\n",
    "        \n",
    "        # referencia\n",
    "        z = numpy.zeros((size,1),dtype=numpy.float32)\n",
    "        z = x + y\n",
    "    \n",
    "        # error relativo O0\n",
    "        cvfaddO0(x,y,z0,size)\n",
    "        e0i.append(LA.norm(z - z0) / LA.norm(z))\n",
    "        \n",
    "        # error relativo O1\n",
    "        cvfaddO1(x,y,z1,size)\n",
    "        e1i.append(LA.norm(z - z1) / LA.norm(z))\n",
    "        \n",
    "        # error relativo O2\n",
    "        cvfaddO2(x,y,z2,size)\n",
    "        e2i.append(LA.norm(z - z2) / LA.norm(z))\n",
    "        \n",
    "        # error relativo O3\n",
    "        cvfaddO3(x,y,z3,size)\n",
    "        e3i.append(LA.norm(z - z3) / LA.norm(z))\n",
    "        \n",
    "        # error relativo Os\n",
    "        cvfaddOs(x,y,zs,size)\n",
    "        esi.append(LA.norm(z - zs) / LA.norm(z))\n",
    "        \n",
    "    eo0[i] = statistics.mean(e0i)\n",
    "    eo1[i] = statistics.mean(e1i)\n",
    "    eo2[i] = statistics.mean(e2i)\n",
    "    eo3[i] = statistics.mean(e3i)\n",
    "    eos[i] = statistics.mean(esi)"
   ]
  },
  {
   "cell_type": "code",
   "execution_count": 10,
   "id": "3ea26a89",
   "metadata": {},
   "outputs": [
    {
     "data": {
      "image/png": "[encoded data removed]",
      "text/plain": [
       "<Figure size 432x288 with 1 Axes>"
      ]
     },
     "metadata": {
      "needs_background": "light"
     },
     "output_type": "display_data"
    }
   ],
   "source": [
    "plt.plot(sizes, eo0, label='O0')\n",
    "plt.plot(sizes, eo1, label='O1')\n",
    "plt.plot(sizes, eo2, label='O2')\n",
    "plt.plot(sizes, eo3, label='O3')\n",
    "plt.plot(sizes, eos, label='Os')\n",
    "plt.title('error relativo por tamagno')\n",
    "plt.xlabel('tamagno')\n",
    "plt.ylabel('error relativo')\n",
    "plt.legend()\n",
    "plt.show()"
   ]
  },
  {
   "cell_type": "code",
   "execution_count": 11,
   "id": "a882b3d0",
   "metadata": {},
   "outputs": [],
   "source": [
    "# luego de comprobar que todas las funciones son precisas\n",
    "# se pueden realizar mediciones de tiempo para cada tamagno\n",
    "\n",
    "t0i = []\n",
    "t1i = []\n",
    "t2i = []\n",
    "t3i = []\n",
    "tsi = []\n",
    "\n",
    "for i, size in enumerate(sizes):\n",
    "    t0i = []\n",
    "    t1i = []\n",
    "    t2i = []\n",
    "    t3i = []\n",
    "    tsi = []\n",
    "    for j in range(veces):\n",
    "        # entradas\n",
    "        x = numpy.random.rand(size,1).astype(numpy.float32)\n",
    "        y = numpy.random.rand(size,1).astype(numpy.float32)\n",
    "    \n",
    "        # salida\n",
    "        z =  numpy.zeros((size,1),dtype=numpy.float32)\n",
    "    \n",
    "        # tiempo O0\n",
    "        t = time.time()\n",
    "        cvfaddO0(x,y,z,size)\n",
    "        t0i.append(time.time() - t)\n",
    "        \n",
    "        # tiempo O1\n",
    "        t = time.time()\n",
    "        cvfaddO1(x,y,z,size)\n",
    "        t1i.append(time.time() - t)\n",
    "        \n",
    "        # tiempo O2\n",
    "        t = time.time()\n",
    "        cvfaddO2(x,y,z,size)\n",
    "        t2i.append(time.time() - t)\n",
    "        \n",
    "        # tiempo O3\n",
    "        t = time.time()\n",
    "        cvfaddO3(x,y,z,size)\n",
    "        t3i.append(time.time() - t)\n",
    "        \n",
    "        # tiempo Os\n",
    "        t = time.time()\n",
    "        cvfaddOs(x,y,z,size)\n",
    "        tsi.append(time.time() - t)\n",
    "        \n",
    "    to0[i] = statistics.mean(filtro_mediana(t0i,7))\n",
    "    to1[i] = statistics.mean(filtro_mediana(t1i,7))\n",
    "    to2[i] = statistics.mean(filtro_mediana(t2i,7))\n",
    "    to3[i] = statistics.mean(filtro_mediana(t3i,7))\n",
    "    tos[i] = statistics.mean(filtro_mediana(tsi,7))"
   ]
  },
  {
   "cell_type": "code",
   "execution_count": 12,
   "id": "32e32452",
   "metadata": {},
   "outputs": [
    {
     "data": {
      "image/png": "[encoded data removed]",
      "text/plain": [
       "<Figure size 432x288 with 1 Axes>"
      ]
     },
     "metadata": {
      "needs_background": "light"
     },
     "output_type": "display_data"
    }
   ],
   "source": [
    "plt.plot(sizes, to0, 'r', label='O0')\n",
    "plt.plot(sizes, to1, 'g', label='O1')\n",
    "plt.plot(sizes, to2, 'b', label='O2')\n",
    "plt.plot(sizes, to3, 'y', label='O3')\n",
    "plt.plot(sizes, tos, 'c', label='Os')\n",
    "plt.title('tiempo por tamagno')\n",
    "plt.xlabel('tamagno')\n",
    "plt.ylabel('tiempo')\n",
    "plt.legend()\n",
    "plt.show()"
   ]
  },
  {
   "cell_type": "code",
   "execution_count": 13,
   "id": "dd438d4e",
   "metadata": {},
   "outputs": [
    {
     "data": {
      "image/png": "[encoded data removed]",
      "text/plain": [
       "<Figure size 432x288 with 1 Axes>"
      ]
     },
     "metadata": {
      "needs_background": "light"
     },
     "output_type": "display_data"
    }
   ],
   "source": [
    "plt.plot(sizes, to0/to1, 'g', label='O1')\n",
    "plt.plot(sizes, to0/to2, 'b', label='O2')\n",
    "plt.plot(sizes, to0/to3, 'y', label='O3')\n",
    "plt.plot(sizes, to0/tos, 'c', label='Os')\n",
    "plt.title('speedup por tamagno')\n",
    "plt.xlabel('tamagno')\n",
    "plt.ylabel('speedup')\n",
    "plt.legend()\n",
    "plt.show()"
   ]
  },
  {
   "cell_type": "code",
   "execution_count": 14,
   "id": "5786d9cc",
   "metadata": {},
   "outputs": [],
   "source": [
    "! rm *.o\n",
    "! rm *.so\n",
    "! rm *.c"
   ]
  }
 ],
 "metadata": {
  "kernelspec": {
   "display_name": "Python 3 (ipykernel)",
   "language": "python",
   "name": "python3"
  },
  "language_info": {
   "codemirror_mode": {
    "name": "ipython",
    "version": 3
   },
   "file_extension": ".py",
   "mimetype": "text/x-python",
   "name": "python",
   "nbconvert_exporter": "python",
   "pygments_lexer": "ipython3",
   "version": "3.8.10"
  }
 },
 "nbformat": 4,
 "nbformat_minor": 5
}
